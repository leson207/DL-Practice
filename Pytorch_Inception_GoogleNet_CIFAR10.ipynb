{
  "nbformat": 4,
  "nbformat_minor": 0,
  "metadata": {
    "colab": {
      "provenance": [],
      "collapsed_sections": [
        "vSavE70G-Uh3",
        "-sruL2dN0hbk",
        "a_U_0d4n1-iE"
      ]
    },
    "kernelspec": {
      "name": "python3",
      "display_name": "Python 3"
    },
    "language_info": {
      "name": "python"
    },
    "widgets": {
      "application/vnd.jupyter.widget-state+json": {
        "9e35fa2437bf4ad893f2ffb0a6c88ce6": {
          "model_module": "@jupyter-widgets/controls",
          "model_name": "HBoxModel",
          "model_module_version": "1.5.0",
          "state": {
            "_dom_classes": [],
            "_model_module": "@jupyter-widgets/controls",
            "_model_module_version": "1.5.0",
            "_model_name": "HBoxModel",
            "_view_count": null,
            "_view_module": "@jupyter-widgets/controls",
            "_view_module_version": "1.5.0",
            "_view_name": "HBoxView",
            "box_style": "",
            "children": [
              "IPY_MODEL_189f058cce0c4e30b3d2b6fcb442452c",
              "IPY_MODEL_2d3e1f7f9a284de49051d06670b1f00d",
              "IPY_MODEL_dd0141a37b964faea9993dc332cd594f"
            ],
            "layout": "IPY_MODEL_0a6ba8d81b1541d78191360a33215eb9"
          }
        },
        "189f058cce0c4e30b3d2b6fcb442452c": {
          "model_module": "@jupyter-widgets/controls",
          "model_name": "HTMLModel",
          "model_module_version": "1.5.0",
          "state": {
            "_dom_classes": [],
            "_model_module": "@jupyter-widgets/controls",
            "_model_module_version": "1.5.0",
            "_model_name": "HTMLModel",
            "_view_count": null,
            "_view_module": "@jupyter-widgets/controls",
            "_view_module_version": "1.5.0",
            "_view_name": "HTMLView",
            "description": "",
            "description_tooltip": null,
            "layout": "IPY_MODEL_5910ea9840ea44cd8bb3090d7440a02e",
            "placeholder": "​",
            "style": "IPY_MODEL_cfb220504a8a4919ac7ba56154a7dc6b",
            "value": "Sanity Checking DataLoader 0: 100%"
          }
        },
        "2d3e1f7f9a284de49051d06670b1f00d": {
          "model_module": "@jupyter-widgets/controls",
          "model_name": "FloatProgressModel",
          "model_module_version": "1.5.0",
          "state": {
            "_dom_classes": [],
            "_model_module": "@jupyter-widgets/controls",
            "_model_module_version": "1.5.0",
            "_model_name": "FloatProgressModel",
            "_view_count": null,
            "_view_module": "@jupyter-widgets/controls",
            "_view_module_version": "1.5.0",
            "_view_name": "ProgressView",
            "bar_style": "",
            "description": "",
            "description_tooltip": null,
            "layout": "IPY_MODEL_730596e622c04f0887e4644028cbc17c",
            "max": 2,
            "min": 0,
            "orientation": "horizontal",
            "style": "IPY_MODEL_d9074917fa844198a7c48ca3e20fee5e",
            "value": 2
          }
        },
        "dd0141a37b964faea9993dc332cd594f": {
          "model_module": "@jupyter-widgets/controls",
          "model_name": "HTMLModel",
          "model_module_version": "1.5.0",
          "state": {
            "_dom_classes": [],
            "_model_module": "@jupyter-widgets/controls",
            "_model_module_version": "1.5.0",
            "_model_name": "HTMLModel",
            "_view_count": null,
            "_view_module": "@jupyter-widgets/controls",
            "_view_module_version": "1.5.0",
            "_view_name": "HTMLView",
            "description": "",
            "description_tooltip": null,
            "layout": "IPY_MODEL_467f5afd49684be78bf1ac4da0ed7483",
            "placeholder": "​",
            "style": "IPY_MODEL_dd861d601f7346c8ba768381c97b618a",
            "value": " 2/2 [00:01&lt;00:00,  1.46it/s]"
          }
        },
        "0a6ba8d81b1541d78191360a33215eb9": {
          "model_module": "@jupyter-widgets/base",
          "model_name": "LayoutModel",
          "model_module_version": "1.2.0",
          "state": {
            "_model_module": "@jupyter-widgets/base",
            "_model_module_version": "1.2.0",
            "_model_name": "LayoutModel",
            "_view_count": null,
            "_view_module": "@jupyter-widgets/base",
            "_view_module_version": "1.2.0",
            "_view_name": "LayoutView",
            "align_content": null,
            "align_items": null,
            "align_self": null,
            "border": null,
            "bottom": null,
            "display": "inline-flex",
            "flex": null,
            "flex_flow": "row wrap",
            "grid_area": null,
            "grid_auto_columns": null,
            "grid_auto_flow": null,
            "grid_auto_rows": null,
            "grid_column": null,
            "grid_gap": null,
            "grid_row": null,
            "grid_template_areas": null,
            "grid_template_columns": null,
            "grid_template_rows": null,
            "height": null,
            "justify_content": null,
            "justify_items": null,
            "left": null,
            "margin": null,
            "max_height": null,
            "max_width": null,
            "min_height": null,
            "min_width": null,
            "object_fit": null,
            "object_position": null,
            "order": null,
            "overflow": null,
            "overflow_x": null,
            "overflow_y": null,
            "padding": null,
            "right": null,
            "top": null,
            "visibility": "hidden",
            "width": "100%"
          }
        },
        "5910ea9840ea44cd8bb3090d7440a02e": {
          "model_module": "@jupyter-widgets/base",
          "model_name": "LayoutModel",
          "model_module_version": "1.2.0",
          "state": {
            "_model_module": "@jupyter-widgets/base",
            "_model_module_version": "1.2.0",
            "_model_name": "LayoutModel",
            "_view_count": null,
            "_view_module": "@jupyter-widgets/base",
            "_view_module_version": "1.2.0",
            "_view_name": "LayoutView",
            "align_content": null,
            "align_items": null,
            "align_self": null,
            "border": null,
            "bottom": null,
            "display": null,
            "flex": null,
            "flex_flow": null,
            "grid_area": null,
            "grid_auto_columns": null,
            "grid_auto_flow": null,
            "grid_auto_rows": null,
            "grid_column": null,
            "grid_gap": null,
            "grid_row": null,
            "grid_template_areas": null,
            "grid_template_columns": null,
            "grid_template_rows": null,
            "height": null,
            "justify_content": null,
            "justify_items": null,
            "left": null,
            "margin": null,
            "max_height": null,
            "max_width": null,
            "min_height": null,
            "min_width": null,
            "object_fit": null,
            "object_position": null,
            "order": null,
            "overflow": null,
            "overflow_x": null,
            "overflow_y": null,
            "padding": null,
            "right": null,
            "top": null,
            "visibility": null,
            "width": null
          }
        },
        "cfb220504a8a4919ac7ba56154a7dc6b": {
          "model_module": "@jupyter-widgets/controls",
          "model_name": "DescriptionStyleModel",
          "model_module_version": "1.5.0",
          "state": {
            "_model_module": "@jupyter-widgets/controls",
            "_model_module_version": "1.5.0",
            "_model_name": "DescriptionStyleModel",
            "_view_count": null,
            "_view_module": "@jupyter-widgets/base",
            "_view_module_version": "1.2.0",
            "_view_name": "StyleView",
            "description_width": ""
          }
        },
        "730596e622c04f0887e4644028cbc17c": {
          "model_module": "@jupyter-widgets/base",
          "model_name": "LayoutModel",
          "model_module_version": "1.2.0",
          "state": {
            "_model_module": "@jupyter-widgets/base",
            "_model_module_version": "1.2.0",
            "_model_name": "LayoutModel",
            "_view_count": null,
            "_view_module": "@jupyter-widgets/base",
            "_view_module_version": "1.2.0",
            "_view_name": "LayoutView",
            "align_content": null,
            "align_items": null,
            "align_self": null,
            "border": null,
            "bottom": null,
            "display": null,
            "flex": "2",
            "flex_flow": null,
            "grid_area": null,
            "grid_auto_columns": null,
            "grid_auto_flow": null,
            "grid_auto_rows": null,
            "grid_column": null,
            "grid_gap": null,
            "grid_row": null,
            "grid_template_areas": null,
            "grid_template_columns": null,
            "grid_template_rows": null,
            "height": null,
            "justify_content": null,
            "justify_items": null,
            "left": null,
            "margin": null,
            "max_height": null,
            "max_width": null,
            "min_height": null,
            "min_width": null,
            "object_fit": null,
            "object_position": null,
            "order": null,
            "overflow": null,
            "overflow_x": null,
            "overflow_y": null,
            "padding": null,
            "right": null,
            "top": null,
            "visibility": null,
            "width": null
          }
        },
        "d9074917fa844198a7c48ca3e20fee5e": {
          "model_module": "@jupyter-widgets/controls",
          "model_name": "ProgressStyleModel",
          "model_module_version": "1.5.0",
          "state": {
            "_model_module": "@jupyter-widgets/controls",
            "_model_module_version": "1.5.0",
            "_model_name": "ProgressStyleModel",
            "_view_count": null,
            "_view_module": "@jupyter-widgets/base",
            "_view_module_version": "1.2.0",
            "_view_name": "StyleView",
            "bar_color": null,
            "description_width": ""
          }
        },
        "467f5afd49684be78bf1ac4da0ed7483": {
          "model_module": "@jupyter-widgets/base",
          "model_name": "LayoutModel",
          "model_module_version": "1.2.0",
          "state": {
            "_model_module": "@jupyter-widgets/base",
            "_model_module_version": "1.2.0",
            "_model_name": "LayoutModel",
            "_view_count": null,
            "_view_module": "@jupyter-widgets/base",
            "_view_module_version": "1.2.0",
            "_view_name": "LayoutView",
            "align_content": null,
            "align_items": null,
            "align_self": null,
            "border": null,
            "bottom": null,
            "display": null,
            "flex": null,
            "flex_flow": null,
            "grid_area": null,
            "grid_auto_columns": null,
            "grid_auto_flow": null,
            "grid_auto_rows": null,
            "grid_column": null,
            "grid_gap": null,
            "grid_row": null,
            "grid_template_areas": null,
            "grid_template_columns": null,
            "grid_template_rows": null,
            "height": null,
            "justify_content": null,
            "justify_items": null,
            "left": null,
            "margin": null,
            "max_height": null,
            "max_width": null,
            "min_height": null,
            "min_width": null,
            "object_fit": null,
            "object_position": null,
            "order": null,
            "overflow": null,
            "overflow_x": null,
            "overflow_y": null,
            "padding": null,
            "right": null,
            "top": null,
            "visibility": null,
            "width": null
          }
        },
        "dd861d601f7346c8ba768381c97b618a": {
          "model_module": "@jupyter-widgets/controls",
          "model_name": "DescriptionStyleModel",
          "model_module_version": "1.5.0",
          "state": {
            "_model_module": "@jupyter-widgets/controls",
            "_model_module_version": "1.5.0",
            "_model_name": "DescriptionStyleModel",
            "_view_count": null,
            "_view_module": "@jupyter-widgets/base",
            "_view_module_version": "1.2.0",
            "_view_name": "StyleView",
            "description_width": ""
          }
        },
        "ea2bf6972a4a49aaa87e31a35e9f5b3e": {
          "model_module": "@jupyter-widgets/controls",
          "model_name": "HBoxModel",
          "model_module_version": "1.5.0",
          "state": {
            "_dom_classes": [],
            "_model_module": "@jupyter-widgets/controls",
            "_model_module_version": "1.5.0",
            "_model_name": "HBoxModel",
            "_view_count": null,
            "_view_module": "@jupyter-widgets/controls",
            "_view_module_version": "1.5.0",
            "_view_name": "HBoxView",
            "box_style": "",
            "children": [
              "IPY_MODEL_b5e08045c6fb411bbeabba65b2e608cc",
              "IPY_MODEL_ab2a83d84d4342b49cfe8273c504d751",
              "IPY_MODEL_88ec92eeba3e4d158e4009a9c071d849"
            ],
            "layout": "IPY_MODEL_4aecd28da5f74256891e01765c40d66d"
          }
        },
        "b5e08045c6fb411bbeabba65b2e608cc": {
          "model_module": "@jupyter-widgets/controls",
          "model_name": "HTMLModel",
          "model_module_version": "1.5.0",
          "state": {
            "_dom_classes": [],
            "_model_module": "@jupyter-widgets/controls",
            "_model_module_version": "1.5.0",
            "_model_name": "HTMLModel",
            "_view_count": null,
            "_view_module": "@jupyter-widgets/controls",
            "_view_module_version": "1.5.0",
            "_view_name": "HTMLView",
            "description": "",
            "description_tooltip": null,
            "layout": "IPY_MODEL_0276170a8a9f4c3eaa6b2ffac8a1e122",
            "placeholder": "​",
            "style": "IPY_MODEL_0edbf62dcefe41e49e04680371c9cbe1",
            "value": "Epoch 2:  96%"
          }
        },
        "ab2a83d84d4342b49cfe8273c504d751": {
          "model_module": "@jupyter-widgets/controls",
          "model_name": "FloatProgressModel",
          "model_module_version": "1.5.0",
          "state": {
            "_dom_classes": [],
            "_model_module": "@jupyter-widgets/controls",
            "_model_module_version": "1.5.0",
            "_model_name": "FloatProgressModel",
            "_view_count": null,
            "_view_module": "@jupyter-widgets/controls",
            "_view_module_version": "1.5.0",
            "_view_name": "ProgressView",
            "bar_style": "",
            "description": "",
            "description_tooltip": null,
            "layout": "IPY_MODEL_72c5a7a35f914b20afddfed963e28f4a",
            "max": 382,
            "min": 0,
            "orientation": "horizontal",
            "style": "IPY_MODEL_636204602c1f4808b4d9aed384b76766",
            "value": 368
          }
        },
        "88ec92eeba3e4d158e4009a9c071d849": {
          "model_module": "@jupyter-widgets/controls",
          "model_name": "HTMLModel",
          "model_module_version": "1.5.0",
          "state": {
            "_dom_classes": [],
            "_model_module": "@jupyter-widgets/controls",
            "_model_module_version": "1.5.0",
            "_model_name": "HTMLModel",
            "_view_count": null,
            "_view_module": "@jupyter-widgets/controls",
            "_view_module_version": "1.5.0",
            "_view_name": "HTMLView",
            "description": "",
            "description_tooltip": null,
            "layout": "IPY_MODEL_c97903c5b85c4e30be31767d3865f37a",
            "placeholder": "​",
            "style": "IPY_MODEL_69098244da2545b198f85acce7f871d7",
            "value": " 368/382 [09:08&lt;00:20,  0.67it/s, v_num=7, train_acc=0.477, train_loss=0.476, val_acc=0.383]"
          }
        },
        "4aecd28da5f74256891e01765c40d66d": {
          "model_module": "@jupyter-widgets/base",
          "model_name": "LayoutModel",
          "model_module_version": "1.2.0",
          "state": {
            "_model_module": "@jupyter-widgets/base",
            "_model_module_version": "1.2.0",
            "_model_name": "LayoutModel",
            "_view_count": null,
            "_view_module": "@jupyter-widgets/base",
            "_view_module_version": "1.2.0",
            "_view_name": "LayoutView",
            "align_content": null,
            "align_items": null,
            "align_self": null,
            "border": null,
            "bottom": null,
            "display": "inline-flex",
            "flex": null,
            "flex_flow": "row wrap",
            "grid_area": null,
            "grid_auto_columns": null,
            "grid_auto_flow": null,
            "grid_auto_rows": null,
            "grid_column": null,
            "grid_gap": null,
            "grid_row": null,
            "grid_template_areas": null,
            "grid_template_columns": null,
            "grid_template_rows": null,
            "height": null,
            "justify_content": null,
            "justify_items": null,
            "left": null,
            "margin": null,
            "max_height": null,
            "max_width": null,
            "min_height": null,
            "min_width": null,
            "object_fit": null,
            "object_position": null,
            "order": null,
            "overflow": null,
            "overflow_x": null,
            "overflow_y": null,
            "padding": null,
            "right": null,
            "top": null,
            "visibility": null,
            "width": "100%"
          }
        },
        "0276170a8a9f4c3eaa6b2ffac8a1e122": {
          "model_module": "@jupyter-widgets/base",
          "model_name": "LayoutModel",
          "model_module_version": "1.2.0",
          "state": {
            "_model_module": "@jupyter-widgets/base",
            "_model_module_version": "1.2.0",
            "_model_name": "LayoutModel",
            "_view_count": null,
            "_view_module": "@jupyter-widgets/base",
            "_view_module_version": "1.2.0",
            "_view_name": "LayoutView",
            "align_content": null,
            "align_items": null,
            "align_self": null,
            "border": null,
            "bottom": null,
            "display": null,
            "flex": null,
            "flex_flow": null,
            "grid_area": null,
            "grid_auto_columns": null,
            "grid_auto_flow": null,
            "grid_auto_rows": null,
            "grid_column": null,
            "grid_gap": null,
            "grid_row": null,
            "grid_template_areas": null,
            "grid_template_columns": null,
            "grid_template_rows": null,
            "height": null,
            "justify_content": null,
            "justify_items": null,
            "left": null,
            "margin": null,
            "max_height": null,
            "max_width": null,
            "min_height": null,
            "min_width": null,
            "object_fit": null,
            "object_position": null,
            "order": null,
            "overflow": null,
            "overflow_x": null,
            "overflow_y": null,
            "padding": null,
            "right": null,
            "top": null,
            "visibility": null,
            "width": null
          }
        },
        "0edbf62dcefe41e49e04680371c9cbe1": {
          "model_module": "@jupyter-widgets/controls",
          "model_name": "DescriptionStyleModel",
          "model_module_version": "1.5.0",
          "state": {
            "_model_module": "@jupyter-widgets/controls",
            "_model_module_version": "1.5.0",
            "_model_name": "DescriptionStyleModel",
            "_view_count": null,
            "_view_module": "@jupyter-widgets/base",
            "_view_module_version": "1.2.0",
            "_view_name": "StyleView",
            "description_width": ""
          }
        },
        "72c5a7a35f914b20afddfed963e28f4a": {
          "model_module": "@jupyter-widgets/base",
          "model_name": "LayoutModel",
          "model_module_version": "1.2.0",
          "state": {
            "_model_module": "@jupyter-widgets/base",
            "_model_module_version": "1.2.0",
            "_model_name": "LayoutModel",
            "_view_count": null,
            "_view_module": "@jupyter-widgets/base",
            "_view_module_version": "1.2.0",
            "_view_name": "LayoutView",
            "align_content": null,
            "align_items": null,
            "align_self": null,
            "border": null,
            "bottom": null,
            "display": null,
            "flex": "2",
            "flex_flow": null,
            "grid_area": null,
            "grid_auto_columns": null,
            "grid_auto_flow": null,
            "grid_auto_rows": null,
            "grid_column": null,
            "grid_gap": null,
            "grid_row": null,
            "grid_template_areas": null,
            "grid_template_columns": null,
            "grid_template_rows": null,
            "height": null,
            "justify_content": null,
            "justify_items": null,
            "left": null,
            "margin": null,
            "max_height": null,
            "max_width": null,
            "min_height": null,
            "min_width": null,
            "object_fit": null,
            "object_position": null,
            "order": null,
            "overflow": null,
            "overflow_x": null,
            "overflow_y": null,
            "padding": null,
            "right": null,
            "top": null,
            "visibility": null,
            "width": null
          }
        },
        "636204602c1f4808b4d9aed384b76766": {
          "model_module": "@jupyter-widgets/controls",
          "model_name": "ProgressStyleModel",
          "model_module_version": "1.5.0",
          "state": {
            "_model_module": "@jupyter-widgets/controls",
            "_model_module_version": "1.5.0",
            "_model_name": "ProgressStyleModel",
            "_view_count": null,
            "_view_module": "@jupyter-widgets/base",
            "_view_module_version": "1.2.0",
            "_view_name": "StyleView",
            "bar_color": null,
            "description_width": ""
          }
        },
        "c97903c5b85c4e30be31767d3865f37a": {
          "model_module": "@jupyter-widgets/base",
          "model_name": "LayoutModel",
          "model_module_version": "1.2.0",
          "state": {
            "_model_module": "@jupyter-widgets/base",
            "_model_module_version": "1.2.0",
            "_model_name": "LayoutModel",
            "_view_count": null,
            "_view_module": "@jupyter-widgets/base",
            "_view_module_version": "1.2.0",
            "_view_name": "LayoutView",
            "align_content": null,
            "align_items": null,
            "align_self": null,
            "border": null,
            "bottom": null,
            "display": null,
            "flex": null,
            "flex_flow": null,
            "grid_area": null,
            "grid_auto_columns": null,
            "grid_auto_flow": null,
            "grid_auto_rows": null,
            "grid_column": null,
            "grid_gap": null,
            "grid_row": null,
            "grid_template_areas": null,
            "grid_template_columns": null,
            "grid_template_rows": null,
            "height": null,
            "justify_content": null,
            "justify_items": null,
            "left": null,
            "margin": null,
            "max_height": null,
            "max_width": null,
            "min_height": null,
            "min_width": null,
            "object_fit": null,
            "object_position": null,
            "order": null,
            "overflow": null,
            "overflow_x": null,
            "overflow_y": null,
            "padding": null,
            "right": null,
            "top": null,
            "visibility": null,
            "width": null
          }
        },
        "69098244da2545b198f85acce7f871d7": {
          "model_module": "@jupyter-widgets/controls",
          "model_name": "DescriptionStyleModel",
          "model_module_version": "1.5.0",
          "state": {
            "_model_module": "@jupyter-widgets/controls",
            "_model_module_version": "1.5.0",
            "_model_name": "DescriptionStyleModel",
            "_view_count": null,
            "_view_module": "@jupyter-widgets/base",
            "_view_module_version": "1.2.0",
            "_view_name": "StyleView",
            "description_width": ""
          }
        },
        "347d29255d4448dbae56a5634f929932": {
          "model_module": "@jupyter-widgets/controls",
          "model_name": "HBoxModel",
          "model_module_version": "1.5.0",
          "state": {
            "_dom_classes": [],
            "_model_module": "@jupyter-widgets/controls",
            "_model_module_version": "1.5.0",
            "_model_name": "HBoxModel",
            "_view_count": null,
            "_view_module": "@jupyter-widgets/controls",
            "_view_module_version": "1.5.0",
            "_view_name": "HBoxView",
            "box_style": "",
            "children": [
              "IPY_MODEL_44f12a2a7ef4476d926d56b996f04a6f",
              "IPY_MODEL_2995340cbbdb43cd8b5a3aa896674246",
              "IPY_MODEL_8543bc7a84e34d37a6201f7f5288b4ee"
            ],
            "layout": "IPY_MODEL_6ecbd6e08b7b4c948cf56967468b816b"
          }
        },
        "44f12a2a7ef4476d926d56b996f04a6f": {
          "model_module": "@jupyter-widgets/controls",
          "model_name": "HTMLModel",
          "model_module_version": "1.5.0",
          "state": {
            "_dom_classes": [],
            "_model_module": "@jupyter-widgets/controls",
            "_model_module_version": "1.5.0",
            "_model_name": "HTMLModel",
            "_view_count": null,
            "_view_module": "@jupyter-widgets/controls",
            "_view_module_version": "1.5.0",
            "_view_name": "HTMLView",
            "description": "",
            "description_tooltip": null,
            "layout": "IPY_MODEL_ad1e97531eae4e82bbe04c134d906732",
            "placeholder": "​",
            "style": "IPY_MODEL_739c0280b0764070b868e4864830b249",
            "value": "Validation DataLoader 0: 100%"
          }
        },
        "2995340cbbdb43cd8b5a3aa896674246": {
          "model_module": "@jupyter-widgets/controls",
          "model_name": "FloatProgressModel",
          "model_module_version": "1.5.0",
          "state": {
            "_dom_classes": [],
            "_model_module": "@jupyter-widgets/controls",
            "_model_module_version": "1.5.0",
            "_model_name": "FloatProgressModel",
            "_view_count": null,
            "_view_module": "@jupyter-widgets/controls",
            "_view_module_version": "1.5.0",
            "_view_name": "ProgressView",
            "bar_style": "",
            "description": "",
            "description_tooltip": null,
            "layout": "IPY_MODEL_2a5a1c5299df4fbabfe8745a35e9405c",
            "max": 7,
            "min": 0,
            "orientation": "horizontal",
            "style": "IPY_MODEL_5d9220974e7044beac4e5a9b15b90017",
            "value": 7
          }
        },
        "8543bc7a84e34d37a6201f7f5288b4ee": {
          "model_module": "@jupyter-widgets/controls",
          "model_name": "HTMLModel",
          "model_module_version": "1.5.0",
          "state": {
            "_dom_classes": [],
            "_model_module": "@jupyter-widgets/controls",
            "_model_module_version": "1.5.0",
            "_model_name": "HTMLModel",
            "_view_count": null,
            "_view_module": "@jupyter-widgets/controls",
            "_view_module_version": "1.5.0",
            "_view_name": "HTMLView",
            "description": "",
            "description_tooltip": null,
            "layout": "IPY_MODEL_0152d30e21284ccca71de8ea6918289c",
            "placeholder": "​",
            "style": "IPY_MODEL_07d55cc034c047b79f8a3dfc82f551a9",
            "value": " 7/7 [00:03&lt;00:00,  2.25it/s]"
          }
        },
        "6ecbd6e08b7b4c948cf56967468b816b": {
          "model_module": "@jupyter-widgets/base",
          "model_name": "LayoutModel",
          "model_module_version": "1.2.0",
          "state": {
            "_model_module": "@jupyter-widgets/base",
            "_model_module_version": "1.2.0",
            "_model_name": "LayoutModel",
            "_view_count": null,
            "_view_module": "@jupyter-widgets/base",
            "_view_module_version": "1.2.0",
            "_view_name": "LayoutView",
            "align_content": null,
            "align_items": null,
            "align_self": null,
            "border": null,
            "bottom": null,
            "display": "inline-flex",
            "flex": null,
            "flex_flow": "row wrap",
            "grid_area": null,
            "grid_auto_columns": null,
            "grid_auto_flow": null,
            "grid_auto_rows": null,
            "grid_column": null,
            "grid_gap": null,
            "grid_row": null,
            "grid_template_areas": null,
            "grid_template_columns": null,
            "grid_template_rows": null,
            "height": null,
            "justify_content": null,
            "justify_items": null,
            "left": null,
            "margin": null,
            "max_height": null,
            "max_width": null,
            "min_height": null,
            "min_width": null,
            "object_fit": null,
            "object_position": null,
            "order": null,
            "overflow": null,
            "overflow_x": null,
            "overflow_y": null,
            "padding": null,
            "right": null,
            "top": null,
            "visibility": "hidden",
            "width": "100%"
          }
        },
        "ad1e97531eae4e82bbe04c134d906732": {
          "model_module": "@jupyter-widgets/base",
          "model_name": "LayoutModel",
          "model_module_version": "1.2.0",
          "state": {
            "_model_module": "@jupyter-widgets/base",
            "_model_module_version": "1.2.0",
            "_model_name": "LayoutModel",
            "_view_count": null,
            "_view_module": "@jupyter-widgets/base",
            "_view_module_version": "1.2.0",
            "_view_name": "LayoutView",
            "align_content": null,
            "align_items": null,
            "align_self": null,
            "border": null,
            "bottom": null,
            "display": null,
            "flex": null,
            "flex_flow": null,
            "grid_area": null,
            "grid_auto_columns": null,
            "grid_auto_flow": null,
            "grid_auto_rows": null,
            "grid_column": null,
            "grid_gap": null,
            "grid_row": null,
            "grid_template_areas": null,
            "grid_template_columns": null,
            "grid_template_rows": null,
            "height": null,
            "justify_content": null,
            "justify_items": null,
            "left": null,
            "margin": null,
            "max_height": null,
            "max_width": null,
            "min_height": null,
            "min_width": null,
            "object_fit": null,
            "object_position": null,
            "order": null,
            "overflow": null,
            "overflow_x": null,
            "overflow_y": null,
            "padding": null,
            "right": null,
            "top": null,
            "visibility": null,
            "width": null
          }
        },
        "739c0280b0764070b868e4864830b249": {
          "model_module": "@jupyter-widgets/controls",
          "model_name": "DescriptionStyleModel",
          "model_module_version": "1.5.0",
          "state": {
            "_model_module": "@jupyter-widgets/controls",
            "_model_module_version": "1.5.0",
            "_model_name": "DescriptionStyleModel",
            "_view_count": null,
            "_view_module": "@jupyter-widgets/base",
            "_view_module_version": "1.2.0",
            "_view_name": "StyleView",
            "description_width": ""
          }
        },
        "2a5a1c5299df4fbabfe8745a35e9405c": {
          "model_module": "@jupyter-widgets/base",
          "model_name": "LayoutModel",
          "model_module_version": "1.2.0",
          "state": {
            "_model_module": "@jupyter-widgets/base",
            "_model_module_version": "1.2.0",
            "_model_name": "LayoutModel",
            "_view_count": null,
            "_view_module": "@jupyter-widgets/base",
            "_view_module_version": "1.2.0",
            "_view_name": "LayoutView",
            "align_content": null,
            "align_items": null,
            "align_self": null,
            "border": null,
            "bottom": null,
            "display": null,
            "flex": "2",
            "flex_flow": null,
            "grid_area": null,
            "grid_auto_columns": null,
            "grid_auto_flow": null,
            "grid_auto_rows": null,
            "grid_column": null,
            "grid_gap": null,
            "grid_row": null,
            "grid_template_areas": null,
            "grid_template_columns": null,
            "grid_template_rows": null,
            "height": null,
            "justify_content": null,
            "justify_items": null,
            "left": null,
            "margin": null,
            "max_height": null,
            "max_width": null,
            "min_height": null,
            "min_width": null,
            "object_fit": null,
            "object_position": null,
            "order": null,
            "overflow": null,
            "overflow_x": null,
            "overflow_y": null,
            "padding": null,
            "right": null,
            "top": null,
            "visibility": null,
            "width": null
          }
        },
        "5d9220974e7044beac4e5a9b15b90017": {
          "model_module": "@jupyter-widgets/controls",
          "model_name": "ProgressStyleModel",
          "model_module_version": "1.5.0",
          "state": {
            "_model_module": "@jupyter-widgets/controls",
            "_model_module_version": "1.5.0",
            "_model_name": "ProgressStyleModel",
            "_view_count": null,
            "_view_module": "@jupyter-widgets/base",
            "_view_module_version": "1.2.0",
            "_view_name": "StyleView",
            "bar_color": null,
            "description_width": ""
          }
        },
        "0152d30e21284ccca71de8ea6918289c": {
          "model_module": "@jupyter-widgets/base",
          "model_name": "LayoutModel",
          "model_module_version": "1.2.0",
          "state": {
            "_model_module": "@jupyter-widgets/base",
            "_model_module_version": "1.2.0",
            "_model_name": "LayoutModel",
            "_view_count": null,
            "_view_module": "@jupyter-widgets/base",
            "_view_module_version": "1.2.0",
            "_view_name": "LayoutView",
            "align_content": null,
            "align_items": null,
            "align_self": null,
            "border": null,
            "bottom": null,
            "display": null,
            "flex": null,
            "flex_flow": null,
            "grid_area": null,
            "grid_auto_columns": null,
            "grid_auto_flow": null,
            "grid_auto_rows": null,
            "grid_column": null,
            "grid_gap": null,
            "grid_row": null,
            "grid_template_areas": null,
            "grid_template_columns": null,
            "grid_template_rows": null,
            "height": null,
            "justify_content": null,
            "justify_items": null,
            "left": null,
            "margin": null,
            "max_height": null,
            "max_width": null,
            "min_height": null,
            "min_width": null,
            "object_fit": null,
            "object_position": null,
            "order": null,
            "overflow": null,
            "overflow_x": null,
            "overflow_y": null,
            "padding": null,
            "right": null,
            "top": null,
            "visibility": null,
            "width": null
          }
        },
        "07d55cc034c047b79f8a3dfc82f551a9": {
          "model_module": "@jupyter-widgets/controls",
          "model_name": "DescriptionStyleModel",
          "model_module_version": "1.5.0",
          "state": {
            "_model_module": "@jupyter-widgets/controls",
            "_model_module_version": "1.5.0",
            "_model_name": "DescriptionStyleModel",
            "_view_count": null,
            "_view_module": "@jupyter-widgets/base",
            "_view_module_version": "1.2.0",
            "_view_name": "StyleView",
            "description_width": ""
          }
        },
        "bdf6ae2ba4444e7da825fd3a1666e273": {
          "model_module": "@jupyter-widgets/controls",
          "model_name": "HBoxModel",
          "model_module_version": "1.5.0",
          "state": {
            "_dom_classes": [],
            "_model_module": "@jupyter-widgets/controls",
            "_model_module_version": "1.5.0",
            "_model_name": "HBoxModel",
            "_view_count": null,
            "_view_module": "@jupyter-widgets/controls",
            "_view_module_version": "1.5.0",
            "_view_name": "HBoxView",
            "box_style": "",
            "children": [
              "IPY_MODEL_84cba9d459ec4f6eb6e331971c4e5c6d",
              "IPY_MODEL_af68fa896961416594480d4fa7848db2",
              "IPY_MODEL_b48f971eecb745f185d2bde17453e9d1"
            ],
            "layout": "IPY_MODEL_e4651e76c2de488aaa13d6915506665a"
          }
        },
        "84cba9d459ec4f6eb6e331971c4e5c6d": {
          "model_module": "@jupyter-widgets/controls",
          "model_name": "HTMLModel",
          "model_module_version": "1.5.0",
          "state": {
            "_dom_classes": [],
            "_model_module": "@jupyter-widgets/controls",
            "_model_module_version": "1.5.0",
            "_model_name": "HTMLModel",
            "_view_count": null,
            "_view_module": "@jupyter-widgets/controls",
            "_view_module_version": "1.5.0",
            "_view_name": "HTMLView",
            "description": "",
            "description_tooltip": null,
            "layout": "IPY_MODEL_c54e416839fd4b7c9cb056b1e2164e5b",
            "placeholder": "​",
            "style": "IPY_MODEL_25d639f890ec47478aac5bf2b98b39f6",
            "value": "Validation DataLoader 0: 100%"
          }
        },
        "af68fa896961416594480d4fa7848db2": {
          "model_module": "@jupyter-widgets/controls",
          "model_name": "FloatProgressModel",
          "model_module_version": "1.5.0",
          "state": {
            "_dom_classes": [],
            "_model_module": "@jupyter-widgets/controls",
            "_model_module_version": "1.5.0",
            "_model_name": "FloatProgressModel",
            "_view_count": null,
            "_view_module": "@jupyter-widgets/controls",
            "_view_module_version": "1.5.0",
            "_view_name": "ProgressView",
            "bar_style": "",
            "description": "",
            "description_tooltip": null,
            "layout": "IPY_MODEL_be8220844b474e8487a929097fd49bcf",
            "max": 7,
            "min": 0,
            "orientation": "horizontal",
            "style": "IPY_MODEL_4840d9c878e64a86add0c2934a942e7a",
            "value": 7
          }
        },
        "b48f971eecb745f185d2bde17453e9d1": {
          "model_module": "@jupyter-widgets/controls",
          "model_name": "HTMLModel",
          "model_module_version": "1.5.0",
          "state": {
            "_dom_classes": [],
            "_model_module": "@jupyter-widgets/controls",
            "_model_module_version": "1.5.0",
            "_model_name": "HTMLModel",
            "_view_count": null,
            "_view_module": "@jupyter-widgets/controls",
            "_view_module_version": "1.5.0",
            "_view_name": "HTMLView",
            "description": "",
            "description_tooltip": null,
            "layout": "IPY_MODEL_d8e3c0c4a987406c957ae0e114e8bed6",
            "placeholder": "​",
            "style": "IPY_MODEL_73a75f8ab9c4483dbf79508d80298617",
            "value": " 7/7 [00:03&lt;00:00,  1.77it/s]"
          }
        },
        "e4651e76c2de488aaa13d6915506665a": {
          "model_module": "@jupyter-widgets/base",
          "model_name": "LayoutModel",
          "model_module_version": "1.2.0",
          "state": {
            "_model_module": "@jupyter-widgets/base",
            "_model_module_version": "1.2.0",
            "_model_name": "LayoutModel",
            "_view_count": null,
            "_view_module": "@jupyter-widgets/base",
            "_view_module_version": "1.2.0",
            "_view_name": "LayoutView",
            "align_content": null,
            "align_items": null,
            "align_self": null,
            "border": null,
            "bottom": null,
            "display": "inline-flex",
            "flex": null,
            "flex_flow": "row wrap",
            "grid_area": null,
            "grid_auto_columns": null,
            "grid_auto_flow": null,
            "grid_auto_rows": null,
            "grid_column": null,
            "grid_gap": null,
            "grid_row": null,
            "grid_template_areas": null,
            "grid_template_columns": null,
            "grid_template_rows": null,
            "height": null,
            "justify_content": null,
            "justify_items": null,
            "left": null,
            "margin": null,
            "max_height": null,
            "max_width": null,
            "min_height": null,
            "min_width": null,
            "object_fit": null,
            "object_position": null,
            "order": null,
            "overflow": null,
            "overflow_x": null,
            "overflow_y": null,
            "padding": null,
            "right": null,
            "top": null,
            "visibility": "hidden",
            "width": "100%"
          }
        },
        "c54e416839fd4b7c9cb056b1e2164e5b": {
          "model_module": "@jupyter-widgets/base",
          "model_name": "LayoutModel",
          "model_module_version": "1.2.0",
          "state": {
            "_model_module": "@jupyter-widgets/base",
            "_model_module_version": "1.2.0",
            "_model_name": "LayoutModel",
            "_view_count": null,
            "_view_module": "@jupyter-widgets/base",
            "_view_module_version": "1.2.0",
            "_view_name": "LayoutView",
            "align_content": null,
            "align_items": null,
            "align_self": null,
            "border": null,
            "bottom": null,
            "display": null,
            "flex": null,
            "flex_flow": null,
            "grid_area": null,
            "grid_auto_columns": null,
            "grid_auto_flow": null,
            "grid_auto_rows": null,
            "grid_column": null,
            "grid_gap": null,
            "grid_row": null,
            "grid_template_areas": null,
            "grid_template_columns": null,
            "grid_template_rows": null,
            "height": null,
            "justify_content": null,
            "justify_items": null,
            "left": null,
            "margin": null,
            "max_height": null,
            "max_width": null,
            "min_height": null,
            "min_width": null,
            "object_fit": null,
            "object_position": null,
            "order": null,
            "overflow": null,
            "overflow_x": null,
            "overflow_y": null,
            "padding": null,
            "right": null,
            "top": null,
            "visibility": null,
            "width": null
          }
        },
        "25d639f890ec47478aac5bf2b98b39f6": {
          "model_module": "@jupyter-widgets/controls",
          "model_name": "DescriptionStyleModel",
          "model_module_version": "1.5.0",
          "state": {
            "_model_module": "@jupyter-widgets/controls",
            "_model_module_version": "1.5.0",
            "_model_name": "DescriptionStyleModel",
            "_view_count": null,
            "_view_module": "@jupyter-widgets/base",
            "_view_module_version": "1.2.0",
            "_view_name": "StyleView",
            "description_width": ""
          }
        },
        "be8220844b474e8487a929097fd49bcf": {
          "model_module": "@jupyter-widgets/base",
          "model_name": "LayoutModel",
          "model_module_version": "1.2.0",
          "state": {
            "_model_module": "@jupyter-widgets/base",
            "_model_module_version": "1.2.0",
            "_model_name": "LayoutModel",
            "_view_count": null,
            "_view_module": "@jupyter-widgets/base",
            "_view_module_version": "1.2.0",
            "_view_name": "LayoutView",
            "align_content": null,
            "align_items": null,
            "align_self": null,
            "border": null,
            "bottom": null,
            "display": null,
            "flex": "2",
            "flex_flow": null,
            "grid_area": null,
            "grid_auto_columns": null,
            "grid_auto_flow": null,
            "grid_auto_rows": null,
            "grid_column": null,
            "grid_gap": null,
            "grid_row": null,
            "grid_template_areas": null,
            "grid_template_columns": null,
            "grid_template_rows": null,
            "height": null,
            "justify_content": null,
            "justify_items": null,
            "left": null,
            "margin": null,
            "max_height": null,
            "max_width": null,
            "min_height": null,
            "min_width": null,
            "object_fit": null,
            "object_position": null,
            "order": null,
            "overflow": null,
            "overflow_x": null,
            "overflow_y": null,
            "padding": null,
            "right": null,
            "top": null,
            "visibility": null,
            "width": null
          }
        },
        "4840d9c878e64a86add0c2934a942e7a": {
          "model_module": "@jupyter-widgets/controls",
          "model_name": "ProgressStyleModel",
          "model_module_version": "1.5.0",
          "state": {
            "_model_module": "@jupyter-widgets/controls",
            "_model_module_version": "1.5.0",
            "_model_name": "ProgressStyleModel",
            "_view_count": null,
            "_view_module": "@jupyter-widgets/base",
            "_view_module_version": "1.2.0",
            "_view_name": "StyleView",
            "bar_color": null,
            "description_width": ""
          }
        },
        "d8e3c0c4a987406c957ae0e114e8bed6": {
          "model_module": "@jupyter-widgets/base",
          "model_name": "LayoutModel",
          "model_module_version": "1.2.0",
          "state": {
            "_model_module": "@jupyter-widgets/base",
            "_model_module_version": "1.2.0",
            "_model_name": "LayoutModel",
            "_view_count": null,
            "_view_module": "@jupyter-widgets/base",
            "_view_module_version": "1.2.0",
            "_view_name": "LayoutView",
            "align_content": null,
            "align_items": null,
            "align_self": null,
            "border": null,
            "bottom": null,
            "display": null,
            "flex": null,
            "flex_flow": null,
            "grid_area": null,
            "grid_auto_columns": null,
            "grid_auto_flow": null,
            "grid_auto_rows": null,
            "grid_column": null,
            "grid_gap": null,
            "grid_row": null,
            "grid_template_areas": null,
            "grid_template_columns": null,
            "grid_template_rows": null,
            "height": null,
            "justify_content": null,
            "justify_items": null,
            "left": null,
            "margin": null,
            "max_height": null,
            "max_width": null,
            "min_height": null,
            "min_width": null,
            "object_fit": null,
            "object_position": null,
            "order": null,
            "overflow": null,
            "overflow_x": null,
            "overflow_y": null,
            "padding": null,
            "right": null,
            "top": null,
            "visibility": null,
            "width": null
          }
        },
        "73a75f8ab9c4483dbf79508d80298617": {
          "model_module": "@jupyter-widgets/controls",
          "model_name": "DescriptionStyleModel",
          "model_module_version": "1.5.0",
          "state": {
            "_model_module": "@jupyter-widgets/controls",
            "_model_module_version": "1.5.0",
            "_model_name": "DescriptionStyleModel",
            "_view_count": null,
            "_view_module": "@jupyter-widgets/base",
            "_view_module_version": "1.2.0",
            "_view_name": "StyleView",
            "description_width": ""
          }
        }
      }
    }
  },
  "cells": [
    {
      "cell_type": "markdown",
      "source": [
        "# Setup"
      ],
      "metadata": {
        "id": "vSavE70G-Uh3"
      }
    },
    {
      "cell_type": "code",
      "execution_count": null,
      "metadata": {
        "colab": {
          "base_uri": "https://localhost:8080/"
        },
        "id": "Y5ucfq5g0dMb",
        "outputId": "5d2ab644-338b-491e-e705-5896553238d7"
      },
      "outputs": [
        {
          "output_type": "stream",
          "name": "stdout",
          "text": [
            "Requirement already satisfied: datasets in /usr/local/lib/python3.10/dist-packages (3.0.0)\n",
            "Requirement already satisfied: filelock in /usr/local/lib/python3.10/dist-packages (from datasets) (3.16.1)\n",
            "Requirement already satisfied: numpy>=1.17 in /usr/local/lib/python3.10/dist-packages (from datasets) (1.26.4)\n",
            "Requirement already satisfied: pyarrow>=15.0.0 in /usr/local/lib/python3.10/dist-packages (from datasets) (17.0.0)\n",
            "Requirement already satisfied: dill<0.3.9,>=0.3.0 in /usr/local/lib/python3.10/dist-packages (from datasets) (0.3.8)\n",
            "Requirement already satisfied: pandas in /usr/local/lib/python3.10/dist-packages (from datasets) (2.1.4)\n",
            "Requirement already satisfied: requests>=2.32.2 in /usr/local/lib/python3.10/dist-packages (from datasets) (2.32.3)\n",
            "Requirement already satisfied: tqdm>=4.66.3 in /usr/local/lib/python3.10/dist-packages (from datasets) (4.66.5)\n",
            "Requirement already satisfied: xxhash in /usr/local/lib/python3.10/dist-packages (from datasets) (3.5.0)\n",
            "Requirement already satisfied: multiprocess in /usr/local/lib/python3.10/dist-packages (from datasets) (0.70.16)\n",
            "Requirement already satisfied: fsspec<=2024.6.1,>=2023.1.0 in /usr/local/lib/python3.10/dist-packages (from fsspec[http]<=2024.6.1,>=2023.1.0->datasets) (2024.6.1)\n",
            "Requirement already satisfied: aiohttp in /usr/local/lib/python3.10/dist-packages (from datasets) (3.10.5)\n",
            "Requirement already satisfied: huggingface-hub>=0.22.0 in /usr/local/lib/python3.10/dist-packages (from datasets) (0.24.7)\n",
            "Requirement already satisfied: packaging in /usr/local/lib/python3.10/dist-packages (from datasets) (24.1)\n",
            "Requirement already satisfied: pyyaml>=5.1 in /usr/local/lib/python3.10/dist-packages (from datasets) (6.0.2)\n",
            "Requirement already satisfied: aiohappyeyeballs>=2.3.0 in /usr/local/lib/python3.10/dist-packages (from aiohttp->datasets) (2.4.0)\n",
            "Requirement already satisfied: aiosignal>=1.1.2 in /usr/local/lib/python3.10/dist-packages (from aiohttp->datasets) (1.3.1)\n",
            "Requirement already satisfied: attrs>=17.3.0 in /usr/local/lib/python3.10/dist-packages (from aiohttp->datasets) (24.2.0)\n",
            "Requirement already satisfied: frozenlist>=1.1.1 in /usr/local/lib/python3.10/dist-packages (from aiohttp->datasets) (1.4.1)\n",
            "Requirement already satisfied: multidict<7.0,>=4.5 in /usr/local/lib/python3.10/dist-packages (from aiohttp->datasets) (6.1.0)\n",
            "Requirement already satisfied: yarl<2.0,>=1.0 in /usr/local/lib/python3.10/dist-packages (from aiohttp->datasets) (1.11.1)\n",
            "Requirement already satisfied: async-timeout<5.0,>=4.0 in /usr/local/lib/python3.10/dist-packages (from aiohttp->datasets) (4.0.3)\n",
            "Requirement already satisfied: typing-extensions>=3.7.4.3 in /usr/local/lib/python3.10/dist-packages (from huggingface-hub>=0.22.0->datasets) (4.12.2)\n",
            "Requirement already satisfied: charset-normalizer<4,>=2 in /usr/local/lib/python3.10/dist-packages (from requests>=2.32.2->datasets) (3.3.2)\n",
            "Requirement already satisfied: idna<4,>=2.5 in /usr/local/lib/python3.10/dist-packages (from requests>=2.32.2->datasets) (3.10)\n",
            "Requirement already satisfied: urllib3<3,>=1.21.1 in /usr/local/lib/python3.10/dist-packages (from requests>=2.32.2->datasets) (2.2.3)\n",
            "Requirement already satisfied: certifi>=2017.4.17 in /usr/local/lib/python3.10/dist-packages (from requests>=2.32.2->datasets) (2024.8.30)\n",
            "Requirement already satisfied: python-dateutil>=2.8.2 in /usr/local/lib/python3.10/dist-packages (from pandas->datasets) (2.8.2)\n",
            "Requirement already satisfied: pytz>=2020.1 in /usr/local/lib/python3.10/dist-packages (from pandas->datasets) (2024.2)\n",
            "Requirement already satisfied: tzdata>=2022.1 in /usr/local/lib/python3.10/dist-packages (from pandas->datasets) (2024.1)\n",
            "Requirement already satisfied: six>=1.5 in /usr/local/lib/python3.10/dist-packages (from python-dateutil>=2.8.2->pandas->datasets) (1.16.0)\n"
          ]
        }
      ],
      "source": [
        "!pip -q install lightning"
      ]
    },
    {
      "cell_type": "markdown",
      "source": [
        "# ENV"
      ],
      "metadata": {
        "id": "-sruL2dN0hbk"
      }
    },
    {
      "cell_type": "code",
      "source": [
        "import torch\n",
        "from torch import nn\n",
        "from torch.nn import functional as F\n",
        "from torch.utils.data import DataLoader, random_split\n",
        "\n",
        "import numpy as np\n",
        "import pandas as pd\n",
        "from einops.layers.torch import Rearrange, Reduce\n",
        "from einops import reduce, rearrange, repeat, einsum, parse_shape, pack, unpack"
      ],
      "metadata": {
        "id": "oF9E4O9y0jVN"
      },
      "execution_count": null,
      "outputs": []
    },
    {
      "cell_type": "code",
      "source": [
        "import seaborn as sns\n",
        "sns.set()\n",
        "\n",
        "import matplotlib\n",
        "from matplotlib import pyplot as plt\n",
        "%matplotlib inline\n",
        "matplotlib.rcParams['lines.linewidth']=2\n",
        "\n",
        "import matplotlib_inline\n",
        "matplotlib_inline.backend_inline.set_matplotlib_formats('svg', 'pdf')"
      ],
      "metadata": {
        "id": "UcHADvwo1DAl"
      },
      "execution_count": null,
      "outputs": []
    },
    {
      "cell_type": "code",
      "source": [
        "import lightning as L"
      ],
      "metadata": {
        "id": "gdxodOMb1iqg"
      },
      "execution_count": null,
      "outputs": []
    },
    {
      "cell_type": "code",
      "source": [
        "seed=42\n",
        "L.seed_everything(seed)\n",
        "torch.backends.cudnn.deterministic=True\n",
        "torch.backends.cudnnbenmark=False\n",
        "device='cuda' if torch.cuda.is_available() else 'cpu'\n",
        "device"
      ],
      "metadata": {
        "colab": {
          "base_uri": "https://localhost:8080/",
          "height": 70
        },
        "id": "gww4lzF52Fo9",
        "outputId": "6289c01f-24e7-4843-ce7a-c565e8604d68"
      },
      "execution_count": null,
      "outputs": [
        {
          "output_type": "stream",
          "name": "stderr",
          "text": [
            "INFO: Seed set to 42\n",
            "INFO:lightning.fabric.utilities.seed:Seed set to 42\n"
          ]
        },
        {
          "output_type": "execute_result",
          "data": {
            "text/plain": [
              "'cpu'"
            ],
            "application/vnd.google.colaboratory.intrinsic+json": {
              "type": "string"
            }
          },
          "metadata": {},
          "execution_count": 4
        }
      ]
    },
    {
      "cell_type": "markdown",
      "source": [
        "# Data\n"
      ],
      "metadata": {
        "id": "a_U_0d4n1-iE"
      }
    },
    {
      "cell_type": "code",
      "source": [
        "from torchvision import transforms\n",
        "from torchvision.datasets import CIFAR10\n",
        "from collections import Counter\n",
        "\n",
        "class DataModule(L.LightningDataModule):\n",
        "    def __init__(self, batch_size=32):\n",
        "        super().__init__()\n",
        "        self.batch_size=batch_size\n",
        "        self.transform=transforms.Compose([\n",
        "            transforms.ToTensor(),\n",
        "            transforms.Normalize((0.1307,), (0.3081,))\n",
        "        ])\n",
        "\n",
        "        self.image_size=[3,32,32]\n",
        "        self.num_classes=10\n",
        "\n",
        "    def prepare_data(self):\n",
        "        pass\n",
        "\n",
        "    def setup(self, stage=None):\n",
        "        if stage=='fit' or stage is None:\n",
        "            dataset=CIFAR10('.', download=True, train=True, transform=self.transform)\n",
        "            self.train, self.val = random_split(dataset, [49000, 1000])\n",
        "        if stage=='test' or stage is None:\n",
        "            self.test=CIFAR10('.', download=True, train=False, transform=self.transform)\n",
        "\n",
        "    def train_dataloader(self):\n",
        "        return DataLoader(self.train, batch_size=self.batch_size, shuffle=True, drop_last=True)\n",
        "\n",
        "    def val_dataloader(self):\n",
        "        return DataLoader(self.val, batch_size=self.batch_size, shuffle=False, drop_last=True)\n",
        "\n",
        "    def test_dataloader(self):\n",
        "        return DataLoader(self.test, batch_size=self.batch_size, shuffle=False, drop_last=True)\n",
        "\n",
        "tmp=DataModule(128)\n",
        "tmp.setup()\n",
        "batch=next(iter(tmp.train_dataloader()))\n",
        "print(len(batch))\n",
        "print(batch[0].shape)\n",
        "print(batch[1].shape)"
      ],
      "metadata": {
        "colab": {
          "base_uri": "https://localhost:8080/"
        },
        "id": "aYqIRErr423U",
        "outputId": "b6c7d7f4-d1af-4784-d3ba-08274144025b"
      },
      "execution_count": null,
      "outputs": [
        {
          "output_type": "stream",
          "name": "stdout",
          "text": [
            "Files already downloaded and verified\n",
            "Files already downloaded and verified\n",
            "2\n",
            "torch.Size([128, 3, 32, 32])\n",
            "torch.Size([128])\n"
          ]
        }
      ]
    },
    {
      "cell_type": "code",
      "source": [
        "from torchvision.utils import make_grid\n",
        "\n",
        "def show_image(images, num_images, image_size=[3,32,32]):\n",
        "    images=images.detach().cpu()\n",
        "    grid_image=make_grid(images[:num_images], nrow=8)\n",
        "    plt.imshow(grid_image.permute(1,2,0))\n",
        "    plt.axis('off')\n",
        "    plt.show()\n",
        "\n",
        "show_image(batch[0],16)"
      ],
      "metadata": {
        "colab": {
          "base_uri": "https://localhost:8080/",
          "height": 180
        },
        "id": "QycLI8yk7W6H",
        "outputId": "df96aa07-5f78-4c9a-fcca-effebd015353"
      },
      "execution_count": null,
      "outputs": [
        {
          "output_type": "stream",
          "name": "stderr",
          "text": [
            "WARNING:matplotlib.image:Clipping input data to the valid range for imshow with RGB data ([0..1] for floats or [0..255] for integers).\n"
          ]
        },
        {
          "output_type": "display_data",
          "data": {
            "text/plain": [
              "<Figure size 640x480 with 1 Axes>"
            ],
            "image/svg+xml": "<?xml version=\"1.0\" encoding=\"utf-8\" standalone=\"no\"?>\n<!DOCTYPE svg PUBLIC \"-//W3C//DTD SVG 1.1//EN\"\n  \"http://www.w3.org/Graphics/SVG/1.1/DTD/svg11.dtd\">\n<svg xmlns:xlink=\"http://www.w3.org/1999/xlink\" width=\"371.52pt\" height=\"105.635036pt\" viewBox=\"0 0 371.52 105.635036\" xmlns=\"http://www.w3.org/2000/svg\" version=\"1.1\">\n <metadata>\n  <rdf:RDF xmlns:dc=\"http://purl.org/dc/elements/1.1/\" xmlns:cc=\"http://creativecommons.org/ns#\" xmlns:rdf=\"http://www.w3.org/1999/02/22-rdf-syntax-ns#\">\n   <cc:Work>\n    <dc:type rdf:resource=\"http://purl.org/dc/dcmitype/StillImage\"/>\n    <dc:date>2024-09-26T01:58:10.201732</dc:date>\n    <dc:format>image/svg+xml</dc:format>\n    <dc:creator>\n     <cc:Agent>\n      <dc:title>Matplotlib v3.7.1, https://matplotlib.org/</dc:title>\n     </cc:Agent>\n    </dc:creator>\n   </cc:Work>\n  </rdf:RDF>\n </metadata>\n <defs>\n  <style type=\"text/css\">*{stroke-linejoin: round; stroke-linecap: butt}</style>\n </defs>\n <g id=\"figure_1\">\n  <g id=\"patch_1\">\n   <path d=\"M 0 105.635036 \nL 371.52 105.635036 \nL 371.52 0 \nL 0 0 \nz\n\" style=\"fill: #ffffff\"/>\n  </g>\n  <g id=\"axes_1\">\n   <g clip-path=\"url(#p0cb6121a56)\">\n    <image xlink:href=\"data:image/png;base64,\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\" id=\"image9de28d381c\" transform=\"scale(1 -1) translate(0 -91.44)\" x=\"7.2\" y=\"-6.995036\" width=\"357.84\" height=\"91.44\"/>\n   </g>\n  </g>\n </g>\n <defs>\n  <clipPath id=\"p0cb6121a56\">\n   <rect x=\"7.2\" y=\"7.2\" width=\"357.12\" height=\"91.235036\"/>\n  </clipPath>\n </defs>\n</svg>\n",
            "application/pdf": "[encoded data removed]"
          },
          "metadata": {}
        }
      ]
    },
    {
      "cell_type": "markdown",
      "source": [
        "# Architecture"
      ],
      "metadata": {
        "id": "fv510OA98H-a"
      }
    },
    {
      "cell_type": "code",
      "source": [
        "class ConvBlock(nn.Module):\n",
        "    def __init__(self, in_channels, out_channels, kernel_size, **kwargs):\n",
        "        super().__init__()\n",
        "        self.conv = nn.Conv2d(in_channels, out_channels,kernel_size, **kwargs)\n",
        "\n",
        "    def forward(self, x):\n",
        "        x = self.conv(x)\n",
        "        return F.relu(x, inplace=True)\n",
        "\n",
        "x=torch.rand([7,3,32,32])\n",
        "tmp=ConvBlock(3,17, 3)\n",
        "tmp(x).shape"
      ],
      "metadata": {
        "colab": {
          "base_uri": "https://localhost:8080/"
        },
        "id": "ecFB0Lhk8LO6",
        "outputId": "f2648c66-b945-4fc6-ba98-92adbd97b444"
      },
      "execution_count": null,
      "outputs": [
        {
          "output_type": "execute_result",
          "data": {
            "text/plain": [
              "torch.Size([7, 17, 30, 30])"
            ]
          },
          "metadata": {},
          "execution_count": 39
        }
      ]
    },
    {
      "cell_type": "code",
      "source": [
        "class InceptionBlock(nn.Module):\n",
        "    def __init__(self, in_channels, ch1x1, ch3x3_red, ch3x3, ch5x5_red, ch5x5, pool_proj):\n",
        "        super().__init__()\n",
        "\n",
        "        self.b1 = ConvBlock(in_channels, ch1x1, kernel_size=1)\n",
        "\n",
        "        self.b2 = nn.Sequential(\n",
        "            ConvBlock(in_channels, ch3x3_red, kernel_size=1),\n",
        "            ConvBlock(ch3x3_red, ch3x3, kernel_size=3, padding=1),\n",
        "        )\n",
        "\n",
        "        self.b3 = nn.Sequential(\n",
        "            ConvBlock(in_channels, ch5x5_red, kernel_size=1),\n",
        "            ConvBlock(ch5x5_red, ch5x5, kernel_size=5, padding=2),\n",
        "        )\n",
        "\n",
        "        self.b4 = nn.Sequential(\n",
        "            nn.MaxPool2d(3, stride=1, padding=1),\n",
        "            ConvBlock(in_channels, pool_proj, kernel_size=1),\n",
        "        )\n",
        "\n",
        "    def forward(self, x):\n",
        "        y1 = self.b1(x)\n",
        "        y2 = self.b2(x)\n",
        "        y3 = self.b3(x)\n",
        "        y4 = self.b4(x)\n",
        "        return torch.cat([y1, y2, y3, y4], 1)\n",
        "\n",
        "x=torch.rand([7,3,32,32])\n",
        "tmp=InceptionBlock(3, 1 ,1 ,1 ,1 ,1 ,1)\n",
        "tmp(x).shape"
      ],
      "metadata": {
        "colab": {
          "base_uri": "https://localhost:8080/"
        },
        "id": "w8j8M1Q88w5_",
        "outputId": "0cc73ee4-01ce-4f2a-b3f6-2ff9407377af"
      },
      "execution_count": null,
      "outputs": [
        {
          "output_type": "execute_result",
          "data": {
            "text/plain": [
              "torch.Size([7, 4, 32, 32])"
            ]
          },
          "metadata": {},
          "execution_count": 40
        }
      ]
    },
    {
      "cell_type": "code",
      "source": [
        "class AuxiliaryClassifier(nn.Module):\n",
        "    def __init__(self, in_channels, num_classes, drop_rate=0.7, ):\n",
        "        super().__init__()\n",
        "        self.layer = nn.Sequential(nn.AvgPool2d(1, stride=3),\n",
        "                                   ConvBlock(in_channels, 128, kernel_size=1),\n",
        "                                   nn.ReLU(inplace=False),\n",
        "                                   Rearrange('b c h w -> b (c h w)'),\n",
        "                                   nn.Linear(128,1024),\n",
        "                                   nn.Dropout(drop_rate),\n",
        "                                   nn.Linear(1024,num_classes))\n",
        "\n",
        "    def forward(self, x):\n",
        "        return self.layer(x)\n",
        "\n",
        "\n",
        "x=torch.rand([7,2,2,2])\n",
        "tmp=AuxiliaryClassifier(2, 10)\n",
        "tmp(x).shape"
      ],
      "metadata": {
        "colab": {
          "base_uri": "https://localhost:8080/"
        },
        "id": "Qwx4euZL9ima",
        "outputId": "957c1a9b-14c2-4fdd-973d-840de92d9546"
      },
      "execution_count": null,
      "outputs": [
        {
          "output_type": "execute_result",
          "data": {
            "text/plain": [
              "torch.Size([7, 10])"
            ]
          },
          "metadata": {},
          "execution_count": 76
        }
      ]
    },
    {
      "cell_type": "code",
      "source": [
        "class GoogLeNet(nn.Module):\n",
        "    def __init__(self, num_classes, use_aux=True):\n",
        "        super(GoogLeNet, self).__init__()\n",
        "\n",
        "        self.use_aux = use_aux\n",
        "        self.stem = nn.Sequential(\n",
        "            ConvBlock(3, 64, kernel_size=7, stride=2, padding=3),\n",
        "            nn.LocalResponseNorm(5, alpha=0.0001, beta=0.75),\n",
        "            nn.MaxPool2d(3, stride=2, padding=1),\n",
        "\n",
        "            ConvBlock(64, 64, kernel_size=1),\n",
        "            ConvBlock(64, 192, kernel_size=3, padding=1),\n",
        "            nn.LocalResponseNorm(5, alpha=0.0001, beta=0.75),\n",
        "            nn.MaxPool2d(3, stride=2, padding=1)\n",
        "        )\n",
        "\n",
        "        #block 1\n",
        "        self.inception3a = InceptionBlock(192, 64, 96, 128, 16, 32, 32)\n",
        "        self.inception3b = InceptionBlock(256, 128, 128, 192, 32, 96, 64)\n",
        "        self.maxpool3 = nn.MaxPool2d(3, stride=2, padding=1)\n",
        "\n",
        "        ## block 2\n",
        "        self.inception4a = InceptionBlock(480, 192, 96, 208, 16, 48, 64)\n",
        "        self.inception4b = InceptionBlock(512, 160, 112, 224, 24, 64, 64)\n",
        "        self.inception4c = InceptionBlock(512, 128, 128, 256, 24, 64, 64)\n",
        "        self.inception4d = InceptionBlock(512, 112, 144, 288, 32, 64, 64)\n",
        "        self.inception4e = InceptionBlock(528, 256, 160, 320, 32, 128, 128)\n",
        "        self.maxpool4 = nn.MaxPool2d(3, stride=2, padding=1)\n",
        "\n",
        "        ## block 3\n",
        "        self.inception5a = InceptionBlock(832, 256, 160, 320, 32, 128, 128)\n",
        "        self.inception5b = InceptionBlock(832, 384, 192, 384, 48, 128, 128)\n",
        "\n",
        "        if self.use_aux:\n",
        "            self.aux1 = AuxiliaryClassifier(512, 1000)\n",
        "            self.aux2 = AuxiliaryClassifier(528, 1000)\n",
        "\n",
        "        self.head=nn.Sequential(\n",
        "            nn.AvgPool2d(1, stride=1),\n",
        "            nn.Flatten(),\n",
        "            nn.Dropout(0.4),\n",
        "            nn.Linear(1024, num_classes)\n",
        "        )\n",
        "\n",
        "    def forward(self, x):\n",
        "        x=self.stem(x)\n",
        "\n",
        "        ## block 1\n",
        "        x = self.inception3a(x)\n",
        "        x = self.inception3b(x)\n",
        "        x = self.maxpool3(x)\n",
        "\n",
        "        ## block 2\n",
        "        x = self.inception4a(x)\n",
        "        if self.use_aux:\n",
        "            aux1 = self.aux1(x)\n",
        "        x = self.inception4b(x)\n",
        "        x = self.inception4c(x)\n",
        "        x = self.inception4d(x)\n",
        "        if self.use_aux:\n",
        "            aux2 = self.aux2(x)\n",
        "        x = self.inception4e(x)\n",
        "        x = self.maxpool4(x)\n",
        "\n",
        "        ## block 3\n",
        "        x = self.inception5a(x)\n",
        "        x = self.inception5b(x)\n",
        "\n",
        "        x=self.head(x)\n",
        "\n",
        "        if self.use_aux:\n",
        "            return x, aux1, aux2\n",
        "        else:\n",
        "            return x\n",
        "\n",
        "x=torch.rand([7, 3, 32, 32])\n",
        "tmp=GoogLeNet(10,True)\n",
        "out,aux_1, aux_2=tmp(x)\n",
        "out.shape"
      ],
      "metadata": {
        "colab": {
          "base_uri": "https://localhost:8080/"
        },
        "id": "bc06LCVc_R-f",
        "outputId": "75aba49e-03cb-4e3f-d030-c97547055f48"
      },
      "execution_count": null,
      "outputs": [
        {
          "output_type": "execute_result",
          "data": {
            "text/plain": [
              "torch.Size([7, 10])"
            ]
          },
          "metadata": {},
          "execution_count": 77
        }
      ]
    },
    {
      "cell_type": "markdown",
      "source": [
        "# Training"
      ],
      "metadata": {
        "id": "iH2NFYMuB-yJ"
      }
    },
    {
      "cell_type": "code",
      "source": [
        "class Training(L.LightningModule):\n",
        "    def __init__(self, num_classes, lr):\n",
        "        super().__init__()\n",
        "        self.save_hyperparameters()\n",
        "        # self.automatic_optimization=False\n",
        "        self.model=GoogLeNet(num_classes)\n",
        "        self.example_input_array = torch.zeros([1, 3, 32, 32], dtype=torch.float32)\n",
        "\n",
        "    def criterion(self, x_pred, aux_pred_1, aux_pred_2, y):\n",
        "        loss = 0.5*F.cross_entropy(x_pred,y) + 0.25*F.cross_entropy(aux_pred_1, y)+ 0.25*F.cross_entropy(aux_pred_2,y)\n",
        "        return loss\n",
        "\n",
        "    def configure_optimizers(self):\n",
        "        optimizer = torch.optim.Adam(self.model.parameters(), lr=self.hparams.lr)\n",
        "        scheduler = torch.optim.lr_scheduler.MultiStepLR(optimizer, milestones=[100, 150], gamma=0.1)\n",
        "        return [optimizer],[scheduler]\n",
        "\n",
        "    def forward(self, x):\n",
        "        self.model.use_aux=False\n",
        "        return self.model(x)\n",
        "\n",
        "    def training_step(self, batch):\n",
        "        image, labels = batch\n",
        "        self.model.use_aux=True\n",
        "        x, aux_1, aux_2 = self.model(image)\n",
        "        loss=self.criterion(x, aux_1, aux_2, labels)\n",
        "        acc = (x.argmax(dim=-1) == labels).float().mean()\n",
        "\n",
        "        self.log('train_acc', acc, prog_bar=True)\n",
        "        self.log('train_loss', loss, prog_bar=True)\n",
        "        return loss\n",
        "\n",
        "    def validation_step(self, batch):\n",
        "        imgs, labels = batch\n",
        "        self.model.use_aux=False\n",
        "        preds = self.model(imgs).argmax(dim=-1)\n",
        "        acc = (labels == preds).float().mean()\n",
        "        self.log('val_acc', acc, prog_bar=True)\n",
        "\n",
        "    def test_step(self, batch):\n",
        "        imgs, labels = batch\n",
        "        self.model.use_aux=False\n",
        "        preds = self.model(imgs).argmax(dim=-1)\n",
        "        acc = (labels == preds).float().mean()\n",
        "        self.log('test_acc', acc, prog_bar=True)\n"
      ],
      "metadata": {
        "id": "GU5AG5lmCJLI"
      },
      "execution_count": null,
      "outputs": []
    },
    {
      "cell_type": "code",
      "source": [
        "data_module=DataModule(128)\n",
        "training=Training(10,1e-3)\n",
        "trainer = L.Trainer(accelerator='auto',\n",
        "                    devices=1,\n",
        "                    max_epochs=50)\n",
        "trainer.fit(training,data_module)"
      ],
      "metadata": {
        "colab": {
          "base_uri": "https://localhost:8080/",
          "height": 1000,
          "referenced_widgets": [
            "9e35fa2437bf4ad893f2ffb0a6c88ce6",
            "189f058cce0c4e30b3d2b6fcb442452c",
            "2d3e1f7f9a284de49051d06670b1f00d",
            "dd0141a37b964faea9993dc332cd594f",
            "0a6ba8d81b1541d78191360a33215eb9",
            "5910ea9840ea44cd8bb3090d7440a02e",
            "cfb220504a8a4919ac7ba56154a7dc6b",
            "730596e622c04f0887e4644028cbc17c",
            "d9074917fa844198a7c48ca3e20fee5e",
            "467f5afd49684be78bf1ac4da0ed7483",
            "dd861d601f7346c8ba768381c97b618a",
            "ea2bf6972a4a49aaa87e31a35e9f5b3e",
            "b5e08045c6fb411bbeabba65b2e608cc",
            "ab2a83d84d4342b49cfe8273c504d751",
            "88ec92eeba3e4d158e4009a9c071d849",
            "4aecd28da5f74256891e01765c40d66d",
            "0276170a8a9f4c3eaa6b2ffac8a1e122",
            "0edbf62dcefe41e49e04680371c9cbe1",
            "72c5a7a35f914b20afddfed963e28f4a",
            "636204602c1f4808b4d9aed384b76766",
            "c97903c5b85c4e30be31767d3865f37a",
            "69098244da2545b198f85acce7f871d7",
            "347d29255d4448dbae56a5634f929932",
            "44f12a2a7ef4476d926d56b996f04a6f",
            "2995340cbbdb43cd8b5a3aa896674246",
            "8543bc7a84e34d37a6201f7f5288b4ee",
            "6ecbd6e08b7b4c948cf56967468b816b",
            "ad1e97531eae4e82bbe04c134d906732",
            "739c0280b0764070b868e4864830b249",
            "2a5a1c5299df4fbabfe8745a35e9405c",
            "5d9220974e7044beac4e5a9b15b90017",
            "0152d30e21284ccca71de8ea6918289c",
            "07d55cc034c047b79f8a3dfc82f551a9",
            "bdf6ae2ba4444e7da825fd3a1666e273",
            "84cba9d459ec4f6eb6e331971c4e5c6d",
            "af68fa896961416594480d4fa7848db2",
            "b48f971eecb745f185d2bde17453e9d1",
            "e4651e76c2de488aaa13d6915506665a",
            "c54e416839fd4b7c9cb056b1e2164e5b",
            "25d639f890ec47478aac5bf2b98b39f6",
            "be8220844b474e8487a929097fd49bcf",
            "4840d9c878e64a86add0c2934a942e7a",
            "d8e3c0c4a987406c957ae0e114e8bed6",
            "73a75f8ab9c4483dbf79508d80298617"
          ]
        },
        "id": "dTT8G9otD-2h",
        "outputId": "9330f522-10c6-40f2-c2f1-ae812f31b2fa"
      },
      "execution_count": null,
      "outputs": [
        {
          "output_type": "stream",
          "name": "stderr",
          "text": [
            "INFO: GPU available: False, used: False\n",
            "INFO:lightning.pytorch.utilities.rank_zero:GPU available: False, used: False\n",
            "INFO: TPU available: False, using: 0 TPU cores\n",
            "INFO:lightning.pytorch.utilities.rank_zero:TPU available: False, using: 0 TPU cores\n",
            "INFO: HPU available: False, using: 0 HPUs\n",
            "INFO:lightning.pytorch.utilities.rank_zero:HPU available: False, using: 0 HPUs\n"
          ]
        },
        {
          "output_type": "stream",
          "name": "stdout",
          "text": [
            "Files already downloaded and verified\n"
          ]
        },
        {
          "output_type": "stream",
          "name": "stderr",
          "text": [
            "INFO: \n",
            "  | Name  | Type      | Params | Mode  | In sizes       | Out sizes\n",
            "-------------------------------------------------------------------------\n",
            "0 | model | GoogLeNet | 8.4 M  | train | [1, 3, 32, 32] | [1, 10]  \n",
            "-------------------------------------------------------------------------\n",
            "8.4 M     Trainable params\n",
            "0         Non-trainable params\n",
            "8.4 M     Total params\n",
            "33.725    Total estimated model params size (MB)\n",
            "192       Modules in train mode\n",
            "0         Modules in eval mode\n",
            "INFO:lightning.pytorch.callbacks.model_summary:\n",
            "  | Name  | Type      | Params | Mode  | In sizes       | Out sizes\n",
            "-------------------------------------------------------------------------\n",
            "0 | model | GoogLeNet | 8.4 M  | train | [1, 3, 32, 32] | [1, 10]  \n",
            "-------------------------------------------------------------------------\n",
            "8.4 M     Trainable params\n",
            "0         Non-trainable params\n",
            "8.4 M     Total params\n",
            "33.725    Total estimated model params size (MB)\n",
            "192       Modules in train mode\n",
            "0         Modules in eval mode\n"
          ]
        },
        {
          "output_type": "display_data",
          "data": {
            "text/plain": [
              "Sanity Checking: |          | 0/? [00:00<?, ?it/s]"
            ],
            "application/vnd.jupyter.widget-view+json": {
              "version_major": 2,
              "version_minor": 0,
              "model_id": "9e35fa2437bf4ad893f2ffb0a6c88ce6"
            }
          },
          "metadata": {}
        },
        {
          "output_type": "display_data",
          "data": {
            "text/plain": [
              "Training: |          | 0/? [00:00<?, ?it/s]"
            ],
            "application/vnd.jupyter.widget-view+json": {
              "version_major": 2,
              "version_minor": 0,
              "model_id": "ea2bf6972a4a49aaa87e31a35e9f5b3e"
            }
          },
          "metadata": {}
        },
        {
          "output_type": "display_data",
          "data": {
            "text/plain": [
              "Validation: |          | 0/? [00:00<?, ?it/s]"
            ],
            "application/vnd.jupyter.widget-view+json": {
              "version_major": 2,
              "version_minor": 0,
              "model_id": "347d29255d4448dbae56a5634f929932"
            }
          },
          "metadata": {}
        },
        {
          "output_type": "display_data",
          "data": {
            "text/plain": [
              "Validation: |          | 0/? [00:00<?, ?it/s]"
            ],
            "application/vnd.jupyter.widget-view+json": {
              "version_major": 2,
              "version_minor": 0,
              "model_id": "bdf6ae2ba4444e7da825fd3a1666e273"
            }
          },
          "metadata": {}
        },
        {
          "output_type": "stream",
          "name": "stderr",
          "text": [
            "INFO: \n",
            "Detected KeyboardInterrupt, attempting graceful shutdown ...\n",
            "INFO:lightning.pytorch.utilities.rank_zero:\n",
            "Detected KeyboardInterrupt, attempting graceful shutdown ...\n"
          ]
        },
        {
          "output_type": "error",
          "ename": "NameError",
          "evalue": "name 'exit' is not defined",
          "traceback": [
            "\u001b[0;31m---------------------------------------------------------------------------\u001b[0m",
            "\u001b[0;31mKeyboardInterrupt\u001b[0m                         Traceback (most recent call last)",
            "\u001b[0;32m/usr/local/lib/python3.10/dist-packages/lightning/pytorch/trainer/call.py\u001b[0m in \u001b[0;36m_call_and_handle_interrupt\u001b[0;34m(trainer, trainer_fn, *args, **kwargs)\u001b[0m\n\u001b[1;32m     46\u001b[0m             \u001b[0;32mreturn\u001b[0m \u001b[0mtrainer\u001b[0m\u001b[0;34m.\u001b[0m\u001b[0mstrategy\u001b[0m\u001b[0;34m.\u001b[0m\u001b[0mlauncher\u001b[0m\u001b[0;34m.\u001b[0m\u001b[0mlaunch\u001b[0m\u001b[0;34m(\u001b[0m\u001b[0mtrainer_fn\u001b[0m\u001b[0;34m,\u001b[0m \u001b[0;34m*\u001b[0m\u001b[0margs\u001b[0m\u001b[0;34m,\u001b[0m \u001b[0mtrainer\u001b[0m\u001b[0;34m=\u001b[0m\u001b[0mtrainer\u001b[0m\u001b[0;34m,\u001b[0m \u001b[0;34m**\u001b[0m\u001b[0mkwargs\u001b[0m\u001b[0;34m)\u001b[0m\u001b[0;34m\u001b[0m\u001b[0;34m\u001b[0m\u001b[0m\n\u001b[0;32m---> 47\u001b[0;31m         \u001b[0;32mreturn\u001b[0m \u001b[0mtrainer_fn\u001b[0m\u001b[0;34m(\u001b[0m\u001b[0;34m*\u001b[0m\u001b[0margs\u001b[0m\u001b[0;34m,\u001b[0m \u001b[0;34m**\u001b[0m\u001b[0mkwargs\u001b[0m\u001b[0;34m)\u001b[0m\u001b[0;34m\u001b[0m\u001b[0;34m\u001b[0m\u001b[0m\n\u001b[0m\u001b[1;32m     48\u001b[0m \u001b[0;34m\u001b[0m\u001b[0m\n",
            "\u001b[0;32m/usr/local/lib/python3.10/dist-packages/lightning/pytorch/trainer/trainer.py\u001b[0m in \u001b[0;36m_fit_impl\u001b[0;34m(self, model, train_dataloaders, val_dataloaders, datamodule, ckpt_path)\u001b[0m\n\u001b[1;32m    573\u001b[0m         )\n\u001b[0;32m--> 574\u001b[0;31m         \u001b[0mself\u001b[0m\u001b[0;34m.\u001b[0m\u001b[0m_run\u001b[0m\u001b[0;34m(\u001b[0m\u001b[0mmodel\u001b[0m\u001b[0;34m,\u001b[0m \u001b[0mckpt_path\u001b[0m\u001b[0;34m=\u001b[0m\u001b[0mckpt_path\u001b[0m\u001b[0;34m)\u001b[0m\u001b[0;34m\u001b[0m\u001b[0;34m\u001b[0m\u001b[0m\n\u001b[0m\u001b[1;32m    575\u001b[0m \u001b[0;34m\u001b[0m\u001b[0m\n",
            "\u001b[0;32m/usr/local/lib/python3.10/dist-packages/lightning/pytorch/trainer/trainer.py\u001b[0m in \u001b[0;36m_run\u001b[0;34m(self, model, ckpt_path)\u001b[0m\n\u001b[1;32m    980\u001b[0m         \u001b[0;31m# ----------------------------\u001b[0m\u001b[0;34m\u001b[0m\u001b[0;34m\u001b[0m\u001b[0m\n\u001b[0;32m--> 981\u001b[0;31m         \u001b[0mresults\u001b[0m \u001b[0;34m=\u001b[0m \u001b[0mself\u001b[0m\u001b[0;34m.\u001b[0m\u001b[0m_run_stage\u001b[0m\u001b[0;34m(\u001b[0m\u001b[0;34m)\u001b[0m\u001b[0;34m\u001b[0m\u001b[0;34m\u001b[0m\u001b[0m\n\u001b[0m\u001b[1;32m    982\u001b[0m \u001b[0;34m\u001b[0m\u001b[0m\n",
            "\u001b[0;32m/usr/local/lib/python3.10/dist-packages/lightning/pytorch/trainer/trainer.py\u001b[0m in \u001b[0;36m_run_stage\u001b[0;34m(self)\u001b[0m\n\u001b[1;32m   1024\u001b[0m             \u001b[0;32mwith\u001b[0m \u001b[0mtorch\u001b[0m\u001b[0;34m.\u001b[0m\u001b[0mautograd\u001b[0m\u001b[0;34m.\u001b[0m\u001b[0mset_detect_anomaly\u001b[0m\u001b[0;34m(\u001b[0m\u001b[0mself\u001b[0m\u001b[0;34m.\u001b[0m\u001b[0m_detect_anomaly\u001b[0m\u001b[0;34m)\u001b[0m\u001b[0;34m:\u001b[0m\u001b[0;34m\u001b[0m\u001b[0;34m\u001b[0m\u001b[0m\n\u001b[0;32m-> 1025\u001b[0;31m                 \u001b[0mself\u001b[0m\u001b[0;34m.\u001b[0m\u001b[0mfit_loop\u001b[0m\u001b[0;34m.\u001b[0m\u001b[0mrun\u001b[0m\u001b[0;34m(\u001b[0m\u001b[0;34m)\u001b[0m\u001b[0;34m\u001b[0m\u001b[0;34m\u001b[0m\u001b[0m\n\u001b[0m\u001b[1;32m   1026\u001b[0m             \u001b[0;32mreturn\u001b[0m \u001b[0;32mNone\u001b[0m\u001b[0;34m\u001b[0m\u001b[0;34m\u001b[0m\u001b[0m\n",
            "\u001b[0;32m/usr/local/lib/python3.10/dist-packages/lightning/pytorch/loops/fit_loop.py\u001b[0m in \u001b[0;36mrun\u001b[0;34m(self)\u001b[0m\n\u001b[1;32m    204\u001b[0m                 \u001b[0mself\u001b[0m\u001b[0;34m.\u001b[0m\u001b[0mon_advance_start\u001b[0m\u001b[0;34m(\u001b[0m\u001b[0;34m)\u001b[0m\u001b[0;34m\u001b[0m\u001b[0;34m\u001b[0m\u001b[0m\n\u001b[0;32m--> 205\u001b[0;31m                 \u001b[0mself\u001b[0m\u001b[0;34m.\u001b[0m\u001b[0madvance\u001b[0m\u001b[0;34m(\u001b[0m\u001b[0;34m)\u001b[0m\u001b[0;34m\u001b[0m\u001b[0;34m\u001b[0m\u001b[0m\n\u001b[0m\u001b[1;32m    206\u001b[0m                 \u001b[0mself\u001b[0m\u001b[0;34m.\u001b[0m\u001b[0mon_advance_end\u001b[0m\u001b[0;34m(\u001b[0m\u001b[0;34m)\u001b[0m\u001b[0;34m\u001b[0m\u001b[0;34m\u001b[0m\u001b[0m\n",
            "\u001b[0;32m/usr/local/lib/python3.10/dist-packages/lightning/pytorch/loops/fit_loop.py\u001b[0m in \u001b[0;36madvance\u001b[0;34m(self)\u001b[0m\n\u001b[1;32m    362\u001b[0m             \u001b[0;32massert\u001b[0m \u001b[0mself\u001b[0m\u001b[0;34m.\u001b[0m\u001b[0m_data_fetcher\u001b[0m \u001b[0;32mis\u001b[0m \u001b[0;32mnot\u001b[0m \u001b[0;32mNone\u001b[0m\u001b[0;34m\u001b[0m\u001b[0;34m\u001b[0m\u001b[0m\n\u001b[0;32m--> 363\u001b[0;31m             \u001b[0mself\u001b[0m\u001b[0;34m.\u001b[0m\u001b[0mepoch_loop\u001b[0m\u001b[0;34m.\u001b[0m\u001b[0mrun\u001b[0m\u001b[0;34m(\u001b[0m\u001b[0mself\u001b[0m\u001b[0;34m.\u001b[0m\u001b[0m_data_fetcher\u001b[0m\u001b[0;34m)\u001b[0m\u001b[0;34m\u001b[0m\u001b[0;34m\u001b[0m\u001b[0m\n\u001b[0m\u001b[1;32m    364\u001b[0m \u001b[0;34m\u001b[0m\u001b[0m\n",
            "\u001b[0;32m/usr/local/lib/python3.10/dist-packages/lightning/pytorch/loops/training_epoch_loop.py\u001b[0m in \u001b[0;36mrun\u001b[0;34m(self, data_fetcher)\u001b[0m\n\u001b[1;32m    139\u001b[0m             \u001b[0;32mtry\u001b[0m\u001b[0;34m:\u001b[0m\u001b[0;34m\u001b[0m\u001b[0;34m\u001b[0m\u001b[0m\n\u001b[0;32m--> 140\u001b[0;31m                 \u001b[0mself\u001b[0m\u001b[0;34m.\u001b[0m\u001b[0madvance\u001b[0m\u001b[0;34m(\u001b[0m\u001b[0mdata_fetcher\u001b[0m\u001b[0;34m)\u001b[0m\u001b[0;34m\u001b[0m\u001b[0;34m\u001b[0m\u001b[0m\n\u001b[0m\u001b[1;32m    141\u001b[0m                 \u001b[0mself\u001b[0m\u001b[0;34m.\u001b[0m\u001b[0mon_advance_end\u001b[0m\u001b[0;34m(\u001b[0m\u001b[0mdata_fetcher\u001b[0m\u001b[0;34m)\u001b[0m\u001b[0;34m\u001b[0m\u001b[0;34m\u001b[0m\u001b[0m\n",
            "\u001b[0;32m/usr/local/lib/python3.10/dist-packages/lightning/pytorch/loops/training_epoch_loop.py\u001b[0m in \u001b[0;36madvance\u001b[0;34m(self, data_fetcher)\u001b[0m\n\u001b[1;32m    249\u001b[0m                     \u001b[0;31m# in automatic optimization, there can only be one optimizer\u001b[0m\u001b[0;34m\u001b[0m\u001b[0;34m\u001b[0m\u001b[0m\n\u001b[0;32m--> 250\u001b[0;31m                     \u001b[0mbatch_output\u001b[0m \u001b[0;34m=\u001b[0m \u001b[0mself\u001b[0m\u001b[0;34m.\u001b[0m\u001b[0mautomatic_optimization\u001b[0m\u001b[0;34m.\u001b[0m\u001b[0mrun\u001b[0m\u001b[0;34m(\u001b[0m\u001b[0mtrainer\u001b[0m\u001b[0;34m.\u001b[0m\u001b[0moptimizers\u001b[0m\u001b[0;34m[\u001b[0m\u001b[0;36m0\u001b[0m\u001b[0;34m]\u001b[0m\u001b[0;34m,\u001b[0m \u001b[0mbatch_idx\u001b[0m\u001b[0;34m,\u001b[0m \u001b[0mkwargs\u001b[0m\u001b[0;34m)\u001b[0m\u001b[0;34m\u001b[0m\u001b[0;34m\u001b[0m\u001b[0m\n\u001b[0m\u001b[1;32m    251\u001b[0m                 \u001b[0;32melse\u001b[0m\u001b[0;34m:\u001b[0m\u001b[0;34m\u001b[0m\u001b[0;34m\u001b[0m\u001b[0m\n",
            "\u001b[0;32m/usr/local/lib/python3.10/dist-packages/lightning/pytorch/loops/optimization/automatic.py\u001b[0m in \u001b[0;36mrun\u001b[0;34m(self, optimizer, batch_idx, kwargs)\u001b[0m\n\u001b[1;32m    189\u001b[0m         \u001b[0;32melse\u001b[0m\u001b[0;34m:\u001b[0m\u001b[0;34m\u001b[0m\u001b[0;34m\u001b[0m\u001b[0m\n\u001b[0;32m--> 190\u001b[0;31m             \u001b[0mself\u001b[0m\u001b[0;34m.\u001b[0m\u001b[0m_optimizer_step\u001b[0m\u001b[0;34m(\u001b[0m\u001b[0mbatch_idx\u001b[0m\u001b[0;34m,\u001b[0m \u001b[0mclosure\u001b[0m\u001b[0;34m)\u001b[0m\u001b[0;34m\u001b[0m\u001b[0;34m\u001b[0m\u001b[0m\n\u001b[0m\u001b[1;32m    191\u001b[0m \u001b[0;34m\u001b[0m\u001b[0m\n",
            "\u001b[0;32m/usr/local/lib/python3.10/dist-packages/lightning/pytorch/loops/optimization/automatic.py\u001b[0m in \u001b[0;36m_optimizer_step\u001b[0;34m(self, batch_idx, train_step_and_backward_closure)\u001b[0m\n\u001b[1;32m    267\u001b[0m         \u001b[0;31m# model hook\u001b[0m\u001b[0;34m\u001b[0m\u001b[0;34m\u001b[0m\u001b[0m\n\u001b[0;32m--> 268\u001b[0;31m         call._call_lightning_module_hook(\n\u001b[0m\u001b[1;32m    269\u001b[0m             \u001b[0mtrainer\u001b[0m\u001b[0;34m,\u001b[0m\u001b[0;34m\u001b[0m\u001b[0;34m\u001b[0m\u001b[0m\n",
            "\u001b[0;32m/usr/local/lib/python3.10/dist-packages/lightning/pytorch/trainer/call.py\u001b[0m in \u001b[0;36m_call_lightning_module_hook\u001b[0;34m(trainer, hook_name, pl_module, *args, **kwargs)\u001b[0m\n\u001b[1;32m    166\u001b[0m     \u001b[0;32mwith\u001b[0m \u001b[0mtrainer\u001b[0m\u001b[0;34m.\u001b[0m\u001b[0mprofiler\u001b[0m\u001b[0;34m.\u001b[0m\u001b[0mprofile\u001b[0m\u001b[0;34m(\u001b[0m\u001b[0;34mf\"[LightningModule]{pl_module.__class__.__name__}.{hook_name}\"\u001b[0m\u001b[0;34m)\u001b[0m\u001b[0;34m:\u001b[0m\u001b[0;34m\u001b[0m\u001b[0;34m\u001b[0m\u001b[0m\n\u001b[0;32m--> 167\u001b[0;31m         \u001b[0moutput\u001b[0m \u001b[0;34m=\u001b[0m \u001b[0mfn\u001b[0m\u001b[0;34m(\u001b[0m\u001b[0;34m*\u001b[0m\u001b[0margs\u001b[0m\u001b[0;34m,\u001b[0m \u001b[0;34m**\u001b[0m\u001b[0mkwargs\u001b[0m\u001b[0;34m)\u001b[0m\u001b[0;34m\u001b[0m\u001b[0;34m\u001b[0m\u001b[0m\n\u001b[0m\u001b[1;32m    168\u001b[0m \u001b[0;34m\u001b[0m\u001b[0m\n",
            "\u001b[0;32m/usr/local/lib/python3.10/dist-packages/lightning/pytorch/core/module.py\u001b[0m in \u001b[0;36moptimizer_step\u001b[0;34m(self, epoch, batch_idx, optimizer, optimizer_closure)\u001b[0m\n\u001b[1;32m   1305\u001b[0m         \"\"\"\n\u001b[0;32m-> 1306\u001b[0;31m         \u001b[0moptimizer\u001b[0m\u001b[0;34m.\u001b[0m\u001b[0mstep\u001b[0m\u001b[0;34m(\u001b[0m\u001b[0mclosure\u001b[0m\u001b[0;34m=\u001b[0m\u001b[0moptimizer_closure\u001b[0m\u001b[0;34m)\u001b[0m\u001b[0;34m\u001b[0m\u001b[0;34m\u001b[0m\u001b[0m\n\u001b[0m\u001b[1;32m   1307\u001b[0m \u001b[0;34m\u001b[0m\u001b[0m\n",
            "\u001b[0;32m/usr/local/lib/python3.10/dist-packages/lightning/pytorch/core/optimizer.py\u001b[0m in \u001b[0;36mstep\u001b[0;34m(self, closure, **kwargs)\u001b[0m\n\u001b[1;32m    152\u001b[0m         \u001b[0;32massert\u001b[0m \u001b[0mself\u001b[0m\u001b[0;34m.\u001b[0m\u001b[0m_strategy\u001b[0m \u001b[0;32mis\u001b[0m \u001b[0;32mnot\u001b[0m \u001b[0;32mNone\u001b[0m\u001b[0;34m\u001b[0m\u001b[0;34m\u001b[0m\u001b[0m\n\u001b[0;32m--> 153\u001b[0;31m         \u001b[0mstep_output\u001b[0m \u001b[0;34m=\u001b[0m \u001b[0mself\u001b[0m\u001b[0;34m.\u001b[0m\u001b[0m_strategy\u001b[0m\u001b[0;34m.\u001b[0m\u001b[0moptimizer_step\u001b[0m\u001b[0;34m(\u001b[0m\u001b[0mself\u001b[0m\u001b[0;34m.\u001b[0m\u001b[0m_optimizer\u001b[0m\u001b[0;34m,\u001b[0m \u001b[0mclosure\u001b[0m\u001b[0;34m,\u001b[0m \u001b[0;34m**\u001b[0m\u001b[0mkwargs\u001b[0m\u001b[0;34m)\u001b[0m\u001b[0;34m\u001b[0m\u001b[0;34m\u001b[0m\u001b[0m\n\u001b[0m\u001b[1;32m    154\u001b[0m \u001b[0;34m\u001b[0m\u001b[0m\n",
            "\u001b[0;32m/usr/local/lib/python3.10/dist-packages/lightning/pytorch/strategies/strategy.py\u001b[0m in \u001b[0;36moptimizer_step\u001b[0;34m(self, optimizer, closure, model, **kwargs)\u001b[0m\n\u001b[1;32m    237\u001b[0m         \u001b[0;32massert\u001b[0m \u001b[0misinstance\u001b[0m\u001b[0;34m(\u001b[0m\u001b[0mmodel\u001b[0m\u001b[0;34m,\u001b[0m \u001b[0mpl\u001b[0m\u001b[0;34m.\u001b[0m\u001b[0mLightningModule\u001b[0m\u001b[0;34m)\u001b[0m\u001b[0;34m\u001b[0m\u001b[0;34m\u001b[0m\u001b[0m\n\u001b[0;32m--> 238\u001b[0;31m         \u001b[0;32mreturn\u001b[0m \u001b[0mself\u001b[0m\u001b[0;34m.\u001b[0m\u001b[0mprecision_plugin\u001b[0m\u001b[0;34m.\u001b[0m\u001b[0moptimizer_step\u001b[0m\u001b[0;34m(\u001b[0m\u001b[0moptimizer\u001b[0m\u001b[0;34m,\u001b[0m \u001b[0mmodel\u001b[0m\u001b[0;34m=\u001b[0m\u001b[0mmodel\u001b[0m\u001b[0;34m,\u001b[0m \u001b[0mclosure\u001b[0m\u001b[0;34m=\u001b[0m\u001b[0mclosure\u001b[0m\u001b[0;34m,\u001b[0m \u001b[0;34m**\u001b[0m\u001b[0mkwargs\u001b[0m\u001b[0;34m)\u001b[0m\u001b[0;34m\u001b[0m\u001b[0;34m\u001b[0m\u001b[0m\n\u001b[0m\u001b[1;32m    239\u001b[0m \u001b[0;34m\u001b[0m\u001b[0m\n",
            "\u001b[0;32m/usr/local/lib/python3.10/dist-packages/lightning/pytorch/plugins/precision/precision.py\u001b[0m in \u001b[0;36moptimizer_step\u001b[0;34m(self, optimizer, model, closure, **kwargs)\u001b[0m\n\u001b[1;32m    121\u001b[0m         \u001b[0mclosure\u001b[0m \u001b[0;34m=\u001b[0m \u001b[0mpartial\u001b[0m\u001b[0;34m(\u001b[0m\u001b[0mself\u001b[0m\u001b[0;34m.\u001b[0m\u001b[0m_wrap_closure\u001b[0m\u001b[0;34m,\u001b[0m \u001b[0mmodel\u001b[0m\u001b[0;34m,\u001b[0m \u001b[0moptimizer\u001b[0m\u001b[0;34m,\u001b[0m \u001b[0mclosure\u001b[0m\u001b[0;34m)\u001b[0m\u001b[0;34m\u001b[0m\u001b[0;34m\u001b[0m\u001b[0m\n\u001b[0;32m--> 122\u001b[0;31m         \u001b[0;32mreturn\u001b[0m \u001b[0moptimizer\u001b[0m\u001b[0;34m.\u001b[0m\u001b[0mstep\u001b[0m\u001b[0;34m(\u001b[0m\u001b[0mclosure\u001b[0m\u001b[0;34m=\u001b[0m\u001b[0mclosure\u001b[0m\u001b[0;34m,\u001b[0m \u001b[0;34m**\u001b[0m\u001b[0mkwargs\u001b[0m\u001b[0;34m)\u001b[0m\u001b[0;34m\u001b[0m\u001b[0;34m\u001b[0m\u001b[0m\n\u001b[0m\u001b[1;32m    123\u001b[0m \u001b[0;34m\u001b[0m\u001b[0m\n",
            "\u001b[0;32m/usr/local/lib/python3.10/dist-packages/torch/optim/lr_scheduler.py\u001b[0m in \u001b[0;36mwrapper\u001b[0;34m(*args, **kwargs)\u001b[0m\n\u001b[1;32m    129\u001b[0m                     \u001b[0mopt\u001b[0m\u001b[0;34m.\u001b[0m\u001b[0m_opt_called\u001b[0m \u001b[0;34m=\u001b[0m \u001b[0;32mTrue\u001b[0m  \u001b[0;31m# type: ignore[union-attr]\u001b[0m\u001b[0;34m\u001b[0m\u001b[0;34m\u001b[0m\u001b[0m\n\u001b[0;32m--> 130\u001b[0;31m                     \u001b[0;32mreturn\u001b[0m \u001b[0mfunc\u001b[0m\u001b[0;34m.\u001b[0m\u001b[0m__get__\u001b[0m\u001b[0;34m(\u001b[0m\u001b[0mopt\u001b[0m\u001b[0;34m,\u001b[0m \u001b[0mopt\u001b[0m\u001b[0;34m.\u001b[0m\u001b[0m__class__\u001b[0m\u001b[0;34m)\u001b[0m\u001b[0;34m(\u001b[0m\u001b[0;34m*\u001b[0m\u001b[0margs\u001b[0m\u001b[0;34m,\u001b[0m \u001b[0;34m**\u001b[0m\u001b[0mkwargs\u001b[0m\u001b[0;34m)\u001b[0m\u001b[0;34m\u001b[0m\u001b[0;34m\u001b[0m\u001b[0m\n\u001b[0m\u001b[1;32m    131\u001b[0m \u001b[0;34m\u001b[0m\u001b[0m\n",
            "\u001b[0;32m/usr/local/lib/python3.10/dist-packages/torch/optim/optimizer.py\u001b[0m in \u001b[0;36mwrapper\u001b[0;34m(*args, **kwargs)\u001b[0m\n\u001b[1;32m    483\u001b[0m \u001b[0;34m\u001b[0m\u001b[0m\n\u001b[0;32m--> 484\u001b[0;31m                 \u001b[0mout\u001b[0m \u001b[0;34m=\u001b[0m \u001b[0mfunc\u001b[0m\u001b[0;34m(\u001b[0m\u001b[0;34m*\u001b[0m\u001b[0margs\u001b[0m\u001b[0;34m,\u001b[0m \u001b[0;34m**\u001b[0m\u001b[0mkwargs\u001b[0m\u001b[0;34m)\u001b[0m\u001b[0;34m\u001b[0m\u001b[0;34m\u001b[0m\u001b[0m\n\u001b[0m\u001b[1;32m    485\u001b[0m                 \u001b[0mself\u001b[0m\u001b[0;34m.\u001b[0m\u001b[0m_optimizer_step_code\u001b[0m\u001b[0;34m(\u001b[0m\u001b[0;34m)\u001b[0m\u001b[0;34m\u001b[0m\u001b[0;34m\u001b[0m\u001b[0m\n",
            "\u001b[0;32m/usr/local/lib/python3.10/dist-packages/torch/optim/optimizer.py\u001b[0m in \u001b[0;36m_use_grad\u001b[0;34m(self, *args, **kwargs)\u001b[0m\n\u001b[1;32m     88\u001b[0m             \u001b[0mtorch\u001b[0m\u001b[0;34m.\u001b[0m\u001b[0m_dynamo\u001b[0m\u001b[0;34m.\u001b[0m\u001b[0mgraph_break\u001b[0m\u001b[0;34m(\u001b[0m\u001b[0;34m)\u001b[0m\u001b[0;34m\u001b[0m\u001b[0;34m\u001b[0m\u001b[0m\n\u001b[0;32m---> 89\u001b[0;31m             \u001b[0mret\u001b[0m \u001b[0;34m=\u001b[0m \u001b[0mfunc\u001b[0m\u001b[0;34m(\u001b[0m\u001b[0mself\u001b[0m\u001b[0;34m,\u001b[0m \u001b[0;34m*\u001b[0m\u001b[0margs\u001b[0m\u001b[0;34m,\u001b[0m \u001b[0;34m**\u001b[0m\u001b[0mkwargs\u001b[0m\u001b[0;34m)\u001b[0m\u001b[0;34m\u001b[0m\u001b[0;34m\u001b[0m\u001b[0m\n\u001b[0m\u001b[1;32m     90\u001b[0m         \u001b[0;32mfinally\u001b[0m\u001b[0;34m:\u001b[0m\u001b[0;34m\u001b[0m\u001b[0;34m\u001b[0m\u001b[0m\n",
            "\u001b[0;32m/usr/local/lib/python3.10/dist-packages/torch/optim/adam.py\u001b[0m in \u001b[0;36mstep\u001b[0;34m(self, closure)\u001b[0m\n\u001b[1;32m    204\u001b[0m             \u001b[0;32mwith\u001b[0m \u001b[0mtorch\u001b[0m\u001b[0;34m.\u001b[0m\u001b[0menable_grad\u001b[0m\u001b[0;34m(\u001b[0m\u001b[0;34m)\u001b[0m\u001b[0;34m:\u001b[0m\u001b[0;34m\u001b[0m\u001b[0;34m\u001b[0m\u001b[0m\n\u001b[0;32m--> 205\u001b[0;31m                 \u001b[0mloss\u001b[0m \u001b[0;34m=\u001b[0m \u001b[0mclosure\u001b[0m\u001b[0;34m(\u001b[0m\u001b[0;34m)\u001b[0m\u001b[0;34m\u001b[0m\u001b[0;34m\u001b[0m\u001b[0m\n\u001b[0m\u001b[1;32m    206\u001b[0m \u001b[0;34m\u001b[0m\u001b[0m\n",
            "\u001b[0;32m/usr/local/lib/python3.10/dist-packages/lightning/pytorch/plugins/precision/precision.py\u001b[0m in \u001b[0;36m_wrap_closure\u001b[0;34m(self, model, optimizer, closure)\u001b[0m\n\u001b[1;32m    107\u001b[0m         \"\"\"\n\u001b[0;32m--> 108\u001b[0;31m         \u001b[0mclosure_result\u001b[0m \u001b[0;34m=\u001b[0m \u001b[0mclosure\u001b[0m\u001b[0;34m(\u001b[0m\u001b[0;34m)\u001b[0m\u001b[0;34m\u001b[0m\u001b[0;34m\u001b[0m\u001b[0m\n\u001b[0m\u001b[1;32m    109\u001b[0m         \u001b[0mself\u001b[0m\u001b[0;34m.\u001b[0m\u001b[0m_after_closure\u001b[0m\u001b[0;34m(\u001b[0m\u001b[0mmodel\u001b[0m\u001b[0;34m,\u001b[0m \u001b[0moptimizer\u001b[0m\u001b[0;34m)\u001b[0m\u001b[0;34m\u001b[0m\u001b[0;34m\u001b[0m\u001b[0m\n",
            "\u001b[0;32m/usr/local/lib/python3.10/dist-packages/lightning/pytorch/loops/optimization/automatic.py\u001b[0m in \u001b[0;36m__call__\u001b[0;34m(self, *args, **kwargs)\u001b[0m\n\u001b[1;32m    143\u001b[0m     \u001b[0;32mdef\u001b[0m \u001b[0m__call__\u001b[0m\u001b[0;34m(\u001b[0m\u001b[0mself\u001b[0m\u001b[0;34m,\u001b[0m \u001b[0;34m*\u001b[0m\u001b[0margs\u001b[0m\u001b[0;34m:\u001b[0m \u001b[0mAny\u001b[0m\u001b[0;34m,\u001b[0m \u001b[0;34m**\u001b[0m\u001b[0mkwargs\u001b[0m\u001b[0;34m:\u001b[0m \u001b[0mAny\u001b[0m\u001b[0;34m)\u001b[0m \u001b[0;34m->\u001b[0m \u001b[0mOptional\u001b[0m\u001b[0;34m[\u001b[0m\u001b[0mTensor\u001b[0m\u001b[0;34m]\u001b[0m\u001b[0;34m:\u001b[0m\u001b[0;34m\u001b[0m\u001b[0;34m\u001b[0m\u001b[0m\n\u001b[0;32m--> 144\u001b[0;31m         \u001b[0mself\u001b[0m\u001b[0;34m.\u001b[0m\u001b[0m_result\u001b[0m \u001b[0;34m=\u001b[0m \u001b[0mself\u001b[0m\u001b[0;34m.\u001b[0m\u001b[0mclosure\u001b[0m\u001b[0;34m(\u001b[0m\u001b[0;34m*\u001b[0m\u001b[0margs\u001b[0m\u001b[0;34m,\u001b[0m \u001b[0;34m**\u001b[0m\u001b[0mkwargs\u001b[0m\u001b[0;34m)\u001b[0m\u001b[0;34m\u001b[0m\u001b[0;34m\u001b[0m\u001b[0m\n\u001b[0m\u001b[1;32m    145\u001b[0m         \u001b[0;32mreturn\u001b[0m \u001b[0mself\u001b[0m\u001b[0;34m.\u001b[0m\u001b[0m_result\u001b[0m\u001b[0;34m.\u001b[0m\u001b[0mloss\u001b[0m\u001b[0;34m\u001b[0m\u001b[0;34m\u001b[0m\u001b[0m\n",
            "\u001b[0;32m/usr/local/lib/python3.10/dist-packages/torch/utils/_contextlib.py\u001b[0m in \u001b[0;36mdecorate_context\u001b[0;34m(*args, **kwargs)\u001b[0m\n\u001b[1;32m    115\u001b[0m         \u001b[0;32mwith\u001b[0m \u001b[0mctx_factory\u001b[0m\u001b[0;34m(\u001b[0m\u001b[0;34m)\u001b[0m\u001b[0;34m:\u001b[0m\u001b[0;34m\u001b[0m\u001b[0;34m\u001b[0m\u001b[0m\n\u001b[0;32m--> 116\u001b[0;31m             \u001b[0;32mreturn\u001b[0m \u001b[0mfunc\u001b[0m\u001b[0;34m(\u001b[0m\u001b[0;34m*\u001b[0m\u001b[0margs\u001b[0m\u001b[0;34m,\u001b[0m \u001b[0;34m**\u001b[0m\u001b[0mkwargs\u001b[0m\u001b[0;34m)\u001b[0m\u001b[0;34m\u001b[0m\u001b[0;34m\u001b[0m\u001b[0m\n\u001b[0m\u001b[1;32m    117\u001b[0m \u001b[0;34m\u001b[0m\u001b[0m\n",
            "\u001b[0;32m/usr/local/lib/python3.10/dist-packages/lightning/pytorch/loops/optimization/automatic.py\u001b[0m in \u001b[0;36mclosure\u001b[0;34m(self, *args, **kwargs)\u001b[0m\n\u001b[1;32m    137\u001b[0m         \u001b[0;32mif\u001b[0m \u001b[0mself\u001b[0m\u001b[0;34m.\u001b[0m\u001b[0m_backward_fn\u001b[0m \u001b[0;32mis\u001b[0m \u001b[0;32mnot\u001b[0m \u001b[0;32mNone\u001b[0m \u001b[0;32mand\u001b[0m \u001b[0mstep_output\u001b[0m\u001b[0;34m.\u001b[0m\u001b[0mclosure_loss\u001b[0m \u001b[0;32mis\u001b[0m \u001b[0;32mnot\u001b[0m \u001b[0;32mNone\u001b[0m\u001b[0;34m:\u001b[0m\u001b[0;34m\u001b[0m\u001b[0;34m\u001b[0m\u001b[0m\n\u001b[0;32m--> 138\u001b[0;31m             \u001b[0mself\u001b[0m\u001b[0;34m.\u001b[0m\u001b[0m_backward_fn\u001b[0m\u001b[0;34m(\u001b[0m\u001b[0mstep_output\u001b[0m\u001b[0;34m.\u001b[0m\u001b[0mclosure_loss\u001b[0m\u001b[0;34m)\u001b[0m\u001b[0;34m\u001b[0m\u001b[0;34m\u001b[0m\u001b[0m\n\u001b[0m\u001b[1;32m    139\u001b[0m \u001b[0;34m\u001b[0m\u001b[0m\n",
            "\u001b[0;32m/usr/local/lib/python3.10/dist-packages/lightning/pytorch/loops/optimization/automatic.py\u001b[0m in \u001b[0;36mbackward_fn\u001b[0;34m(loss)\u001b[0m\n\u001b[1;32m    238\u001b[0m         \u001b[0;32mdef\u001b[0m \u001b[0mbackward_fn\u001b[0m\u001b[0;34m(\u001b[0m\u001b[0mloss\u001b[0m\u001b[0;34m:\u001b[0m \u001b[0mTensor\u001b[0m\u001b[0;34m)\u001b[0m \u001b[0;34m->\u001b[0m \u001b[0;32mNone\u001b[0m\u001b[0;34m:\u001b[0m\u001b[0;34m\u001b[0m\u001b[0;34m\u001b[0m\u001b[0m\n\u001b[0;32m--> 239\u001b[0;31m             \u001b[0mcall\u001b[0m\u001b[0;34m.\u001b[0m\u001b[0m_call_strategy_hook\u001b[0m\u001b[0;34m(\u001b[0m\u001b[0mself\u001b[0m\u001b[0;34m.\u001b[0m\u001b[0mtrainer\u001b[0m\u001b[0;34m,\u001b[0m \u001b[0;34m\"backward\"\u001b[0m\u001b[0;34m,\u001b[0m \u001b[0mloss\u001b[0m\u001b[0;34m,\u001b[0m \u001b[0moptimizer\u001b[0m\u001b[0;34m)\u001b[0m\u001b[0;34m\u001b[0m\u001b[0;34m\u001b[0m\u001b[0m\n\u001b[0m\u001b[1;32m    240\u001b[0m \u001b[0;34m\u001b[0m\u001b[0m\n",
            "\u001b[0;32m/usr/local/lib/python3.10/dist-packages/lightning/pytorch/trainer/call.py\u001b[0m in \u001b[0;36m_call_strategy_hook\u001b[0;34m(trainer, hook_name, *args, **kwargs)\u001b[0m\n\u001b[1;32m    318\u001b[0m     \u001b[0;32mwith\u001b[0m \u001b[0mtrainer\u001b[0m\u001b[0;34m.\u001b[0m\u001b[0mprofiler\u001b[0m\u001b[0;34m.\u001b[0m\u001b[0mprofile\u001b[0m\u001b[0;34m(\u001b[0m\u001b[0;34mf\"[Strategy]{trainer.strategy.__class__.__name__}.{hook_name}\"\u001b[0m\u001b[0;34m)\u001b[0m\u001b[0;34m:\u001b[0m\u001b[0;34m\u001b[0m\u001b[0;34m\u001b[0m\u001b[0m\n\u001b[0;32m--> 319\u001b[0;31m         \u001b[0moutput\u001b[0m \u001b[0;34m=\u001b[0m \u001b[0mfn\u001b[0m\u001b[0;34m(\u001b[0m\u001b[0;34m*\u001b[0m\u001b[0margs\u001b[0m\u001b[0;34m,\u001b[0m \u001b[0;34m**\u001b[0m\u001b[0mkwargs\u001b[0m\u001b[0;34m)\u001b[0m\u001b[0;34m\u001b[0m\u001b[0;34m\u001b[0m\u001b[0m\n\u001b[0m\u001b[1;32m    320\u001b[0m \u001b[0;34m\u001b[0m\u001b[0m\n",
            "\u001b[0;32m/usr/local/lib/python3.10/dist-packages/lightning/pytorch/strategies/strategy.py\u001b[0m in \u001b[0;36mbackward\u001b[0;34m(self, closure_loss, optimizer, *args, **kwargs)\u001b[0m\n\u001b[1;32m    211\u001b[0m \u001b[0;34m\u001b[0m\u001b[0m\n\u001b[0;32m--> 212\u001b[0;31m         \u001b[0mself\u001b[0m\u001b[0;34m.\u001b[0m\u001b[0mprecision_plugin\u001b[0m\u001b[0;34m.\u001b[0m\u001b[0mbackward\u001b[0m\u001b[0;34m(\u001b[0m\u001b[0mclosure_loss\u001b[0m\u001b[0;34m,\u001b[0m \u001b[0mself\u001b[0m\u001b[0;34m.\u001b[0m\u001b[0mlightning_module\u001b[0m\u001b[0;34m,\u001b[0m \u001b[0moptimizer\u001b[0m\u001b[0;34m,\u001b[0m \u001b[0;34m*\u001b[0m\u001b[0margs\u001b[0m\u001b[0;34m,\u001b[0m \u001b[0;34m**\u001b[0m\u001b[0mkwargs\u001b[0m\u001b[0;34m)\u001b[0m\u001b[0;34m\u001b[0m\u001b[0;34m\u001b[0m\u001b[0m\n\u001b[0m\u001b[1;32m    213\u001b[0m \u001b[0;34m\u001b[0m\u001b[0m\n",
            "\u001b[0;32m/usr/local/lib/python3.10/dist-packages/lightning/pytorch/plugins/precision/precision.py\u001b[0m in \u001b[0;36mbackward\u001b[0;34m(self, tensor, model, optimizer, *args, **kwargs)\u001b[0m\n\u001b[1;32m     71\u001b[0m         \"\"\"\n\u001b[0;32m---> 72\u001b[0;31m         \u001b[0mmodel\u001b[0m\u001b[0;34m.\u001b[0m\u001b[0mbackward\u001b[0m\u001b[0;34m(\u001b[0m\u001b[0mtensor\u001b[0m\u001b[0;34m,\u001b[0m \u001b[0;34m*\u001b[0m\u001b[0margs\u001b[0m\u001b[0;34m,\u001b[0m \u001b[0;34m**\u001b[0m\u001b[0mkwargs\u001b[0m\u001b[0;34m)\u001b[0m\u001b[0;34m\u001b[0m\u001b[0;34m\u001b[0m\u001b[0m\n\u001b[0m\u001b[1;32m     73\u001b[0m \u001b[0;34m\u001b[0m\u001b[0m\n",
            "\u001b[0;32m/usr/local/lib/python3.10/dist-packages/lightning/pytorch/core/module.py\u001b[0m in \u001b[0;36mbackward\u001b[0;34m(self, loss, *args, **kwargs)\u001b[0m\n\u001b[1;32m   1100\u001b[0m         \u001b[0;32melse\u001b[0m\u001b[0;34m:\u001b[0m\u001b[0;34m\u001b[0m\u001b[0;34m\u001b[0m\u001b[0m\n\u001b[0;32m-> 1101\u001b[0;31m             \u001b[0mloss\u001b[0m\u001b[0;34m.\u001b[0m\u001b[0mbackward\u001b[0m\u001b[0;34m(\u001b[0m\u001b[0;34m*\u001b[0m\u001b[0margs\u001b[0m\u001b[0;34m,\u001b[0m \u001b[0;34m**\u001b[0m\u001b[0mkwargs\u001b[0m\u001b[0;34m)\u001b[0m\u001b[0;34m\u001b[0m\u001b[0;34m\u001b[0m\u001b[0m\n\u001b[0m\u001b[1;32m   1102\u001b[0m \u001b[0;34m\u001b[0m\u001b[0m\n",
            "\u001b[0;32m/usr/local/lib/python3.10/dist-packages/torch/_tensor.py\u001b[0m in \u001b[0;36mbackward\u001b[0;34m(self, gradient, retain_graph, create_graph, inputs)\u001b[0m\n\u001b[1;32m    520\u001b[0m             )\n\u001b[0;32m--> 521\u001b[0;31m         torch.autograd.backward(\n\u001b[0m\u001b[1;32m    522\u001b[0m             \u001b[0mself\u001b[0m\u001b[0;34m,\u001b[0m \u001b[0mgradient\u001b[0m\u001b[0;34m,\u001b[0m \u001b[0mretain_graph\u001b[0m\u001b[0;34m,\u001b[0m \u001b[0mcreate_graph\u001b[0m\u001b[0;34m,\u001b[0m \u001b[0minputs\u001b[0m\u001b[0;34m=\u001b[0m\u001b[0minputs\u001b[0m\u001b[0;34m\u001b[0m\u001b[0;34m\u001b[0m\u001b[0m\n",
            "\u001b[0;32m/usr/local/lib/python3.10/dist-packages/torch/autograd/__init__.py\u001b[0m in \u001b[0;36mbackward\u001b[0;34m(tensors, grad_tensors, retain_graph, create_graph, grad_variables, inputs)\u001b[0m\n\u001b[1;32m    288\u001b[0m     \u001b[0;31m# calls in the traceback and some print out the last line\u001b[0m\u001b[0;34m\u001b[0m\u001b[0;34m\u001b[0m\u001b[0m\n\u001b[0;32m--> 289\u001b[0;31m     _engine_run_backward(\n\u001b[0m\u001b[1;32m    290\u001b[0m         \u001b[0mtensors\u001b[0m\u001b[0;34m,\u001b[0m\u001b[0;34m\u001b[0m\u001b[0;34m\u001b[0m\u001b[0m\n",
            "\u001b[0;32m/usr/local/lib/python3.10/dist-packages/torch/autograd/graph.py\u001b[0m in \u001b[0;36m_engine_run_backward\u001b[0;34m(t_outputs, *args, **kwargs)\u001b[0m\n\u001b[1;32m    768\u001b[0m     \u001b[0;32mtry\u001b[0m\u001b[0;34m:\u001b[0m\u001b[0;34m\u001b[0m\u001b[0;34m\u001b[0m\u001b[0m\n\u001b[0;32m--> 769\u001b[0;31m         return Variable._execution_engine.run_backward(  # Calls into the C++ engine to run the backward pass\n\u001b[0m\u001b[1;32m    770\u001b[0m             \u001b[0mt_outputs\u001b[0m\u001b[0;34m,\u001b[0m \u001b[0;34m*\u001b[0m\u001b[0margs\u001b[0m\u001b[0;34m,\u001b[0m \u001b[0;34m**\u001b[0m\u001b[0mkwargs\u001b[0m\u001b[0;34m\u001b[0m\u001b[0;34m\u001b[0m\u001b[0m\n",
            "\u001b[0;31mKeyboardInterrupt\u001b[0m: ",
            "\nDuring handling of the above exception, another exception occurred:\n",
            "\u001b[0;31mNameError\u001b[0m                                 Traceback (most recent call last)",
            "\u001b[0;32m<ipython-input-84-187022c8af2c>\u001b[0m in \u001b[0;36m<cell line: 6>\u001b[0;34m()\u001b[0m\n\u001b[1;32m      4\u001b[0m                     \u001b[0mdevices\u001b[0m\u001b[0;34m=\u001b[0m\u001b[0;36m1\u001b[0m\u001b[0;34m,\u001b[0m\u001b[0;34m\u001b[0m\u001b[0;34m\u001b[0m\u001b[0m\n\u001b[1;32m      5\u001b[0m                     max_epochs=50)\n\u001b[0;32m----> 6\u001b[0;31m \u001b[0mtrainer\u001b[0m\u001b[0;34m.\u001b[0m\u001b[0mfit\u001b[0m\u001b[0;34m(\u001b[0m\u001b[0mtraining\u001b[0m\u001b[0;34m,\u001b[0m\u001b[0mdata_module\u001b[0m\u001b[0;34m)\u001b[0m\u001b[0;34m\u001b[0m\u001b[0;34m\u001b[0m\u001b[0m\n\u001b[0m",
            "\u001b[0;32m/usr/local/lib/python3.10/dist-packages/lightning/pytorch/trainer/trainer.py\u001b[0m in \u001b[0;36mfit\u001b[0;34m(self, model, train_dataloaders, val_dataloaders, datamodule, ckpt_path)\u001b[0m\n\u001b[1;32m    536\u001b[0m         \u001b[0mself\u001b[0m\u001b[0;34m.\u001b[0m\u001b[0mstate\u001b[0m\u001b[0;34m.\u001b[0m\u001b[0mstatus\u001b[0m \u001b[0;34m=\u001b[0m \u001b[0mTrainerStatus\u001b[0m\u001b[0;34m.\u001b[0m\u001b[0mRUNNING\u001b[0m\u001b[0;34m\u001b[0m\u001b[0;34m\u001b[0m\u001b[0m\n\u001b[1;32m    537\u001b[0m         \u001b[0mself\u001b[0m\u001b[0;34m.\u001b[0m\u001b[0mtraining\u001b[0m \u001b[0;34m=\u001b[0m \u001b[0;32mTrue\u001b[0m\u001b[0;34m\u001b[0m\u001b[0;34m\u001b[0m\u001b[0m\n\u001b[0;32m--> 538\u001b[0;31m         call._call_and_handle_interrupt(\n\u001b[0m\u001b[1;32m    539\u001b[0m             \u001b[0mself\u001b[0m\u001b[0;34m,\u001b[0m \u001b[0mself\u001b[0m\u001b[0;34m.\u001b[0m\u001b[0m_fit_impl\u001b[0m\u001b[0;34m,\u001b[0m \u001b[0mmodel\u001b[0m\u001b[0;34m,\u001b[0m \u001b[0mtrain_dataloaders\u001b[0m\u001b[0;34m,\u001b[0m \u001b[0mval_dataloaders\u001b[0m\u001b[0;34m,\u001b[0m \u001b[0mdatamodule\u001b[0m\u001b[0;34m,\u001b[0m \u001b[0mckpt_path\u001b[0m\u001b[0;34m\u001b[0m\u001b[0;34m\u001b[0m\u001b[0m\n\u001b[1;32m    540\u001b[0m         )\n",
            "\u001b[0;32m/usr/local/lib/python3.10/dist-packages/lightning/pytorch/trainer/call.py\u001b[0m in \u001b[0;36m_call_and_handle_interrupt\u001b[0;34m(trainer, trainer_fn, *args, **kwargs)\u001b[0m\n\u001b[1;32m     62\u001b[0m         \u001b[0;32mif\u001b[0m \u001b[0misinstance\u001b[0m\u001b[0;34m(\u001b[0m\u001b[0mlauncher\u001b[0m\u001b[0;34m,\u001b[0m \u001b[0m_SubprocessScriptLauncher\u001b[0m\u001b[0;34m)\u001b[0m\u001b[0;34m:\u001b[0m\u001b[0;34m\u001b[0m\u001b[0;34m\u001b[0m\u001b[0m\n\u001b[1;32m     63\u001b[0m             \u001b[0mlauncher\u001b[0m\u001b[0;34m.\u001b[0m\u001b[0mkill\u001b[0m\u001b[0;34m(\u001b[0m\u001b[0m_get_sigkill_signal\u001b[0m\u001b[0;34m(\u001b[0m\u001b[0;34m)\u001b[0m\u001b[0;34m)\u001b[0m\u001b[0;34m\u001b[0m\u001b[0;34m\u001b[0m\u001b[0m\n\u001b[0;32m---> 64\u001b[0;31m         \u001b[0mexit\u001b[0m\u001b[0;34m(\u001b[0m\u001b[0;36m1\u001b[0m\u001b[0;34m)\u001b[0m\u001b[0;34m\u001b[0m\u001b[0;34m\u001b[0m\u001b[0m\n\u001b[0m\u001b[1;32m     65\u001b[0m \u001b[0;34m\u001b[0m\u001b[0m\n\u001b[1;32m     66\u001b[0m     \u001b[0;32mexcept\u001b[0m \u001b[0mBaseException\u001b[0m \u001b[0;32mas\u001b[0m \u001b[0mexception\u001b[0m\u001b[0;34m:\u001b[0m\u001b[0;34m\u001b[0m\u001b[0;34m\u001b[0m\u001b[0m\n",
            "\u001b[0;31mNameError\u001b[0m: name 'exit' is not defined"
          ]
        }
      ]
    }
  ]
}