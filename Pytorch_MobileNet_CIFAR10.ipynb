{
  "nbformat": 4,
  "nbformat_minor": 0,
  "metadata": {
    "colab": {
      "provenance": []
    },
    "kernelspec": {
      "name": "python3",
      "display_name": "Python 3"
    },
    "language_info": {
      "name": "python"
    },
    "widgets": {
      "application/vnd.jupyter.widget-state+json": {
        "76b09dc70bc7443dad48e76bc25d1946": {
          "model_module": "@jupyter-widgets/controls",
          "model_name": "HBoxModel",
          "model_module_version": "1.5.0",
          "state": {
            "_dom_classes": [],
            "_model_module": "@jupyter-widgets/controls",
            "_model_module_version": "1.5.0",
            "_model_name": "HBoxModel",
            "_view_count": null,
            "_view_module": "@jupyter-widgets/controls",
            "_view_module_version": "1.5.0",
            "_view_name": "HBoxView",
            "box_style": "",
            "children": [
              "IPY_MODEL_90c9e539fdb14b568c8bcf0bb52937aa",
              "IPY_MODEL_eaa721a44c7b42368d12fe0270c22320",
              "IPY_MODEL_0bcb2b0d2f1546059772ce94fa589e0f"
            ],
            "layout": "IPY_MODEL_d59db96a0c0348e3a585e36304e67418"
          }
        },
        "90c9e539fdb14b568c8bcf0bb52937aa": {
          "model_module": "@jupyter-widgets/controls",
          "model_name": "HTMLModel",
          "model_module_version": "1.5.0",
          "state": {
            "_dom_classes": [],
            "_model_module": "@jupyter-widgets/controls",
            "_model_module_version": "1.5.0",
            "_model_name": "HTMLModel",
            "_view_count": null,
            "_view_module": "@jupyter-widgets/controls",
            "_view_module_version": "1.5.0",
            "_view_name": "HTMLView",
            "description": "",
            "description_tooltip": null,
            "layout": "IPY_MODEL_b8208defb25646e6b11682d334fce0e7",
            "placeholder": "​",
            "style": "IPY_MODEL_f05ad4df28364af9a634b370d73a1e79",
            "value": "Sanity Checking DataLoader 0: 100%"
          }
        },
        "eaa721a44c7b42368d12fe0270c22320": {
          "model_module": "@jupyter-widgets/controls",
          "model_name": "FloatProgressModel",
          "model_module_version": "1.5.0",
          "state": {
            "_dom_classes": [],
            "_model_module": "@jupyter-widgets/controls",
            "_model_module_version": "1.5.0",
            "_model_name": "FloatProgressModel",
            "_view_count": null,
            "_view_module": "@jupyter-widgets/controls",
            "_view_module_version": "1.5.0",
            "_view_name": "ProgressView",
            "bar_style": "",
            "description": "",
            "description_tooltip": null,
            "layout": "IPY_MODEL_a2f95d9f73e641978f81189da6184e7c",
            "max": 2,
            "min": 0,
            "orientation": "horizontal",
            "style": "IPY_MODEL_636b6b70738245ebafa37090eb275398",
            "value": 2
          }
        },
        "0bcb2b0d2f1546059772ce94fa589e0f": {
          "model_module": "@jupyter-widgets/controls",
          "model_name": "HTMLModel",
          "model_module_version": "1.5.0",
          "state": {
            "_dom_classes": [],
            "_model_module": "@jupyter-widgets/controls",
            "_model_module_version": "1.5.0",
            "_model_name": "HTMLModel",
            "_view_count": null,
            "_view_module": "@jupyter-widgets/controls",
            "_view_module_version": "1.5.0",
            "_view_name": "HTMLView",
            "description": "",
            "description_tooltip": null,
            "layout": "IPY_MODEL_cba76fc3399a4019a988aae02b54bbda",
            "placeholder": "​",
            "style": "IPY_MODEL_1096af2be2dc4cbfb85d7ab4048157f8",
            "value": " 2/2 [00:00&lt;00:00,  4.27it/s]"
          }
        },
        "d59db96a0c0348e3a585e36304e67418": {
          "model_module": "@jupyter-widgets/base",
          "model_name": "LayoutModel",
          "model_module_version": "1.2.0",
          "state": {
            "_model_module": "@jupyter-widgets/base",
            "_model_module_version": "1.2.0",
            "_model_name": "LayoutModel",
            "_view_count": null,
            "_view_module": "@jupyter-widgets/base",
            "_view_module_version": "1.2.0",
            "_view_name": "LayoutView",
            "align_content": null,
            "align_items": null,
            "align_self": null,
            "border": null,
            "bottom": null,
            "display": "inline-flex",
            "flex": null,
            "flex_flow": "row wrap",
            "grid_area": null,
            "grid_auto_columns": null,
            "grid_auto_flow": null,
            "grid_auto_rows": null,
            "grid_column": null,
            "grid_gap": null,
            "grid_row": null,
            "grid_template_areas": null,
            "grid_template_columns": null,
            "grid_template_rows": null,
            "height": null,
            "justify_content": null,
            "justify_items": null,
            "left": null,
            "margin": null,
            "max_height": null,
            "max_width": null,
            "min_height": null,
            "min_width": null,
            "object_fit": null,
            "object_position": null,
            "order": null,
            "overflow": null,
            "overflow_x": null,
            "overflow_y": null,
            "padding": null,
            "right": null,
            "top": null,
            "visibility": "hidden",
            "width": "100%"
          }
        },
        "b8208defb25646e6b11682d334fce0e7": {
          "model_module": "@jupyter-widgets/base",
          "model_name": "LayoutModel",
          "model_module_version": "1.2.0",
          "state": {
            "_model_module": "@jupyter-widgets/base",
            "_model_module_version": "1.2.0",
            "_model_name": "LayoutModel",
            "_view_count": null,
            "_view_module": "@jupyter-widgets/base",
            "_view_module_version": "1.2.0",
            "_view_name": "LayoutView",
            "align_content": null,
            "align_items": null,
            "align_self": null,
            "border": null,
            "bottom": null,
            "display": null,
            "flex": null,
            "flex_flow": null,
            "grid_area": null,
            "grid_auto_columns": null,
            "grid_auto_flow": null,
            "grid_auto_rows": null,
            "grid_column": null,
            "grid_gap": null,
            "grid_row": null,
            "grid_template_areas": null,
            "grid_template_columns": null,
            "grid_template_rows": null,
            "height": null,
            "justify_content": null,
            "justify_items": null,
            "left": null,
            "margin": null,
            "max_height": null,
            "max_width": null,
            "min_height": null,
            "min_width": null,
            "object_fit": null,
            "object_position": null,
            "order": null,
            "overflow": null,
            "overflow_x": null,
            "overflow_y": null,
            "padding": null,
            "right": null,
            "top": null,
            "visibility": null,
            "width": null
          }
        },
        "f05ad4df28364af9a634b370d73a1e79": {
          "model_module": "@jupyter-widgets/controls",
          "model_name": "DescriptionStyleModel",
          "model_module_version": "1.5.0",
          "state": {
            "_model_module": "@jupyter-widgets/controls",
            "_model_module_version": "1.5.0",
            "_model_name": "DescriptionStyleModel",
            "_view_count": null,
            "_view_module": "@jupyter-widgets/base",
            "_view_module_version": "1.2.0",
            "_view_name": "StyleView",
            "description_width": ""
          }
        },
        "a2f95d9f73e641978f81189da6184e7c": {
          "model_module": "@jupyter-widgets/base",
          "model_name": "LayoutModel",
          "model_module_version": "1.2.0",
          "state": {
            "_model_module": "@jupyter-widgets/base",
            "_model_module_version": "1.2.0",
            "_model_name": "LayoutModel",
            "_view_count": null,
            "_view_module": "@jupyter-widgets/base",
            "_view_module_version": "1.2.0",
            "_view_name": "LayoutView",
            "align_content": null,
            "align_items": null,
            "align_self": null,
            "border": null,
            "bottom": null,
            "display": null,
            "flex": "2",
            "flex_flow": null,
            "grid_area": null,
            "grid_auto_columns": null,
            "grid_auto_flow": null,
            "grid_auto_rows": null,
            "grid_column": null,
            "grid_gap": null,
            "grid_row": null,
            "grid_template_areas": null,
            "grid_template_columns": null,
            "grid_template_rows": null,
            "height": null,
            "justify_content": null,
            "justify_items": null,
            "left": null,
            "margin": null,
            "max_height": null,
            "max_width": null,
            "min_height": null,
            "min_width": null,
            "object_fit": null,
            "object_position": null,
            "order": null,
            "overflow": null,
            "overflow_x": null,
            "overflow_y": null,
            "padding": null,
            "right": null,
            "top": null,
            "visibility": null,
            "width": null
          }
        },
        "636b6b70738245ebafa37090eb275398": {
          "model_module": "@jupyter-widgets/controls",
          "model_name": "ProgressStyleModel",
          "model_module_version": "1.5.0",
          "state": {
            "_model_module": "@jupyter-widgets/controls",
            "_model_module_version": "1.5.0",
            "_model_name": "ProgressStyleModel",
            "_view_count": null,
            "_view_module": "@jupyter-widgets/base",
            "_view_module_version": "1.2.0",
            "_view_name": "StyleView",
            "bar_color": null,
            "description_width": ""
          }
        },
        "cba76fc3399a4019a988aae02b54bbda": {
          "model_module": "@jupyter-widgets/base",
          "model_name": "LayoutModel",
          "model_module_version": "1.2.0",
          "state": {
            "_model_module": "@jupyter-widgets/base",
            "_model_module_version": "1.2.0",
            "_model_name": "LayoutModel",
            "_view_count": null,
            "_view_module": "@jupyter-widgets/base",
            "_view_module_version": "1.2.0",
            "_view_name": "LayoutView",
            "align_content": null,
            "align_items": null,
            "align_self": null,
            "border": null,
            "bottom": null,
            "display": null,
            "flex": null,
            "flex_flow": null,
            "grid_area": null,
            "grid_auto_columns": null,
            "grid_auto_flow": null,
            "grid_auto_rows": null,
            "grid_column": null,
            "grid_gap": null,
            "grid_row": null,
            "grid_template_areas": null,
            "grid_template_columns": null,
            "grid_template_rows": null,
            "height": null,
            "justify_content": null,
            "justify_items": null,
            "left": null,
            "margin": null,
            "max_height": null,
            "max_width": null,
            "min_height": null,
            "min_width": null,
            "object_fit": null,
            "object_position": null,
            "order": null,
            "overflow": null,
            "overflow_x": null,
            "overflow_y": null,
            "padding": null,
            "right": null,
            "top": null,
            "visibility": null,
            "width": null
          }
        },
        "1096af2be2dc4cbfb85d7ab4048157f8": {
          "model_module": "@jupyter-widgets/controls",
          "model_name": "DescriptionStyleModel",
          "model_module_version": "1.5.0",
          "state": {
            "_model_module": "@jupyter-widgets/controls",
            "_model_module_version": "1.5.0",
            "_model_name": "DescriptionStyleModel",
            "_view_count": null,
            "_view_module": "@jupyter-widgets/base",
            "_view_module_version": "1.2.0",
            "_view_name": "StyleView",
            "description_width": ""
          }
        },
        "c64eef5af4ba4121b47c26b482e10c68": {
          "model_module": "@jupyter-widgets/controls",
          "model_name": "HBoxModel",
          "model_module_version": "1.5.0",
          "state": {
            "_dom_classes": [],
            "_model_module": "@jupyter-widgets/controls",
            "_model_module_version": "1.5.0",
            "_model_name": "HBoxModel",
            "_view_count": null,
            "_view_module": "@jupyter-widgets/controls",
            "_view_module_version": "1.5.0",
            "_view_name": "HBoxView",
            "box_style": "",
            "children": [
              "IPY_MODEL_6114f62d2e3d424c935f8630670da1cf",
              "IPY_MODEL_132cef055b124ac989ba6544453679de",
              "IPY_MODEL_e403c2f7afc24908900bd81f8c4a5b31"
            ],
            "layout": "IPY_MODEL_abbb514a95ac4dfcb835b2ef7b8cc234"
          }
        },
        "6114f62d2e3d424c935f8630670da1cf": {
          "model_module": "@jupyter-widgets/controls",
          "model_name": "HTMLModel",
          "model_module_version": "1.5.0",
          "state": {
            "_dom_classes": [],
            "_model_module": "@jupyter-widgets/controls",
            "_model_module_version": "1.5.0",
            "_model_name": "HTMLModel",
            "_view_count": null,
            "_view_module": "@jupyter-widgets/controls",
            "_view_module_version": "1.5.0",
            "_view_name": "HTMLView",
            "description": "",
            "description_tooltip": null,
            "layout": "IPY_MODEL_4277d1cff6014c07a361cb43e8fb6cbe",
            "placeholder": "​",
            "style": "IPY_MODEL_5ae5dec5e75c4c3eb4e68c45fc54ca49",
            "value": "Training: "
          }
        },
        "132cef055b124ac989ba6544453679de": {
          "model_module": "@jupyter-widgets/controls",
          "model_name": "FloatProgressModel",
          "model_module_version": "1.5.0",
          "state": {
            "_dom_classes": [],
            "_model_module": "@jupyter-widgets/controls",
            "_model_module_version": "1.5.0",
            "_model_name": "FloatProgressModel",
            "_view_count": null,
            "_view_module": "@jupyter-widgets/controls",
            "_view_module_version": "1.5.0",
            "_view_name": "ProgressView",
            "bar_style": "success",
            "description": "",
            "description_tooltip": null,
            "layout": "IPY_MODEL_15c33f7e01b349f7aebe10824c0e5e49",
            "max": 1,
            "min": 0,
            "orientation": "horizontal",
            "style": "IPY_MODEL_e2b0ba5e10884cd4bcfc886fb6e0b049",
            "value": 0
          }
        },
        "e403c2f7afc24908900bd81f8c4a5b31": {
          "model_module": "@jupyter-widgets/controls",
          "model_name": "HTMLModel",
          "model_module_version": "1.5.0",
          "state": {
            "_dom_classes": [],
            "_model_module": "@jupyter-widgets/controls",
            "_model_module_version": "1.5.0",
            "_model_name": "HTMLModel",
            "_view_count": null,
            "_view_module": "@jupyter-widgets/controls",
            "_view_module_version": "1.5.0",
            "_view_name": "HTMLView",
            "description": "",
            "description_tooltip": null,
            "layout": "IPY_MODEL_5da7977f836a4a2c97b3ad3a004dadb9",
            "placeholder": "​",
            "style": "IPY_MODEL_fe433ef4c11742d79064e2b2687decc2",
            "value": " 0/? [01:28&lt;?, ?it/s]"
          }
        },
        "abbb514a95ac4dfcb835b2ef7b8cc234": {
          "model_module": "@jupyter-widgets/base",
          "model_name": "LayoutModel",
          "model_module_version": "1.2.0",
          "state": {
            "_model_module": "@jupyter-widgets/base",
            "_model_module_version": "1.2.0",
            "_model_name": "LayoutModel",
            "_view_count": null,
            "_view_module": "@jupyter-widgets/base",
            "_view_module_version": "1.2.0",
            "_view_name": "LayoutView",
            "align_content": null,
            "align_items": null,
            "align_self": null,
            "border": null,
            "bottom": null,
            "display": "inline-flex",
            "flex": null,
            "flex_flow": "row wrap",
            "grid_area": null,
            "grid_auto_columns": null,
            "grid_auto_flow": null,
            "grid_auto_rows": null,
            "grid_column": null,
            "grid_gap": null,
            "grid_row": null,
            "grid_template_areas": null,
            "grid_template_columns": null,
            "grid_template_rows": null,
            "height": null,
            "justify_content": null,
            "justify_items": null,
            "left": null,
            "margin": null,
            "max_height": null,
            "max_width": null,
            "min_height": null,
            "min_width": null,
            "object_fit": null,
            "object_position": null,
            "order": null,
            "overflow": null,
            "overflow_x": null,
            "overflow_y": null,
            "padding": null,
            "right": null,
            "top": null,
            "visibility": null,
            "width": "100%"
          }
        },
        "4277d1cff6014c07a361cb43e8fb6cbe": {
          "model_module": "@jupyter-widgets/base",
          "model_name": "LayoutModel",
          "model_module_version": "1.2.0",
          "state": {
            "_model_module": "@jupyter-widgets/base",
            "_model_module_version": "1.2.0",
            "_model_name": "LayoutModel",
            "_view_count": null,
            "_view_module": "@jupyter-widgets/base",
            "_view_module_version": "1.2.0",
            "_view_name": "LayoutView",
            "align_content": null,
            "align_items": null,
            "align_self": null,
            "border": null,
            "bottom": null,
            "display": null,
            "flex": null,
            "flex_flow": null,
            "grid_area": null,
            "grid_auto_columns": null,
            "grid_auto_flow": null,
            "grid_auto_rows": null,
            "grid_column": null,
            "grid_gap": null,
            "grid_row": null,
            "grid_template_areas": null,
            "grid_template_columns": null,
            "grid_template_rows": null,
            "height": null,
            "justify_content": null,
            "justify_items": null,
            "left": null,
            "margin": null,
            "max_height": null,
            "max_width": null,
            "min_height": null,
            "min_width": null,
            "object_fit": null,
            "object_position": null,
            "order": null,
            "overflow": null,
            "overflow_x": null,
            "overflow_y": null,
            "padding": null,
            "right": null,
            "top": null,
            "visibility": null,
            "width": null
          }
        },
        "5ae5dec5e75c4c3eb4e68c45fc54ca49": {
          "model_module": "@jupyter-widgets/controls",
          "model_name": "DescriptionStyleModel",
          "model_module_version": "1.5.0",
          "state": {
            "_model_module": "@jupyter-widgets/controls",
            "_model_module_version": "1.5.0",
            "_model_name": "DescriptionStyleModel",
            "_view_count": null,
            "_view_module": "@jupyter-widgets/base",
            "_view_module_version": "1.2.0",
            "_view_name": "StyleView",
            "description_width": ""
          }
        },
        "15c33f7e01b349f7aebe10824c0e5e49": {
          "model_module": "@jupyter-widgets/base",
          "model_name": "LayoutModel",
          "model_module_version": "1.2.0",
          "state": {
            "_model_module": "@jupyter-widgets/base",
            "_model_module_version": "1.2.0",
            "_model_name": "LayoutModel",
            "_view_count": null,
            "_view_module": "@jupyter-widgets/base",
            "_view_module_version": "1.2.0",
            "_view_name": "LayoutView",
            "align_content": null,
            "align_items": null,
            "align_self": null,
            "border": null,
            "bottom": null,
            "display": null,
            "flex": "2",
            "flex_flow": null,
            "grid_area": null,
            "grid_auto_columns": null,
            "grid_auto_flow": null,
            "grid_auto_rows": null,
            "grid_column": null,
            "grid_gap": null,
            "grid_row": null,
            "grid_template_areas": null,
            "grid_template_columns": null,
            "grid_template_rows": null,
            "height": null,
            "justify_content": null,
            "justify_items": null,
            "left": null,
            "margin": null,
            "max_height": null,
            "max_width": null,
            "min_height": null,
            "min_width": null,
            "object_fit": null,
            "object_position": null,
            "order": null,
            "overflow": null,
            "overflow_x": null,
            "overflow_y": null,
            "padding": null,
            "right": null,
            "top": null,
            "visibility": null,
            "width": null
          }
        },
        "e2b0ba5e10884cd4bcfc886fb6e0b049": {
          "model_module": "@jupyter-widgets/controls",
          "model_name": "ProgressStyleModel",
          "model_module_version": "1.5.0",
          "state": {
            "_model_module": "@jupyter-widgets/controls",
            "_model_module_version": "1.5.0",
            "_model_name": "ProgressStyleModel",
            "_view_count": null,
            "_view_module": "@jupyter-widgets/base",
            "_view_module_version": "1.2.0",
            "_view_name": "StyleView",
            "bar_color": null,
            "description_width": ""
          }
        },
        "5da7977f836a4a2c97b3ad3a004dadb9": {
          "model_module": "@jupyter-widgets/base",
          "model_name": "LayoutModel",
          "model_module_version": "1.2.0",
          "state": {
            "_model_module": "@jupyter-widgets/base",
            "_model_module_version": "1.2.0",
            "_model_name": "LayoutModel",
            "_view_count": null,
            "_view_module": "@jupyter-widgets/base",
            "_view_module_version": "1.2.0",
            "_view_name": "LayoutView",
            "align_content": null,
            "align_items": null,
            "align_self": null,
            "border": null,
            "bottom": null,
            "display": null,
            "flex": null,
            "flex_flow": null,
            "grid_area": null,
            "grid_auto_columns": null,
            "grid_auto_flow": null,
            "grid_auto_rows": null,
            "grid_column": null,
            "grid_gap": null,
            "grid_row": null,
            "grid_template_areas": null,
            "grid_template_columns": null,
            "grid_template_rows": null,
            "height": null,
            "justify_content": null,
            "justify_items": null,
            "left": null,
            "margin": null,
            "max_height": null,
            "max_width": null,
            "min_height": null,
            "min_width": null,
            "object_fit": null,
            "object_position": null,
            "order": null,
            "overflow": null,
            "overflow_x": null,
            "overflow_y": null,
            "padding": null,
            "right": null,
            "top": null,
            "visibility": null,
            "width": null
          }
        },
        "fe433ef4c11742d79064e2b2687decc2": {
          "model_module": "@jupyter-widgets/controls",
          "model_name": "DescriptionStyleModel",
          "model_module_version": "1.5.0",
          "state": {
            "_model_module": "@jupyter-widgets/controls",
            "_model_module_version": "1.5.0",
            "_model_name": "DescriptionStyleModel",
            "_view_count": null,
            "_view_module": "@jupyter-widgets/base",
            "_view_module_version": "1.2.0",
            "_view_name": "StyleView",
            "description_width": ""
          }
        },
        "8b70ddf8dfd14ab0a720fc17187f0954": {
          "model_module": "@jupyter-widgets/controls",
          "model_name": "HBoxModel",
          "model_module_version": "1.5.0",
          "state": {
            "_dom_classes": [],
            "_model_module": "@jupyter-widgets/controls",
            "_model_module_version": "1.5.0",
            "_model_name": "HBoxModel",
            "_view_count": null,
            "_view_module": "@jupyter-widgets/controls",
            "_view_module_version": "1.5.0",
            "_view_name": "HBoxView",
            "box_style": "",
            "children": [
              "IPY_MODEL_337ceca387c54668bd4c3880674ed465",
              "IPY_MODEL_70428cd705804f26a56f4f8f42d630b3",
              "IPY_MODEL_139df0776806493db91163df83bc416b"
            ],
            "layout": "IPY_MODEL_1c1fe5c73cfe4c1fb55a54f0709ec343"
          }
        },
        "337ceca387c54668bd4c3880674ed465": {
          "model_module": "@jupyter-widgets/controls",
          "model_name": "HTMLModel",
          "model_module_version": "1.5.0",
          "state": {
            "_dom_classes": [],
            "_model_module": "@jupyter-widgets/controls",
            "_model_module_version": "1.5.0",
            "_model_name": "HTMLModel",
            "_view_count": null,
            "_view_module": "@jupyter-widgets/controls",
            "_view_module_version": "1.5.0",
            "_view_name": "HTMLView",
            "description": "",
            "description_tooltip": null,
            "layout": "IPY_MODEL_de76b7411b8d46e6ac8c5480eb6926e7",
            "placeholder": "​",
            "style": "IPY_MODEL_7bc2f10136564e8197a9c0f864dade51",
            "value": "Epoch 0: 100%"
          }
        },
        "70428cd705804f26a56f4f8f42d630b3": {
          "model_module": "@jupyter-widgets/controls",
          "model_name": "FloatProgressModel",
          "model_module_version": "1.5.0",
          "state": {
            "_dom_classes": [],
            "_model_module": "@jupyter-widgets/controls",
            "_model_module_version": "1.5.0",
            "_model_name": "FloatProgressModel",
            "_view_count": null,
            "_view_module": "@jupyter-widgets/controls",
            "_view_module_version": "1.5.0",
            "_view_name": "ProgressView",
            "bar_style": "success",
            "description": "",
            "description_tooltip": null,
            "layout": "IPY_MODEL_604ef55a6a564eb48869566730837127",
            "max": 351,
            "min": 0,
            "orientation": "horizontal",
            "style": "IPY_MODEL_e835b64715884cf2b8c9f2221f5dd8e7",
            "value": 351
          }
        },
        "139df0776806493db91163df83bc416b": {
          "model_module": "@jupyter-widgets/controls",
          "model_name": "HTMLModel",
          "model_module_version": "1.5.0",
          "state": {
            "_dom_classes": [],
            "_model_module": "@jupyter-widgets/controls",
            "_model_module_version": "1.5.0",
            "_model_name": "HTMLModel",
            "_view_count": null,
            "_view_module": "@jupyter-widgets/controls",
            "_view_module_version": "1.5.0",
            "_view_name": "HTMLView",
            "description": "",
            "description_tooltip": null,
            "layout": "IPY_MODEL_2be8e754e2a34e309a06fe0ee447c0ef",
            "placeholder": "​",
            "style": "IPY_MODEL_15335db868424f568e576f7cf883a99a",
            "value": " 351/351 [05:32&lt;00:00,  1.06it/s, v_num=1, train_loss=2.300, train_acc=0.141, val_loss=2.300, val_acc=0.103]"
          }
        },
        "1c1fe5c73cfe4c1fb55a54f0709ec343": {
          "model_module": "@jupyter-widgets/base",
          "model_name": "LayoutModel",
          "model_module_version": "1.2.0",
          "state": {
            "_model_module": "@jupyter-widgets/base",
            "_model_module_version": "1.2.0",
            "_model_name": "LayoutModel",
            "_view_count": null,
            "_view_module": "@jupyter-widgets/base",
            "_view_module_version": "1.2.0",
            "_view_name": "LayoutView",
            "align_content": null,
            "align_items": null,
            "align_self": null,
            "border": null,
            "bottom": null,
            "display": "inline-flex",
            "flex": null,
            "flex_flow": "row wrap",
            "grid_area": null,
            "grid_auto_columns": null,
            "grid_auto_flow": null,
            "grid_auto_rows": null,
            "grid_column": null,
            "grid_gap": null,
            "grid_row": null,
            "grid_template_areas": null,
            "grid_template_columns": null,
            "grid_template_rows": null,
            "height": null,
            "justify_content": null,
            "justify_items": null,
            "left": null,
            "margin": null,
            "max_height": null,
            "max_width": null,
            "min_height": null,
            "min_width": null,
            "object_fit": null,
            "object_position": null,
            "order": null,
            "overflow": null,
            "overflow_x": null,
            "overflow_y": null,
            "padding": null,
            "right": null,
            "top": null,
            "visibility": null,
            "width": "100%"
          }
        },
        "de76b7411b8d46e6ac8c5480eb6926e7": {
          "model_module": "@jupyter-widgets/base",
          "model_name": "LayoutModel",
          "model_module_version": "1.2.0",
          "state": {
            "_model_module": "@jupyter-widgets/base",
            "_model_module_version": "1.2.0",
            "_model_name": "LayoutModel",
            "_view_count": null,
            "_view_module": "@jupyter-widgets/base",
            "_view_module_version": "1.2.0",
            "_view_name": "LayoutView",
            "align_content": null,
            "align_items": null,
            "align_self": null,
            "border": null,
            "bottom": null,
            "display": null,
            "flex": null,
            "flex_flow": null,
            "grid_area": null,
            "grid_auto_columns": null,
            "grid_auto_flow": null,
            "grid_auto_rows": null,
            "grid_column": null,
            "grid_gap": null,
            "grid_row": null,
            "grid_template_areas": null,
            "grid_template_columns": null,
            "grid_template_rows": null,
            "height": null,
            "justify_content": null,
            "justify_items": null,
            "left": null,
            "margin": null,
            "max_height": null,
            "max_width": null,
            "min_height": null,
            "min_width": null,
            "object_fit": null,
            "object_position": null,
            "order": null,
            "overflow": null,
            "overflow_x": null,
            "overflow_y": null,
            "padding": null,
            "right": null,
            "top": null,
            "visibility": null,
            "width": null
          }
        },
        "7bc2f10136564e8197a9c0f864dade51": {
          "model_module": "@jupyter-widgets/controls",
          "model_name": "DescriptionStyleModel",
          "model_module_version": "1.5.0",
          "state": {
            "_model_module": "@jupyter-widgets/controls",
            "_model_module_version": "1.5.0",
            "_model_name": "DescriptionStyleModel",
            "_view_count": null,
            "_view_module": "@jupyter-widgets/base",
            "_view_module_version": "1.2.0",
            "_view_name": "StyleView",
            "description_width": ""
          }
        },
        "604ef55a6a564eb48869566730837127": {
          "model_module": "@jupyter-widgets/base",
          "model_name": "LayoutModel",
          "model_module_version": "1.2.0",
          "state": {
            "_model_module": "@jupyter-widgets/base",
            "_model_module_version": "1.2.0",
            "_model_name": "LayoutModel",
            "_view_count": null,
            "_view_module": "@jupyter-widgets/base",
            "_view_module_version": "1.2.0",
            "_view_name": "LayoutView",
            "align_content": null,
            "align_items": null,
            "align_self": null,
            "border": null,
            "bottom": null,
            "display": null,
            "flex": "2",
            "flex_flow": null,
            "grid_area": null,
            "grid_auto_columns": null,
            "grid_auto_flow": null,
            "grid_auto_rows": null,
            "grid_column": null,
            "grid_gap": null,
            "grid_row": null,
            "grid_template_areas": null,
            "grid_template_columns": null,
            "grid_template_rows": null,
            "height": null,
            "justify_content": null,
            "justify_items": null,
            "left": null,
            "margin": null,
            "max_height": null,
            "max_width": null,
            "min_height": null,
            "min_width": null,
            "object_fit": null,
            "object_position": null,
            "order": null,
            "overflow": null,
            "overflow_x": null,
            "overflow_y": null,
            "padding": null,
            "right": null,
            "top": null,
            "visibility": null,
            "width": null
          }
        },
        "e835b64715884cf2b8c9f2221f5dd8e7": {
          "model_module": "@jupyter-widgets/controls",
          "model_name": "ProgressStyleModel",
          "model_module_version": "1.5.0",
          "state": {
            "_model_module": "@jupyter-widgets/controls",
            "_model_module_version": "1.5.0",
            "_model_name": "ProgressStyleModel",
            "_view_count": null,
            "_view_module": "@jupyter-widgets/base",
            "_view_module_version": "1.2.0",
            "_view_name": "StyleView",
            "bar_color": null,
            "description_width": ""
          }
        },
        "2be8e754e2a34e309a06fe0ee447c0ef": {
          "model_module": "@jupyter-widgets/base",
          "model_name": "LayoutModel",
          "model_module_version": "1.2.0",
          "state": {
            "_model_module": "@jupyter-widgets/base",
            "_model_module_version": "1.2.0",
            "_model_name": "LayoutModel",
            "_view_count": null,
            "_view_module": "@jupyter-widgets/base",
            "_view_module_version": "1.2.0",
            "_view_name": "LayoutView",
            "align_content": null,
            "align_items": null,
            "align_self": null,
            "border": null,
            "bottom": null,
            "display": null,
            "flex": null,
            "flex_flow": null,
            "grid_area": null,
            "grid_auto_columns": null,
            "grid_auto_flow": null,
            "grid_auto_rows": null,
            "grid_column": null,
            "grid_gap": null,
            "grid_row": null,
            "grid_template_areas": null,
            "grid_template_columns": null,
            "grid_template_rows": null,
            "height": null,
            "justify_content": null,
            "justify_items": null,
            "left": null,
            "margin": null,
            "max_height": null,
            "max_width": null,
            "min_height": null,
            "min_width": null,
            "object_fit": null,
            "object_position": null,
            "order": null,
            "overflow": null,
            "overflow_x": null,
            "overflow_y": null,
            "padding": null,
            "right": null,
            "top": null,
            "visibility": null,
            "width": null
          }
        },
        "15335db868424f568e576f7cf883a99a": {
          "model_module": "@jupyter-widgets/controls",
          "model_name": "DescriptionStyleModel",
          "model_module_version": "1.5.0",
          "state": {
            "_model_module": "@jupyter-widgets/controls",
            "_model_module_version": "1.5.0",
            "_model_name": "DescriptionStyleModel",
            "_view_count": null,
            "_view_module": "@jupyter-widgets/base",
            "_view_module_version": "1.2.0",
            "_view_name": "StyleView",
            "description_width": ""
          }
        },
        "92bf9a79ae744a1b9352facd58fd1431": {
          "model_module": "@jupyter-widgets/controls",
          "model_name": "HBoxModel",
          "model_module_version": "1.5.0",
          "state": {
            "_dom_classes": [],
            "_model_module": "@jupyter-widgets/controls",
            "_model_module_version": "1.5.0",
            "_model_name": "HBoxModel",
            "_view_count": null,
            "_view_module": "@jupyter-widgets/controls",
            "_view_module_version": "1.5.0",
            "_view_name": "HBoxView",
            "box_style": "",
            "children": [
              "IPY_MODEL_540ad5201a1143ef816209f4d4cd2ea7",
              "IPY_MODEL_f461b951c5fd4d6f83041c1fb59dcdcd",
              "IPY_MODEL_26b771e6a66649f1a9cdde8fdac45295"
            ],
            "layout": "IPY_MODEL_570b17b4ed6b4041b3562e3778fff8bc"
          }
        },
        "540ad5201a1143ef816209f4d4cd2ea7": {
          "model_module": "@jupyter-widgets/controls",
          "model_name": "HTMLModel",
          "model_module_version": "1.5.0",
          "state": {
            "_dom_classes": [],
            "_model_module": "@jupyter-widgets/controls",
            "_model_module_version": "1.5.0",
            "_model_name": "HTMLModel",
            "_view_count": null,
            "_view_module": "@jupyter-widgets/controls",
            "_view_module_version": "1.5.0",
            "_view_name": "HTMLView",
            "description": "",
            "description_tooltip": null,
            "layout": "IPY_MODEL_b1cf976f18a64cdd9e0d58e2109d5d38",
            "placeholder": "​",
            "style": "IPY_MODEL_66dbf8d77bce4145bd5dd30a3a6d8eda",
            "value": "Validation DataLoader 0: 100%"
          }
        },
        "f461b951c5fd4d6f83041c1fb59dcdcd": {
          "model_module": "@jupyter-widgets/controls",
          "model_name": "FloatProgressModel",
          "model_module_version": "1.5.0",
          "state": {
            "_dom_classes": [],
            "_model_module": "@jupyter-widgets/controls",
            "_model_module_version": "1.5.0",
            "_model_name": "FloatProgressModel",
            "_view_count": null,
            "_view_module": "@jupyter-widgets/controls",
            "_view_module_version": "1.5.0",
            "_view_name": "ProgressView",
            "bar_style": "",
            "description": "",
            "description_tooltip": null,
            "layout": "IPY_MODEL_7c8a2bba66e34adeb362e75f3156bdec",
            "max": 39,
            "min": 0,
            "orientation": "horizontal",
            "style": "IPY_MODEL_9d4f5c9ee90442f19663ca137bbad0e0",
            "value": 39
          }
        },
        "26b771e6a66649f1a9cdde8fdac45295": {
          "model_module": "@jupyter-widgets/controls",
          "model_name": "HTMLModel",
          "model_module_version": "1.5.0",
          "state": {
            "_dom_classes": [],
            "_model_module": "@jupyter-widgets/controls",
            "_model_module_version": "1.5.0",
            "_model_name": "HTMLModel",
            "_view_count": null,
            "_view_module": "@jupyter-widgets/controls",
            "_view_module_version": "1.5.0",
            "_view_name": "HTMLView",
            "description": "",
            "description_tooltip": null,
            "layout": "IPY_MODEL_0e1911216c004ff9a9b74114fb8102cc",
            "placeholder": "​",
            "style": "IPY_MODEL_2c16583ff26946e3a89354632485cf14",
            "value": " 39/39 [00:07&lt;00:00,  5.02it/s]"
          }
        },
        "570b17b4ed6b4041b3562e3778fff8bc": {
          "model_module": "@jupyter-widgets/base",
          "model_name": "LayoutModel",
          "model_module_version": "1.2.0",
          "state": {
            "_model_module": "@jupyter-widgets/base",
            "_model_module_version": "1.2.0",
            "_model_name": "LayoutModel",
            "_view_count": null,
            "_view_module": "@jupyter-widgets/base",
            "_view_module_version": "1.2.0",
            "_view_name": "LayoutView",
            "align_content": null,
            "align_items": null,
            "align_self": null,
            "border": null,
            "bottom": null,
            "display": "inline-flex",
            "flex": null,
            "flex_flow": "row wrap",
            "grid_area": null,
            "grid_auto_columns": null,
            "grid_auto_flow": null,
            "grid_auto_rows": null,
            "grid_column": null,
            "grid_gap": null,
            "grid_row": null,
            "grid_template_areas": null,
            "grid_template_columns": null,
            "grid_template_rows": null,
            "height": null,
            "justify_content": null,
            "justify_items": null,
            "left": null,
            "margin": null,
            "max_height": null,
            "max_width": null,
            "min_height": null,
            "min_width": null,
            "object_fit": null,
            "object_position": null,
            "order": null,
            "overflow": null,
            "overflow_x": null,
            "overflow_y": null,
            "padding": null,
            "right": null,
            "top": null,
            "visibility": "hidden",
            "width": "100%"
          }
        },
        "b1cf976f18a64cdd9e0d58e2109d5d38": {
          "model_module": "@jupyter-widgets/base",
          "model_name": "LayoutModel",
          "model_module_version": "1.2.0",
          "state": {
            "_model_module": "@jupyter-widgets/base",
            "_model_module_version": "1.2.0",
            "_model_name": "LayoutModel",
            "_view_count": null,
            "_view_module": "@jupyter-widgets/base",
            "_view_module_version": "1.2.0",
            "_view_name": "LayoutView",
            "align_content": null,
            "align_items": null,
            "align_self": null,
            "border": null,
            "bottom": null,
            "display": null,
            "flex": null,
            "flex_flow": null,
            "grid_area": null,
            "grid_auto_columns": null,
            "grid_auto_flow": null,
            "grid_auto_rows": null,
            "grid_column": null,
            "grid_gap": null,
            "grid_row": null,
            "grid_template_areas": null,
            "grid_template_columns": null,
            "grid_template_rows": null,
            "height": null,
            "justify_content": null,
            "justify_items": null,
            "left": null,
            "margin": null,
            "max_height": null,
            "max_width": null,
            "min_height": null,
            "min_width": null,
            "object_fit": null,
            "object_position": null,
            "order": null,
            "overflow": null,
            "overflow_x": null,
            "overflow_y": null,
            "padding": null,
            "right": null,
            "top": null,
            "visibility": null,
            "width": null
          }
        },
        "66dbf8d77bce4145bd5dd30a3a6d8eda": {
          "model_module": "@jupyter-widgets/controls",
          "model_name": "DescriptionStyleModel",
          "model_module_version": "1.5.0",
          "state": {
            "_model_module": "@jupyter-widgets/controls",
            "_model_module_version": "1.5.0",
            "_model_name": "DescriptionStyleModel",
            "_view_count": null,
            "_view_module": "@jupyter-widgets/base",
            "_view_module_version": "1.2.0",
            "_view_name": "StyleView",
            "description_width": ""
          }
        },
        "7c8a2bba66e34adeb362e75f3156bdec": {
          "model_module": "@jupyter-widgets/base",
          "model_name": "LayoutModel",
          "model_module_version": "1.2.0",
          "state": {
            "_model_module": "@jupyter-widgets/base",
            "_model_module_version": "1.2.0",
            "_model_name": "LayoutModel",
            "_view_count": null,
            "_view_module": "@jupyter-widgets/base",
            "_view_module_version": "1.2.0",
            "_view_name": "LayoutView",
            "align_content": null,
            "align_items": null,
            "align_self": null,
            "border": null,
            "bottom": null,
            "display": null,
            "flex": "2",
            "flex_flow": null,
            "grid_area": null,
            "grid_auto_columns": null,
            "grid_auto_flow": null,
            "grid_auto_rows": null,
            "grid_column": null,
            "grid_gap": null,
            "grid_row": null,
            "grid_template_areas": null,
            "grid_template_columns": null,
            "grid_template_rows": null,
            "height": null,
            "justify_content": null,
            "justify_items": null,
            "left": null,
            "margin": null,
            "max_height": null,
            "max_width": null,
            "min_height": null,
            "min_width": null,
            "object_fit": null,
            "object_position": null,
            "order": null,
            "overflow": null,
            "overflow_x": null,
            "overflow_y": null,
            "padding": null,
            "right": null,
            "top": null,
            "visibility": null,
            "width": null
          }
        },
        "9d4f5c9ee90442f19663ca137bbad0e0": {
          "model_module": "@jupyter-widgets/controls",
          "model_name": "ProgressStyleModel",
          "model_module_version": "1.5.0",
          "state": {
            "_model_module": "@jupyter-widgets/controls",
            "_model_module_version": "1.5.0",
            "_model_name": "ProgressStyleModel",
            "_view_count": null,
            "_view_module": "@jupyter-widgets/base",
            "_view_module_version": "1.2.0",
            "_view_name": "StyleView",
            "bar_color": null,
            "description_width": ""
          }
        },
        "0e1911216c004ff9a9b74114fb8102cc": {
          "model_module": "@jupyter-widgets/base",
          "model_name": "LayoutModel",
          "model_module_version": "1.2.0",
          "state": {
            "_model_module": "@jupyter-widgets/base",
            "_model_module_version": "1.2.0",
            "_model_name": "LayoutModel",
            "_view_count": null,
            "_view_module": "@jupyter-widgets/base",
            "_view_module_version": "1.2.0",
            "_view_name": "LayoutView",
            "align_content": null,
            "align_items": null,
            "align_self": null,
            "border": null,
            "bottom": null,
            "display": null,
            "flex": null,
            "flex_flow": null,
            "grid_area": null,
            "grid_auto_columns": null,
            "grid_auto_flow": null,
            "grid_auto_rows": null,
            "grid_column": null,
            "grid_gap": null,
            "grid_row": null,
            "grid_template_areas": null,
            "grid_template_columns": null,
            "grid_template_rows": null,
            "height": null,
            "justify_content": null,
            "justify_items": null,
            "left": null,
            "margin": null,
            "max_height": null,
            "max_width": null,
            "min_height": null,
            "min_width": null,
            "object_fit": null,
            "object_position": null,
            "order": null,
            "overflow": null,
            "overflow_x": null,
            "overflow_y": null,
            "padding": null,
            "right": null,
            "top": null,
            "visibility": null,
            "width": null
          }
        },
        "2c16583ff26946e3a89354632485cf14": {
          "model_module": "@jupyter-widgets/controls",
          "model_name": "DescriptionStyleModel",
          "model_module_version": "1.5.0",
          "state": {
            "_model_module": "@jupyter-widgets/controls",
            "_model_module_version": "1.5.0",
            "_model_name": "DescriptionStyleModel",
            "_view_count": null,
            "_view_module": "@jupyter-widgets/base",
            "_view_module_version": "1.2.0",
            "_view_name": "StyleView",
            "description_width": ""
          }
        },
        "e6d94ae72b464fcf8097f725191f640f": {
          "model_module": "@jupyter-widgets/controls",
          "model_name": "HBoxModel",
          "model_module_version": "1.5.0",
          "state": {
            "_dom_classes": [],
            "_model_module": "@jupyter-widgets/controls",
            "_model_module_version": "1.5.0",
            "_model_name": "HBoxModel",
            "_view_count": null,
            "_view_module": "@jupyter-widgets/controls",
            "_view_module_version": "1.5.0",
            "_view_name": "HBoxView",
            "box_style": "",
            "children": [
              "IPY_MODEL_974cf0c3b9a24e50ae061c460868da4b",
              "IPY_MODEL_2879c304cdc049d98c1187f311f568ff",
              "IPY_MODEL_0bcc7796630e4de097491d15fb2239f1"
            ],
            "layout": "IPY_MODEL_9b74bcd0f64b4a77adbacc892b051018"
          }
        },
        "974cf0c3b9a24e50ae061c460868da4b": {
          "model_module": "@jupyter-widgets/controls",
          "model_name": "HTMLModel",
          "model_module_version": "1.5.0",
          "state": {
            "_dom_classes": [],
            "_model_module": "@jupyter-widgets/controls",
            "_model_module_version": "1.5.0",
            "_model_name": "HTMLModel",
            "_view_count": null,
            "_view_module": "@jupyter-widgets/controls",
            "_view_module_version": "1.5.0",
            "_view_name": "HTMLView",
            "description": "",
            "description_tooltip": null,
            "layout": "IPY_MODEL_fa5174a5b03d424794f371b72e27d721",
            "placeholder": "​",
            "style": "IPY_MODEL_d5b72f9fb4384250b0c021eb227b07fc",
            "value": "Epoch 1:   9%"
          }
        },
        "2879c304cdc049d98c1187f311f568ff": {
          "model_module": "@jupyter-widgets/controls",
          "model_name": "FloatProgressModel",
          "model_module_version": "1.5.0",
          "state": {
            "_dom_classes": [],
            "_model_module": "@jupyter-widgets/controls",
            "_model_module_version": "1.5.0",
            "_model_name": "FloatProgressModel",
            "_view_count": null,
            "_view_module": "@jupyter-widgets/controls",
            "_view_module_version": "1.5.0",
            "_view_name": "ProgressView",
            "bar_style": "",
            "description": "",
            "description_tooltip": null,
            "layout": "IPY_MODEL_e2c875e6b8c146c8ab9d0b44de94877c",
            "max": 351,
            "min": 0,
            "orientation": "horizontal",
            "style": "IPY_MODEL_ac00f3f2788b440ca40b18a54f6482d3",
            "value": 31
          }
        },
        "0bcc7796630e4de097491d15fb2239f1": {
          "model_module": "@jupyter-widgets/controls",
          "model_name": "HTMLModel",
          "model_module_version": "1.5.0",
          "state": {
            "_dom_classes": [],
            "_model_module": "@jupyter-widgets/controls",
            "_model_module_version": "1.5.0",
            "_model_name": "HTMLModel",
            "_view_count": null,
            "_view_module": "@jupyter-widgets/controls",
            "_view_module_version": "1.5.0",
            "_view_name": "HTMLView",
            "description": "",
            "description_tooltip": null,
            "layout": "IPY_MODEL_61560eef19384d1699f305ed1a207a50",
            "placeholder": "​",
            "style": "IPY_MODEL_2f5443c4d8ca4f3d9842f2f907e1a298",
            "value": " 31/351 [00:28&lt;04:50,  1.10it/s, v_num=1, train_loss=2.300, train_acc=0.0938, val_loss=2.300, val_acc=0.103]"
          }
        },
        "9b74bcd0f64b4a77adbacc892b051018": {
          "model_module": "@jupyter-widgets/base",
          "model_name": "LayoutModel",
          "model_module_version": "1.2.0",
          "state": {
            "_model_module": "@jupyter-widgets/base",
            "_model_module_version": "1.2.0",
            "_model_name": "LayoutModel",
            "_view_count": null,
            "_view_module": "@jupyter-widgets/base",
            "_view_module_version": "1.2.0",
            "_view_name": "LayoutView",
            "align_content": null,
            "align_items": null,
            "align_self": null,
            "border": null,
            "bottom": null,
            "display": "inline-flex",
            "flex": null,
            "flex_flow": "row wrap",
            "grid_area": null,
            "grid_auto_columns": null,
            "grid_auto_flow": null,
            "grid_auto_rows": null,
            "grid_column": null,
            "grid_gap": null,
            "grid_row": null,
            "grid_template_areas": null,
            "grid_template_columns": null,
            "grid_template_rows": null,
            "height": null,
            "justify_content": null,
            "justify_items": null,
            "left": null,
            "margin": null,
            "max_height": null,
            "max_width": null,
            "min_height": null,
            "min_width": null,
            "object_fit": null,
            "object_position": null,
            "order": null,
            "overflow": null,
            "overflow_x": null,
            "overflow_y": null,
            "padding": null,
            "right": null,
            "top": null,
            "visibility": null,
            "width": "100%"
          }
        },
        "fa5174a5b03d424794f371b72e27d721": {
          "model_module": "@jupyter-widgets/base",
          "model_name": "LayoutModel",
          "model_module_version": "1.2.0",
          "state": {
            "_model_module": "@jupyter-widgets/base",
            "_model_module_version": "1.2.0",
            "_model_name": "LayoutModel",
            "_view_count": null,
            "_view_module": "@jupyter-widgets/base",
            "_view_module_version": "1.2.0",
            "_view_name": "LayoutView",
            "align_content": null,
            "align_items": null,
            "align_self": null,
            "border": null,
            "bottom": null,
            "display": null,
            "flex": null,
            "flex_flow": null,
            "grid_area": null,
            "grid_auto_columns": null,
            "grid_auto_flow": null,
            "grid_auto_rows": null,
            "grid_column": null,
            "grid_gap": null,
            "grid_row": null,
            "grid_template_areas": null,
            "grid_template_columns": null,
            "grid_template_rows": null,
            "height": null,
            "justify_content": null,
            "justify_items": null,
            "left": null,
            "margin": null,
            "max_height": null,
            "max_width": null,
            "min_height": null,
            "min_width": null,
            "object_fit": null,
            "object_position": null,
            "order": null,
            "overflow": null,
            "overflow_x": null,
            "overflow_y": null,
            "padding": null,
            "right": null,
            "top": null,
            "visibility": null,
            "width": null
          }
        },
        "d5b72f9fb4384250b0c021eb227b07fc": {
          "model_module": "@jupyter-widgets/controls",
          "model_name": "DescriptionStyleModel",
          "model_module_version": "1.5.0",
          "state": {
            "_model_module": "@jupyter-widgets/controls",
            "_model_module_version": "1.5.0",
            "_model_name": "DescriptionStyleModel",
            "_view_count": null,
            "_view_module": "@jupyter-widgets/base",
            "_view_module_version": "1.2.0",
            "_view_name": "StyleView",
            "description_width": ""
          }
        },
        "e2c875e6b8c146c8ab9d0b44de94877c": {
          "model_module": "@jupyter-widgets/base",
          "model_name": "LayoutModel",
          "model_module_version": "1.2.0",
          "state": {
            "_model_module": "@jupyter-widgets/base",
            "_model_module_version": "1.2.0",
            "_model_name": "LayoutModel",
            "_view_count": null,
            "_view_module": "@jupyter-widgets/base",
            "_view_module_version": "1.2.0",
            "_view_name": "LayoutView",
            "align_content": null,
            "align_items": null,
            "align_self": null,
            "border": null,
            "bottom": null,
            "display": null,
            "flex": "2",
            "flex_flow": null,
            "grid_area": null,
            "grid_auto_columns": null,
            "grid_auto_flow": null,
            "grid_auto_rows": null,
            "grid_column": null,
            "grid_gap": null,
            "grid_row": null,
            "grid_template_areas": null,
            "grid_template_columns": null,
            "grid_template_rows": null,
            "height": null,
            "justify_content": null,
            "justify_items": null,
            "left": null,
            "margin": null,
            "max_height": null,
            "max_width": null,
            "min_height": null,
            "min_width": null,
            "object_fit": null,
            "object_position": null,
            "order": null,
            "overflow": null,
            "overflow_x": null,
            "overflow_y": null,
            "padding": null,
            "right": null,
            "top": null,
            "visibility": null,
            "width": null
          }
        },
        "ac00f3f2788b440ca40b18a54f6482d3": {
          "model_module": "@jupyter-widgets/controls",
          "model_name": "ProgressStyleModel",
          "model_module_version": "1.5.0",
          "state": {
            "_model_module": "@jupyter-widgets/controls",
            "_model_module_version": "1.5.0",
            "_model_name": "ProgressStyleModel",
            "_view_count": null,
            "_view_module": "@jupyter-widgets/base",
            "_view_module_version": "1.2.0",
            "_view_name": "StyleView",
            "bar_color": null,
            "description_width": ""
          }
        },
        "61560eef19384d1699f305ed1a207a50": {
          "model_module": "@jupyter-widgets/base",
          "model_name": "LayoutModel",
          "model_module_version": "1.2.0",
          "state": {
            "_model_module": "@jupyter-widgets/base",
            "_model_module_version": "1.2.0",
            "_model_name": "LayoutModel",
            "_view_count": null,
            "_view_module": "@jupyter-widgets/base",
            "_view_module_version": "1.2.0",
            "_view_name": "LayoutView",
            "align_content": null,
            "align_items": null,
            "align_self": null,
            "border": null,
            "bottom": null,
            "display": null,
            "flex": null,
            "flex_flow": null,
            "grid_area": null,
            "grid_auto_columns": null,
            "grid_auto_flow": null,
            "grid_auto_rows": null,
            "grid_column": null,
            "grid_gap": null,
            "grid_row": null,
            "grid_template_areas": null,
            "grid_template_columns": null,
            "grid_template_rows": null,
            "height": null,
            "justify_content": null,
            "justify_items": null,
            "left": null,
            "margin": null,
            "max_height": null,
            "max_width": null,
            "min_height": null,
            "min_width": null,
            "object_fit": null,
            "object_position": null,
            "order": null,
            "overflow": null,
            "overflow_x": null,
            "overflow_y": null,
            "padding": null,
            "right": null,
            "top": null,
            "visibility": null,
            "width": null
          }
        },
        "2f5443c4d8ca4f3d9842f2f907e1a298": {
          "model_module": "@jupyter-widgets/controls",
          "model_name": "DescriptionStyleModel",
          "model_module_version": "1.5.0",
          "state": {
            "_model_module": "@jupyter-widgets/controls",
            "_model_module_version": "1.5.0",
            "_model_name": "DescriptionStyleModel",
            "_view_count": null,
            "_view_module": "@jupyter-widgets/base",
            "_view_module_version": "1.2.0",
            "_view_name": "StyleView",
            "description_width": ""
          }
        }
      }
    }
  },
  "cells": [
    {
      "cell_type": "markdown",
      "source": [
        "# Set up"
      ],
      "metadata": {
        "id": "a6XPtrL0wglX"
      }
    },
    {
      "cell_type": "code",
      "execution_count": null,
      "metadata": {
        "id": "M9wtRBLUwa-M"
      },
      "outputs": [],
      "source": [
        "!pip install -q lightning"
      ]
    },
    {
      "cell_type": "markdown",
      "source": [
        "# ENV"
      ],
      "metadata": {
        "id": "i39FiE2bwqIH"
      }
    },
    {
      "cell_type": "code",
      "source": [
        "import torch\n",
        "from torch import nn\n",
        "from torch.nn import functional as F\n",
        "from torch.utils.data import DataLoader\n",
        "\n",
        "import numpy as np\n",
        "import pandas as pd\n",
        "import lightning as L\n",
        "from tqdm.auto import tqdm\n",
        "\n",
        "from einops.layers.torch import Reduce, Rearrange\n",
        "from einops import reduce, rearrange, repeat, einsum, parse_shape, pack, unpack"
      ],
      "metadata": {
        "id": "gVYEuoGAwr1e"
      },
      "execution_count": null,
      "outputs": []
    },
    {
      "cell_type": "code",
      "source": [
        "import seaborn as sns\n",
        "sns.set()\n",
        "\n",
        "import matplotlib\n",
        "import matplotlib.pyplot as plt\n",
        "%matplotlib inline\n",
        "matplotlib.rcParams['lines.linewidth']=2\n",
        "\n",
        "import matplotlib_inline\n",
        "matplotlib_inline.backend_inline.set_matplotlib_formats('svg', 'pdf')"
      ],
      "metadata": {
        "id": "y5UDrwGFxPOk"
      },
      "execution_count": null,
      "outputs": []
    },
    {
      "cell_type": "code",
      "source": [
        "seed=42\n",
        "L.seed_everything(seed)\n",
        "\n",
        "torch.backends.cudnn.deterministic=True\n",
        "torch.backends.cudnn.benchmark=False\n",
        "device='cuda' if torch.cuda.is_available() else 'cpu'\n",
        "device"
      ],
      "metadata": {
        "colab": {
          "base_uri": "https://localhost:8080/"
        },
        "id": "2zOQcH7VxrVp",
        "outputId": "3bfd163a-dfe7-403f-e3f2-8b7268852f1c"
      },
      "execution_count": null,
      "outputs": [
        {
          "output_type": "stream",
          "name": "stderr",
          "text": [
            "INFO: Seed set to 42\n",
            "INFO:lightning.fabric.utilities.seed:Seed set to 42\n"
          ]
        },
        {
          "output_type": "execute_result",
          "data": {
            "text/plain": [
              "'cpu'"
            ],
            "application/vnd.google.colaboratory.intrinsic+json": {
              "type": "string"
            }
          },
          "metadata": {},
          "execution_count": 4
        }
      ]
    },
    {
      "cell_type": "markdown",
      "source": [
        "# Data"
      ],
      "metadata": {
        "id": "jV8tvJomy2q6"
      }
    },
    {
      "cell_type": "code",
      "source": [
        "from torchvision import transforms\n",
        "from torchvision.datasets import CIFAR10\n",
        "from torch.utils.data import random_split\n",
        "\n",
        "class DataModule(L.LightningDataModule):\n",
        "    def __init__(self,batch_size=32):\n",
        "        super().__init__()\n",
        "        self.batch_size=batch_size\n",
        "        self.image_size=[3,32,32]\n",
        "        self.num_classes=10\n",
        "\n",
        "    def prepare_data(self):\n",
        "        train_dataset = CIFAR10('.', train=True, download=True)\n",
        "        self.data_mean = (train_dataset.data / 255.0).mean(axis=(0,1,2))\n",
        "        self.data_std = (train_dataset.data / 255.0).std(axis=(0,1,2))\n",
        "        self.transform=transforms.Compose([\n",
        "            transforms.ToTensor(),\n",
        "            transforms.Normalize(self.data_mean, self.data_std)\n",
        "        ])\n",
        "\n",
        "    def setup(self, stage=None):\n",
        "        if stage=='fit' or stage is None:\n",
        "            dataset=CIFAR10('.', download=True, train=True, transform=self.transform)\n",
        "            self.train, self.val = random_split(dataset, [45000, 5000])\n",
        "        if stage=='test' or stage is None:\n",
        "            self.test=CIFAR10('.', download=True, train=False, transform=self.transform)\n",
        "\n",
        "    def train_dataloader(self):\n",
        "        return DataLoader(self.train, batch_size=self.batch_size, shuffle=True, drop_last=True)\n",
        "\n",
        "    def val_dataloader(self):\n",
        "        return DataLoader(self.val, batch_size=self.batch_size, shuffle=False, drop_last=True)\n",
        "\n",
        "    def test_dataloader(self):\n",
        "        return DataLoader(self.test, batch_size=self.batch_size, shuffle=True, drop_last=True)\n",
        "\n",
        "tmp=DataModule(128)\n",
        "tmp.prepare_data()\n",
        "tmp.setup()\n",
        "batch=next(iter(tmp.train_dataloader()))\n",
        "print(len(batch))\n",
        "print(batch[0].shape)\n",
        "print(batch[1].shape)"
      ],
      "metadata": {
        "colab": {
          "base_uri": "https://localhost:8080/"
        },
        "id": "oIfGdXwVy5Hm",
        "outputId": "cbb30bd0-a5e4-4bc2-c0d4-7b669ccd8cb4"
      },
      "execution_count": null,
      "outputs": [
        {
          "output_type": "stream",
          "name": "stdout",
          "text": [
            "Downloading https://www.cs.toronto.edu/~kriz/cifar-10-python.tar.gz to ./cifar-10-python.tar.gz\n"
          ]
        },
        {
          "output_type": "stream",
          "name": "stderr",
          "text": [
            "100%|██████████| 170498071/170498071 [00:02<00:00, 63906303.72it/s]\n"
          ]
        },
        {
          "output_type": "stream",
          "name": "stdout",
          "text": [
            "Extracting ./cifar-10-python.tar.gz to .\n",
            "Files already downloaded and verified\n",
            "Files already downloaded and verified\n",
            "2\n",
            "torch.Size([128, 3, 32, 32])\n",
            "torch.Size([128])\n"
          ]
        }
      ]
    },
    {
      "cell_type": "code",
      "source": [
        "from torchvision.utils import make_grid\n",
        "\n",
        "def show_image(images, num_images=16, image_size=[3,32,32]):\n",
        "    images=images.detach().cpu()\n",
        "    grid_image=make_grid(images[:num_images], nrow=8)\n",
        "    plt.imshow(grid_image.permute(1,2,0))\n",
        "    plt.axis('off')\n",
        "    plt.show()\n",
        "\n",
        "show_image(batch[0])"
      ],
      "metadata": {
        "colab": {
          "base_uri": "https://localhost:8080/",
          "height": 180
        },
        "id": "XrOopO3bNdPv",
        "outputId": "ec20b7d9-bd4c-43e7-87b4-cdbeda845c0c"
      },
      "execution_count": null,
      "outputs": [
        {
          "output_type": "stream",
          "name": "stderr",
          "text": [
            "WARNING:matplotlib.image:Clipping input data to the valid range for imshow with RGB data ([0..1] for floats or [0..255] for integers).\n"
          ]
        },
        {
          "output_type": "display_data",
          "data": {
            "text/plain": [
              "<Figure size 640x480 with 1 Axes>"
            ],
            "image/svg+xml": "<?xml version=\"1.0\" encoding=\"utf-8\" standalone=\"no\"?>\n<!DOCTYPE svg PUBLIC \"-//W3C//DTD SVG 1.1//EN\"\n  \"http://www.w3.org/Graphics/SVG/1.1/DTD/svg11.dtd\">\n<svg xmlns:xlink=\"http://www.w3.org/1999/xlink\" width=\"371.52pt\" height=\"105.635036pt\" viewBox=\"0 0 371.52 105.635036\" xmlns=\"http://www.w3.org/2000/svg\" version=\"1.1\">\n <metadata>\n  <rdf:RDF xmlns:dc=\"http://purl.org/dc/elements/1.1/\" xmlns:cc=\"http://creativecommons.org/ns#\" xmlns:rdf=\"http://www.w3.org/1999/02/22-rdf-syntax-ns#\">\n   <cc:Work>\n    <dc:type rdf:resource=\"http://purl.org/dc/dcmitype/StillImage\"/>\n    <dc:date>2024-09-26T16:46:54.340117</dc:date>\n    <dc:format>image/svg+xml</dc:format>\n    <dc:creator>\n     <cc:Agent>\n      <dc:title>Matplotlib v3.7.1, https://matplotlib.org/</dc:title>\n     </cc:Agent>\n    </dc:creator>\n   </cc:Work>\n  </rdf:RDF>\n </metadata>\n <defs>\n  <style type=\"text/css\">*{stroke-linejoin: round; stroke-linecap: butt}</style>\n </defs>\n <g id=\"figure_1\">\n  <g id=\"patch_1\">\n   <path d=\"M 0 105.635036 \nL 371.52 105.635036 \nL 371.52 0 \nL 0 0 \nz\n\" style=\"fill: #ffffff\"/>\n  </g>\n  <g id=\"axes_1\">\n   <g clip-path=\"url(#pc9d9d3922d)\">\n    <image xlink:href=\"data:image/png;base64,\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\" id=\"image3ddd36537c\" transform=\"scale(1 -1) translate(0 -91.44)\" x=\"7.2\" y=\"-6.995036\" width=\"357.84\" height=\"91.44\"/>\n   </g>\n  </g>\n </g>\n <defs>\n  <clipPath id=\"pc9d9d3922d\">\n   <rect x=\"7.2\" y=\"7.2\" width=\"357.12\" height=\"91.235036\"/>\n  </clipPath>\n </defs>\n</svg>\n",
            "application/pdf": "[encoded data removed]"
          },
          "metadata": {}
        }
      ]
    },
    {
      "cell_type": "code",
      "source": [
        "tmp.dataset"
      ],
      "metadata": {
        "colab": {
          "base_uri": "https://localhost:8080/"
        },
        "id": "yeFWVAs17xXL",
        "outputId": "e26721f0-28e7-4c87-ccdd-671a8b41feeb"
      },
      "execution_count": null,
      "outputs": [
        {
          "output_type": "execute_result",
          "data": {
            "text/plain": [
              "Dataset({\n",
              "    features: ['input_ids', 'attention_mask'],\n",
              "    num_rows: 876\n",
              "})"
            ]
          },
          "metadata": {},
          "execution_count": 42
        }
      ]
    },
    {
      "cell_type": "markdown",
      "source": [
        "# Architecture"
      ],
      "metadata": {
        "id": "llSQWuu7-V84"
      }
    },
    {
      "cell_type": "code",
      "source": [
        "class DepthwiseSeparableConv(nn.Module):\n",
        "    def __init__(self, in_channels, out_channels, stride):\n",
        "        super().__init__()\n",
        "        self.depthwise = nn.Conv2d(in_channels, in_channels, kernel_size=3, stride=stride, padding=1, groups=in_channels)\n",
        "        self.pointwise = nn.Conv2d(in_channels, out_channels, kernel_size=1, stride=1)\n",
        "\n",
        "    def forward(self, x):\n",
        "        x = self.depthwise(x)\n",
        "        x = self.pointwise(x)\n",
        "        return F.relu(x)\n",
        "\n",
        "x=torch.randn(7,3,32,32)\n",
        "tmp=DepthwiseSeparableConv(3,12,2)\n",
        "tmp(x).shape"
      ],
      "metadata": {
        "colab": {
          "base_uri": "https://localhost:8080/"
        },
        "id": "yvTsdQRtIxBm",
        "outputId": "6de79c38-c2ff-4e04-8314-9cbddc3739b4"
      },
      "execution_count": null,
      "outputs": [
        {
          "output_type": "execute_result",
          "data": {
            "text/plain": [
              "torch.Size([7, 12, 16, 16])"
            ]
          },
          "metadata": {},
          "execution_count": 51
        }
      ]
    },
    {
      "cell_type": "code",
      "source": [
        "class MobileNet(nn.Module):\n",
        "    def __init__(self, num_classes, in_channels):\n",
        "        super().__init__()\n",
        "        self.stem = nn.Conv2d(in_channels, 32, kernel_size=3, stride=2, padding=1)\n",
        "\n",
        "        self.body = nn.Sequential(\n",
        "            DepthwiseSeparableConv(32, 64, 1),\n",
        "            DepthwiseSeparableConv(64, 128, 2),\n",
        "            DepthwiseSeparableConv(128, 128, 1),\n",
        "            DepthwiseSeparableConv(128, 256, 2),\n",
        "            DepthwiseSeparableConv(256, 256, 1),\n",
        "            DepthwiseSeparableConv(256, 512, 2),\n",
        "            *[DepthwiseSeparableConv(512, 512, 1) for _ in range(5)],\n",
        "            DepthwiseSeparableConv(512, 1024, 2),\n",
        "            DepthwiseSeparableConv(1024, 1024, 1)\n",
        "        )\n",
        "\n",
        "        self.head = nn.Sequential(nn.AvgPool2d(1),\n",
        "                                  Rearrange('b c h w -> b (c h w)'),\n",
        "                                  nn.Linear(1024, num_classes))\n",
        "\n",
        "    def forward(self, x):\n",
        "        x=self.stem(x)\n",
        "        x=self.body(x)\n",
        "        x=self.head(x)\n",
        "\n",
        "        return x\n",
        "\n",
        "x=torch.randn(1,3,32,32)\n",
        "tmp=MobileNet(10,3)\n",
        "tmp(x).shape"
      ],
      "metadata": {
        "colab": {
          "base_uri": "https://localhost:8080/"
        },
        "id": "Q4834CWnKJzR",
        "outputId": "faf53667-c742-4fa4-c289-804e15390ebb"
      },
      "execution_count": null,
      "outputs": [
        {
          "output_type": "execute_result",
          "data": {
            "text/plain": [
              "torch.Size([1, 10])"
            ]
          },
          "metadata": {},
          "execution_count": 76
        }
      ]
    },
    {
      "cell_type": "markdown",
      "source": [
        "# Training"
      ],
      "metadata": {
        "id": "4c-pM-9xOtoC"
      }
    },
    {
      "cell_type": "code",
      "source": [
        "class TrainObject(L.LightningModule):\n",
        "    def __init__(self, num_classes, in_channels, lr):\n",
        "        super().__init__()\n",
        "        self.save_hyperparameters()\n",
        "        self.automatic_optimization=True\n",
        "\n",
        "        self.model=MobileNet(num_classes, in_channels)\n",
        "        self.example_input_array=torch.rand([1,3,32,32])\n",
        "\n",
        "    def criterion(self, pred, y):\n",
        "        return F.cross_entropy(pred, y)\n",
        "\n",
        "    def configure_optimizers(self):\n",
        "        optimizer=torch.optim.Adam(self.model.parameters(), lr=self.hparams.lr)\n",
        "        scheduler=torch.optim.lr_scheduler.StepLR(optimizer, step_size=1, gamma=0.8)\n",
        "\n",
        "        return [optimizer], [scheduler]\n",
        "\n",
        "    def forward(self,x):\n",
        "        return self.model(x)\n",
        "\n",
        "    def training_step(self, batch):\n",
        "        imgs, labels=batch\n",
        "        pred=self.model(imgs)\n",
        "        loss=self.criterion(pred,labels)\n",
        "        acc=(pred.argmax(dim=-1)==labels).float().mean()\n",
        "\n",
        "        self.log('train_loss', loss, sync_dist=True, prog_bar=True)\n",
        "        self.log('train_acc', acc, sync_dist=True, prog_bar=True)\n",
        "\n",
        "        return loss\n",
        "\n",
        "    def validation_step(self,batch):\n",
        "        imgs, labels=batch\n",
        "        pred=self.model(imgs)\n",
        "        loss=self.criterion(pred,labels)\n",
        "        acc=(pred.argmax(dim=-1)==labels).float().mean()\n",
        "\n",
        "        self.log('val_loss', loss, sync_dist=True, prog_bar=True)\n",
        "        self.log('val_acc', acc, sync_dist=True, prog_bar=True)\n",
        "\n",
        "    def test_step(self, batch):\n",
        "        imgs, labels=batch\n",
        "        pred=self.model(imgs)\n",
        "        loss=self.criterion(pred,labels)\n",
        "        acc=(pred.argmax(dim=-1)==labels).float().mean()\n",
        "\n",
        "        self.log('test_loss', loss, sync_dist=True, prog_bar=True)\n",
        "        self.log('test_acc', acc, sync_dist=True, prog_bar=True)"
      ],
      "metadata": {
        "id": "mzrSN1xmOvrF"
      },
      "execution_count": null,
      "outputs": []
    },
    {
      "cell_type": "code",
      "source": [
        "from lightning.pytorch.callbacks import TQDMProgressBar,EarlyStopping\n",
        "from lightning.pytorch.loggers import TensorBoardLogger\n",
        "\n",
        "data_module=DataModule(128)\n",
        "train_object=TrainObject(10, 3, 1e-3)\n",
        "trainer=L.Trainer(accelerator='auto',\n",
        "                  devices=1,\n",
        "                  max_epochs=50,strategy=\"ddp_notebook\",\n",
        "                  logger=TensorBoardLogger('lightning_logs'),\n",
        "                  callbacks=[TQDMProgressBar(leave=True), EarlyStopping('val_loss',min_delta=1e-5, patience=3)])\n",
        "trainer.fit(train_object, data_module)"
      ],
      "metadata": {
        "colab": {
          "base_uri": "https://localhost:8080/",
          "height": 1000,
          "referenced_widgets": [
            "76b09dc70bc7443dad48e76bc25d1946",
            "90c9e539fdb14b568c8bcf0bb52937aa",
            "eaa721a44c7b42368d12fe0270c22320",
            "0bcb2b0d2f1546059772ce94fa589e0f",
            "d59db96a0c0348e3a585e36304e67418",
            "b8208defb25646e6b11682d334fce0e7",
            "f05ad4df28364af9a634b370d73a1e79",
            "a2f95d9f73e641978f81189da6184e7c",
            "636b6b70738245ebafa37090eb275398",
            "cba76fc3399a4019a988aae02b54bbda",
            "1096af2be2dc4cbfb85d7ab4048157f8",
            "c64eef5af4ba4121b47c26b482e10c68",
            "6114f62d2e3d424c935f8630670da1cf",
            "132cef055b124ac989ba6544453679de",
            "e403c2f7afc24908900bd81f8c4a5b31",
            "abbb514a95ac4dfcb835b2ef7b8cc234",
            "4277d1cff6014c07a361cb43e8fb6cbe",
            "5ae5dec5e75c4c3eb4e68c45fc54ca49",
            "15c33f7e01b349f7aebe10824c0e5e49",
            "e2b0ba5e10884cd4bcfc886fb6e0b049",
            "5da7977f836a4a2c97b3ad3a004dadb9",
            "fe433ef4c11742d79064e2b2687decc2",
            "8b70ddf8dfd14ab0a720fc17187f0954",
            "337ceca387c54668bd4c3880674ed465",
            "70428cd705804f26a56f4f8f42d630b3",
            "139df0776806493db91163df83bc416b",
            "1c1fe5c73cfe4c1fb55a54f0709ec343",
            "de76b7411b8d46e6ac8c5480eb6926e7",
            "7bc2f10136564e8197a9c0f864dade51",
            "604ef55a6a564eb48869566730837127",
            "e835b64715884cf2b8c9f2221f5dd8e7",
            "2be8e754e2a34e309a06fe0ee447c0ef",
            "15335db868424f568e576f7cf883a99a",
            "92bf9a79ae744a1b9352facd58fd1431",
            "540ad5201a1143ef816209f4d4cd2ea7",
            "f461b951c5fd4d6f83041c1fb59dcdcd",
            "26b771e6a66649f1a9cdde8fdac45295",
            "570b17b4ed6b4041b3562e3778fff8bc",
            "b1cf976f18a64cdd9e0d58e2109d5d38",
            "66dbf8d77bce4145bd5dd30a3a6d8eda",
            "7c8a2bba66e34adeb362e75f3156bdec",
            "9d4f5c9ee90442f19663ca137bbad0e0",
            "0e1911216c004ff9a9b74114fb8102cc",
            "2c16583ff26946e3a89354632485cf14",
            "e6d94ae72b464fcf8097f725191f640f",
            "974cf0c3b9a24e50ae061c460868da4b",
            "2879c304cdc049d98c1187f311f568ff",
            "0bcc7796630e4de097491d15fb2239f1",
            "9b74bcd0f64b4a77adbacc892b051018",
            "fa5174a5b03d424794f371b72e27d721",
            "d5b72f9fb4384250b0c021eb227b07fc",
            "e2c875e6b8c146c8ab9d0b44de94877c",
            "ac00f3f2788b440ca40b18a54f6482d3",
            "61560eef19384d1699f305ed1a207a50",
            "2f5443c4d8ca4f3d9842f2f907e1a298"
          ]
        },
        "id": "6KLlXah0O4lP",
        "outputId": "a1987c2d-f800-4d65-a6a1-9d2a4fd78f2b"
      },
      "execution_count": null,
      "outputs": [
        {
          "output_type": "stream",
          "name": "stderr",
          "text": [
            "INFO: GPU available: False, used: False\n",
            "INFO:lightning.pytorch.utilities.rank_zero:GPU available: False, used: False\n",
            "INFO: TPU available: False, using: 0 TPU cores\n",
            "INFO:lightning.pytorch.utilities.rank_zero:TPU available: False, using: 0 TPU cores\n",
            "INFO: HPU available: False, using: 0 HPUs\n",
            "INFO:lightning.pytorch.utilities.rank_zero:HPU available: False, using: 0 HPUs\n",
            "INFO: Initializing distributed: GLOBAL_RANK: 0, MEMBER: 1/1\n",
            "INFO:lightning.fabric.utilities.distributed:Initializing distributed: GLOBAL_RANK: 0, MEMBER: 1/1\n",
            "INFO: ----------------------------------------------------------------------------------------------------\n",
            "distributed_backend=gloo\n",
            "All distributed processes registered. Starting with 1 processes\n",
            "----------------------------------------------------------------------------------------------------\n",
            "\n",
            "INFO:lightning.pytorch.utilities.rank_zero:----------------------------------------------------------------------------------------------------\n",
            "distributed_backend=gloo\n",
            "All distributed processes registered. Starting with 1 processes\n",
            "----------------------------------------------------------------------------------------------------\n",
            "\n"
          ]
        },
        {
          "output_type": "stream",
          "name": "stdout",
          "text": [
            "Files already downloaded and verified\n",
            "Files already downloaded and verified\n"
          ]
        },
        {
          "output_type": "stream",
          "name": "stderr",
          "text": [
            "INFO: \n",
            "  | Name  | Type      | Params | Mode  | In sizes       | Out sizes\n",
            "-------------------------------------------------------------------------\n",
            "0 | model | MobileNet | 3.2 M  | train | [1, 3, 32, 32] | [1, 10]  \n",
            "-------------------------------------------------------------------------\n",
            "3.2 M     Trainable params\n",
            "0         Non-trainable params\n",
            "3.2 M     Total params\n",
            "12.825    Total estimated model params size (MB)\n",
            "46        Modules in train mode\n",
            "0         Modules in eval mode\n",
            "INFO:lightning.pytorch.callbacks.model_summary:\n",
            "  | Name  | Type      | Params | Mode  | In sizes       | Out sizes\n",
            "-------------------------------------------------------------------------\n",
            "0 | model | MobileNet | 3.2 M  | train | [1, 3, 32, 32] | [1, 10]  \n",
            "-------------------------------------------------------------------------\n",
            "3.2 M     Trainable params\n",
            "0         Non-trainable params\n",
            "3.2 M     Total params\n",
            "12.825    Total estimated model params size (MB)\n",
            "46        Modules in train mode\n",
            "0         Modules in eval mode\n"
          ]
        },
        {
          "output_type": "display_data",
          "data": {
            "text/plain": [
              "Sanity Checking: |          | 0/? [00:00<?, ?it/s]"
            ],
            "application/vnd.jupyter.widget-view+json": {
              "version_major": 2,
              "version_minor": 0,
              "model_id": "76b09dc70bc7443dad48e76bc25d1946"
            }
          },
          "metadata": {}
        },
        {
          "output_type": "display_data",
          "data": {
            "text/plain": [
              "Training: |          | 0/? [00:00<?, ?it/s]"
            ],
            "application/vnd.jupyter.widget-view+json": {
              "version_major": 2,
              "version_minor": 0,
              "model_id": "c64eef5af4ba4121b47c26b482e10c68"
            }
          },
          "metadata": {}
        },
        {
          "output_type": "display_data",
          "data": {
            "text/plain": [
              "Training: |          | 0/? [00:00<?, ?it/s]"
            ],
            "application/vnd.jupyter.widget-view+json": {
              "version_major": 2,
              "version_minor": 0,
              "model_id": "8b70ddf8dfd14ab0a720fc17187f0954"
            }
          },
          "metadata": {}
        },
        {
          "output_type": "display_data",
          "data": {
            "text/plain": [
              "Validation: |          | 0/? [00:00<?, ?it/s]"
            ],
            "application/vnd.jupyter.widget-view+json": {
              "version_major": 2,
              "version_minor": 0,
              "model_id": "92bf9a79ae744a1b9352facd58fd1431"
            }
          },
          "metadata": {}
        },
        {
          "output_type": "display_data",
          "data": {
            "text/plain": [
              "Training: |          | 0/? [00:00<?, ?it/s]"
            ],
            "application/vnd.jupyter.widget-view+json": {
              "version_major": 2,
              "version_minor": 0,
              "model_id": "e6d94ae72b464fcf8097f725191f640f"
            }
          },
          "metadata": {}
        },
        {
          "output_type": "stream",
          "name": "stderr",
          "text": [
            "INFO: \n",
            "Detected KeyboardInterrupt, attempting graceful shutdown ...\n",
            "INFO:lightning.pytorch.utilities.rank_zero:\n",
            "Detected KeyboardInterrupt, attempting graceful shutdown ...\n"
          ]
        },
        {
          "output_type": "error",
          "ename": "NameError",
          "evalue": "name 'exit' is not defined",
          "traceback": [
            "\u001b[0;31m---------------------------------------------------------------------------\u001b[0m",
            "\u001b[0;31mKeyboardInterrupt\u001b[0m                         Traceback (most recent call last)",
            "\u001b[0;32m/usr/local/lib/python3.10/dist-packages/lightning/pytorch/trainer/call.py\u001b[0m in \u001b[0;36m_call_and_handle_interrupt\u001b[0;34m(trainer, trainer_fn, *args, **kwargs)\u001b[0m\n\u001b[1;32m     45\u001b[0m         \u001b[0;32mif\u001b[0m \u001b[0mtrainer\u001b[0m\u001b[0;34m.\u001b[0m\u001b[0mstrategy\u001b[0m\u001b[0;34m.\u001b[0m\u001b[0mlauncher\u001b[0m \u001b[0;32mis\u001b[0m \u001b[0;32mnot\u001b[0m \u001b[0;32mNone\u001b[0m\u001b[0;34m:\u001b[0m\u001b[0;34m\u001b[0m\u001b[0;34m\u001b[0m\u001b[0m\n\u001b[0;32m---> 46\u001b[0;31m             \u001b[0;32mreturn\u001b[0m \u001b[0mtrainer\u001b[0m\u001b[0;34m.\u001b[0m\u001b[0mstrategy\u001b[0m\u001b[0;34m.\u001b[0m\u001b[0mlauncher\u001b[0m\u001b[0;34m.\u001b[0m\u001b[0mlaunch\u001b[0m\u001b[0;34m(\u001b[0m\u001b[0mtrainer_fn\u001b[0m\u001b[0;34m,\u001b[0m \u001b[0;34m*\u001b[0m\u001b[0margs\u001b[0m\u001b[0;34m,\u001b[0m \u001b[0mtrainer\u001b[0m\u001b[0;34m=\u001b[0m\u001b[0mtrainer\u001b[0m\u001b[0;34m,\u001b[0m \u001b[0;34m**\u001b[0m\u001b[0mkwargs\u001b[0m\u001b[0;34m)\u001b[0m\u001b[0;34m\u001b[0m\u001b[0;34m\u001b[0m\u001b[0m\n\u001b[0m\u001b[1;32m     47\u001b[0m         \u001b[0;32mreturn\u001b[0m \u001b[0mtrainer_fn\u001b[0m\u001b[0;34m(\u001b[0m\u001b[0;34m*\u001b[0m\u001b[0margs\u001b[0m\u001b[0;34m,\u001b[0m \u001b[0;34m**\u001b[0m\u001b[0mkwargs\u001b[0m\u001b[0;34m)\u001b[0m\u001b[0;34m\u001b[0m\u001b[0;34m\u001b[0m\u001b[0m\n",
            "\u001b[0;32m/usr/local/lib/python3.10/dist-packages/lightning/pytorch/strategies/launchers/multiprocessing.py\u001b[0m in \u001b[0;36mlaunch\u001b[0;34m(self, function, trainer, *args, **kwargs)\u001b[0m\n\u001b[1;32m    143\u001b[0m         \u001b[0mself\u001b[0m\u001b[0;34m.\u001b[0m\u001b[0mprocs\u001b[0m \u001b[0;34m=\u001b[0m \u001b[0mprocess_context\u001b[0m\u001b[0;34m.\u001b[0m\u001b[0mprocesses\u001b[0m\u001b[0;34m\u001b[0m\u001b[0;34m\u001b[0m\u001b[0m\n\u001b[0;32m--> 144\u001b[0;31m         \u001b[0;32mwhile\u001b[0m \u001b[0;32mnot\u001b[0m \u001b[0mprocess_context\u001b[0m\u001b[0;34m.\u001b[0m\u001b[0mjoin\u001b[0m\u001b[0;34m(\u001b[0m\u001b[0;34m)\u001b[0m\u001b[0;34m:\u001b[0m\u001b[0;34m\u001b[0m\u001b[0;34m\u001b[0m\u001b[0m\n\u001b[0m\u001b[1;32m    145\u001b[0m             \u001b[0;32mpass\u001b[0m\u001b[0;34m\u001b[0m\u001b[0;34m\u001b[0m\u001b[0m\n",
            "\u001b[0;32m/usr/local/lib/python3.10/dist-packages/torch/multiprocessing/spawn.py\u001b[0m in \u001b[0;36mjoin\u001b[0;34m(self, timeout)\u001b[0m\n\u001b[1;32m    117\u001b[0m         \u001b[0;31m# Wait for any process to fail or all of them to succeed.\u001b[0m\u001b[0;34m\u001b[0m\u001b[0;34m\u001b[0m\u001b[0m\n\u001b[0;32m--> 118\u001b[0;31m         ready = multiprocessing.connection.wait(\n\u001b[0m\u001b[1;32m    119\u001b[0m             \u001b[0mself\u001b[0m\u001b[0;34m.\u001b[0m\u001b[0msentinels\u001b[0m\u001b[0;34m.\u001b[0m\u001b[0mkeys\u001b[0m\u001b[0;34m(\u001b[0m\u001b[0;34m)\u001b[0m\u001b[0;34m,\u001b[0m\u001b[0;34m\u001b[0m\u001b[0;34m\u001b[0m\u001b[0m\n",
            "\u001b[0;32m/usr/lib/python3.10/multiprocessing/connection.py\u001b[0m in \u001b[0;36mwait\u001b[0;34m(object_list, timeout)\u001b[0m\n\u001b[1;32m    930\u001b[0m             \u001b[0;32mwhile\u001b[0m \u001b[0;32mTrue\u001b[0m\u001b[0;34m:\u001b[0m\u001b[0;34m\u001b[0m\u001b[0;34m\u001b[0m\u001b[0m\n\u001b[0;32m--> 931\u001b[0;31m                 \u001b[0mready\u001b[0m \u001b[0;34m=\u001b[0m \u001b[0mselector\u001b[0m\u001b[0;34m.\u001b[0m\u001b[0mselect\u001b[0m\u001b[0;34m(\u001b[0m\u001b[0mtimeout\u001b[0m\u001b[0;34m)\u001b[0m\u001b[0;34m\u001b[0m\u001b[0;34m\u001b[0m\u001b[0m\n\u001b[0m\u001b[1;32m    932\u001b[0m                 \u001b[0;32mif\u001b[0m \u001b[0mready\u001b[0m\u001b[0;34m:\u001b[0m\u001b[0;34m\u001b[0m\u001b[0;34m\u001b[0m\u001b[0m\n",
            "\u001b[0;32m/usr/lib/python3.10/selectors.py\u001b[0m in \u001b[0;36mselect\u001b[0;34m(self, timeout)\u001b[0m\n\u001b[1;32m    415\u001b[0m         \u001b[0;32mtry\u001b[0m\u001b[0;34m:\u001b[0m\u001b[0;34m\u001b[0m\u001b[0;34m\u001b[0m\u001b[0m\n\u001b[0;32m--> 416\u001b[0;31m             \u001b[0mfd_event_list\u001b[0m \u001b[0;34m=\u001b[0m \u001b[0mself\u001b[0m\u001b[0;34m.\u001b[0m\u001b[0m_selector\u001b[0m\u001b[0;34m.\u001b[0m\u001b[0mpoll\u001b[0m\u001b[0;34m(\u001b[0m\u001b[0mtimeout\u001b[0m\u001b[0;34m)\u001b[0m\u001b[0;34m\u001b[0m\u001b[0;34m\u001b[0m\u001b[0m\n\u001b[0m\u001b[1;32m    417\u001b[0m         \u001b[0;32mexcept\u001b[0m \u001b[0mInterruptedError\u001b[0m\u001b[0;34m:\u001b[0m\u001b[0;34m\u001b[0m\u001b[0;34m\u001b[0m\u001b[0m\n",
            "\u001b[0;31mKeyboardInterrupt\u001b[0m: ",
            "\nDuring handling of the above exception, another exception occurred:\n",
            "\u001b[0;31mNameError\u001b[0m                                 Traceback (most recent call last)",
            "\u001b[0;32m<ipython-input-80-c5bb82543ed0>\u001b[0m in \u001b[0;36m<cell line: 11>\u001b[0;34m()\u001b[0m\n\u001b[1;32m      9\u001b[0m                   \u001b[0mlogger\u001b[0m\u001b[0;34m=\u001b[0m\u001b[0mTensorBoardLogger\u001b[0m\u001b[0;34m(\u001b[0m\u001b[0;34m'lightning_logs'\u001b[0m\u001b[0;34m)\u001b[0m\u001b[0;34m,\u001b[0m\u001b[0;34m\u001b[0m\u001b[0;34m\u001b[0m\u001b[0m\n\u001b[1;32m     10\u001b[0m                   callbacks=[TQDMProgressBar(leave=True), EarlyStopping('val_loss',min_delta=1e-5, patience=3)])\n\u001b[0;32m---> 11\u001b[0;31m \u001b[0mtrainer\u001b[0m\u001b[0;34m.\u001b[0m\u001b[0mfit\u001b[0m\u001b[0;34m(\u001b[0m\u001b[0mtrain_object\u001b[0m\u001b[0;34m,\u001b[0m \u001b[0mdata_module\u001b[0m\u001b[0;34m)\u001b[0m\u001b[0;34m\u001b[0m\u001b[0;34m\u001b[0m\u001b[0m\n\u001b[0m",
            "\u001b[0;32m/usr/local/lib/python3.10/dist-packages/lightning/pytorch/trainer/trainer.py\u001b[0m in \u001b[0;36mfit\u001b[0;34m(self, model, train_dataloaders, val_dataloaders, datamodule, ckpt_path)\u001b[0m\n\u001b[1;32m    536\u001b[0m         \u001b[0mself\u001b[0m\u001b[0;34m.\u001b[0m\u001b[0mstate\u001b[0m\u001b[0;34m.\u001b[0m\u001b[0mstatus\u001b[0m \u001b[0;34m=\u001b[0m \u001b[0mTrainerStatus\u001b[0m\u001b[0;34m.\u001b[0m\u001b[0mRUNNING\u001b[0m\u001b[0;34m\u001b[0m\u001b[0;34m\u001b[0m\u001b[0m\n\u001b[1;32m    537\u001b[0m         \u001b[0mself\u001b[0m\u001b[0;34m.\u001b[0m\u001b[0mtraining\u001b[0m \u001b[0;34m=\u001b[0m \u001b[0;32mTrue\u001b[0m\u001b[0;34m\u001b[0m\u001b[0;34m\u001b[0m\u001b[0m\n\u001b[0;32m--> 538\u001b[0;31m         call._call_and_handle_interrupt(\n\u001b[0m\u001b[1;32m    539\u001b[0m             \u001b[0mself\u001b[0m\u001b[0;34m,\u001b[0m \u001b[0mself\u001b[0m\u001b[0;34m.\u001b[0m\u001b[0m_fit_impl\u001b[0m\u001b[0;34m,\u001b[0m \u001b[0mmodel\u001b[0m\u001b[0;34m,\u001b[0m \u001b[0mtrain_dataloaders\u001b[0m\u001b[0;34m,\u001b[0m \u001b[0mval_dataloaders\u001b[0m\u001b[0;34m,\u001b[0m \u001b[0mdatamodule\u001b[0m\u001b[0;34m,\u001b[0m \u001b[0mckpt_path\u001b[0m\u001b[0;34m\u001b[0m\u001b[0;34m\u001b[0m\u001b[0m\n\u001b[1;32m    540\u001b[0m         )\n",
            "\u001b[0;32m/usr/local/lib/python3.10/dist-packages/lightning/pytorch/trainer/call.py\u001b[0m in \u001b[0;36m_call_and_handle_interrupt\u001b[0;34m(trainer, trainer_fn, *args, **kwargs)\u001b[0m\n\u001b[1;32m     62\u001b[0m         \u001b[0;32mif\u001b[0m \u001b[0misinstance\u001b[0m\u001b[0;34m(\u001b[0m\u001b[0mlauncher\u001b[0m\u001b[0;34m,\u001b[0m \u001b[0m_SubprocessScriptLauncher\u001b[0m\u001b[0;34m)\u001b[0m\u001b[0;34m:\u001b[0m\u001b[0;34m\u001b[0m\u001b[0;34m\u001b[0m\u001b[0m\n\u001b[1;32m     63\u001b[0m             \u001b[0mlauncher\u001b[0m\u001b[0;34m.\u001b[0m\u001b[0mkill\u001b[0m\u001b[0;34m(\u001b[0m\u001b[0m_get_sigkill_signal\u001b[0m\u001b[0;34m(\u001b[0m\u001b[0;34m)\u001b[0m\u001b[0;34m)\u001b[0m\u001b[0;34m\u001b[0m\u001b[0;34m\u001b[0m\u001b[0m\n\u001b[0;32m---> 64\u001b[0;31m         \u001b[0mexit\u001b[0m\u001b[0;34m(\u001b[0m\u001b[0;36m1\u001b[0m\u001b[0;34m)\u001b[0m\u001b[0;34m\u001b[0m\u001b[0;34m\u001b[0m\u001b[0m\n\u001b[0m\u001b[1;32m     65\u001b[0m \u001b[0;34m\u001b[0m\u001b[0m\n\u001b[1;32m     66\u001b[0m     \u001b[0;32mexcept\u001b[0m \u001b[0mBaseException\u001b[0m \u001b[0;32mas\u001b[0m \u001b[0mexception\u001b[0m\u001b[0;34m:\u001b[0m\u001b[0;34m\u001b[0m\u001b[0;34m\u001b[0m\u001b[0m\n",
            "\u001b[0;31mNameError\u001b[0m: name 'exit' is not defined"
          ]
        }
      ]
    },
    {
      "cell_type": "code",
      "source": [
        "%reload_ext tensorboard\n",
        "%tensorboard --logdir=lightning_logs/"
      ],
      "metadata": {
        "id": "QXgF8oOoPX1K"
      },
      "execution_count": null,
      "outputs": []
    }
  ]
}