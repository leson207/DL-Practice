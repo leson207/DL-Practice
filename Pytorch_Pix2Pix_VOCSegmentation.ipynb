{
  "cells": [
    {
      "cell_type": "markdown",
      "metadata": {
        "id": "HtntqFl2ANIp"
      },
      "source": [
        "# Setup"
      ]
    },
    {
      "cell_type": "code",
      "execution_count": 2,
      "metadata": {
        "id": "uGp59R0L-59W"
      },
      "outputs": [],
      "source": [
        "!pip install -q lightning"
      ]
    },
    {
      "cell_type": "markdown",
      "metadata": {
        "id": "LqJZ4hAfAPx9"
      },
      "source": [
        "# ENV"
      ]
    },
    {
      "cell_type": "code",
      "execution_count": 3,
      "metadata": {
        "id": "eATqwDoFAR0k"
      },
      "outputs": [],
      "source": [
        "import torch\n",
        "from torch import nn\n",
        "from torch.nn import functional as F\n",
        "from torch.utils.data import DataLoader\n",
        "\n",
        "import numpy as np\n",
        "import pandas as pd\n",
        "import lightning as L\n",
        "from tqdm.auto import tqdm\n",
        "\n",
        "from einops.layers.torch import Reduce, Rearrange\n",
        "from einops import reduce, rearrange, repeat, einsum, parse_shape, pack, unpack"
      ]
    },
    {
      "cell_type": "code",
      "execution_count": 4,
      "metadata": {
        "id": "C4d2m8fDBmUI"
      },
      "outputs": [],
      "source": [
        "import seaborn as sns\n",
        "sns.set()\n",
        "\n",
        "import matplotlib\n",
        "import matplotlib.pyplot as plt\n",
        "%matplotlib inline\n",
        "matplotlib.rcParams['lines.linewidth']=2\n",
        "\n",
        "import matplotlib_inline\n",
        "matplotlib_inline.backend_inline.set_matplotlib_formats('svg', 'pdf')"
      ]
    },
    {
      "cell_type": "code",
      "execution_count": 5,
      "metadata": {
        "colab": {
          "base_uri": "https://localhost:8080/",
          "height": 0
        },
        "id": "zSZrCvbNClmf",
        "outputId": "e0003f0f-db45-4ec0-90e6-337cf0b58872"
      },
      "outputs": [
        {
          "output_type": "stream",
          "name": "stderr",
          "text": [
            "INFO: Seed set to 42\n",
            "INFO:lightning.fabric.utilities.seed:Seed set to 42\n"
          ]
        },
        {
          "output_type": "execute_result",
          "data": {
            "text/plain": [
              "'cuda'"
            ],
            "application/vnd.google.colaboratory.intrinsic+json": {
              "type": "string"
            }
          },
          "metadata": {},
          "execution_count": 5
        }
      ],
      "source": [
        "L.seed_everything(42)\n",
        "torch.backends.cudnn.deterministic=True\n",
        "torch.backends.cudnn.benchmark=False\n",
        "device='cuda' if torch.cuda.is_available() else 'cpu'\n",
        "device"
      ]
    },
    {
      "cell_type": "markdown",
      "metadata": {
        "id": "AxT4J2VHAR7z"
      },
      "source": [
        "# Data"
      ]
    },
    {
      "cell_type": "code",
      "execution_count": 6,
      "metadata": {
        "colab": {
          "base_uri": "https://localhost:8080/"
        },
        "id": "v5TOnuYBATeW",
        "outputId": "b5970ca1-b6c4-4b53-a6dd-d37d0918109e"
      },
      "outputs": [
        {
          "output_type": "stream",
          "name": "stdout",
          "text": [
            "2\n",
            "torch.Size([32, 3, 500, 500])\n",
            "torch.Size([32, 500, 500])\n"
          ]
        }
      ],
      "source": [
        "import os\n",
        "from torchvision import transforms\n",
        "from torchvision.datasets import VOCSegmentation,OxfordIIITPet\n",
        "\n",
        "class DataObject(L.LightningDataModule):\n",
        "    def __init__(self, height=500, width=500, batch_size=32,):\n",
        "        super().__init__()\n",
        "        self.batch_size=batch_size\n",
        "        self.transform=transforms.Compose([\n",
        "            transforms.ToTensor(),\n",
        "            transforms.Resize([int(height*1.1), int(width*1.1)]),\n",
        "            transforms.Lambda(lambda img: (img/127.5)-1)\n",
        "        ])\n",
        "        self.image_size=[3,height, width]\n",
        "        self.label_size=[1,height, width]\n",
        "\n",
        "    def prepare_data(self):\n",
        "        if not os.path.exists('/content/VOCdevkit'):\n",
        "            VOCSegmentation('.', year='2012', download=True)\n",
        "\n",
        "    def transforms(self, img, target):\n",
        "        return self.transform(img), self.transform(target)\n",
        "\n",
        "    def augment(self, example):\n",
        "        stacked_image = torch.cat([example[0], example[1]],dim=0)\n",
        "        stacked_image = transforms.RandomCrop([self.image_size[1], self.image_size[2]])(stacked_image)\n",
        "        stacked_image = transforms.RandomHorizontalFlip()(stacked_image)\n",
        "\n",
        "        return stacked_image[:3],stacked_image[3]\n",
        "\n",
        "    def collate_fn(self, batch):\n",
        "        batch=[self.augment(example) for example in batch]\n",
        "        imgs=torch.stack([example[0] for example in batch],dim=0)\n",
        "        target=torch.stack([example[1] for example in batch],dim=0)\n",
        "        return imgs, target\n",
        "\n",
        "    def setup(self, stage=None):\n",
        "        if stage=='fit' or stage is None:\n",
        "            self.train=VOCSegmentation('.', year='2012', download=False, image_set='train', transforms=self.transforms)\n",
        "            self.val=VOCSegmentation('.', year='2012', download=False, image_set='trainval', transforms=self.transforms)\n",
        "        if stage=='test' or stage is None:\n",
        "            self.test=VOCSegmentation('.', year='2012', download=False, image_set='val', transforms=self.transforms)\n",
        "\n",
        "    def train_dataloader(self):\n",
        "        return DataLoader(self.train, batch_size=self.batch_size, collate_fn=self.collate_fn, shuffle=True, drop_last=True)\n",
        "\n",
        "    def val_dataloader(self):\n",
        "        return DataLoader(self.val, batch_size=self.batch_size, collate_fn=self.collate_fn, shuffle=True, drop_last=True)\n",
        "\n",
        "    def test_dataloader(self):\n",
        "        return DataLoader(self.test, batch_size=self.batch_size, collate_fn=None, shuffle=True, drop_last=True)\n",
        "\n",
        "tmp=DataObject()\n",
        "tmp.prepare_data()\n",
        "tmp.setup()\n",
        "batch=next(iter(tmp.train_dataloader()))\n",
        "print(len(batch))\n",
        "print(batch[0].shape)\n",
        "print(batch[1].shape)"
      ]
    },
    {
      "cell_type": "code",
      "execution_count": 7,
      "metadata": {
        "colab": {
          "base_uri": "https://localhost:8080/",
          "height": 0
        },
        "id": "XCXi0P1pHBlJ",
        "outputId": "746c84b4-10f2-4fe6-d0dc-304de8770af5"
      },
      "outputs": [
        {
          "output_type": "display_data",
          "data": {
            "text/plain": [
              "<Figure size 640x480 with 1 Axes>"
            ],
            "image/svg+xml": "<?xml version=\"1.0\" encoding=\"utf-8\" standalone=\"no\"?>\n<!DOCTYPE svg PUBLIC \"-//W3C//DTD SVG 1.1//EN\"\n  \"http://www.w3.org/Graphics/SVG/1.1/DTD/svg11.dtd\">\n<svg xmlns:xlink=\"http://www.w3.org/1999/xlink\" width=\"371.52pt\" height=\"103.81332pt\" viewBox=\"0 0 371.52 103.81332\" xmlns=\"http://www.w3.org/2000/svg\" version=\"1.1\">\n <metadata>\n  <rdf:RDF xmlns:dc=\"http://purl.org/dc/elements/1.1/\" xmlns:cc=\"http://creativecommons.org/ns#\" xmlns:rdf=\"http://www.w3.org/1999/02/22-rdf-syntax-ns#\">\n   <cc:Work>\n    <dc:type rdf:resource=\"http://purl.org/dc/dcmitype/StillImage\"/>\n    <dc:date>2024-10-15T15:18:24.477119</dc:date>\n    <dc:format>image/svg+xml</dc:format>\n    <dc:creator>\n     <cc:Agent>\n      <dc:title>Matplotlib v3.7.1, https://matplotlib.org/</dc:title>\n     </cc:Agent>\n    </dc:creator>\n   </cc:Work>\n  </rdf:RDF>\n </metadata>\n <defs>\n  <style type=\"text/css\">*{stroke-linejoin: round; stroke-linecap: butt}</style>\n </defs>\n <g id=\"figure_1\">\n  <g id=\"patch_1\">\n   <path d=\"M 0 103.81332 \nL 371.52 103.81332 \nL 371.52 0 \nL 0 0 \nz\n\" style=\"fill: #ffffff\"/>\n  </g>\n  <g id=\"axes_1\">\n   <g clip-path=\"url(#p6e4ca7432a)\">\n    <image xlink:href=\"data:image/png;base64,\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\" id=\"imagea6bc485c2f\" transform=\"scale(1 -1) translate(0 -90)\" x=\"7.2\" y=\"-6.61332\" width=\"357.84\" height=\"90\"/>\n   </g>\n  </g>\n </g>\n <defs>\n  <clipPath id=\"p6e4ca7432a\">\n   <rect x=\"7.2\" y=\"7.2\" width=\"357.12\" height=\"89.41332\"/>\n  </clipPath>\n </defs>\n</svg>\n",
            "application/pdf": "[encoded data removed]"
          },
          "metadata": {}
        }
      ],
      "source": [
        "from torchvision.utils import make_grid\n",
        "\n",
        "def show_image(images, num_images=16, image_size=[3,32,32]):\n",
        "    images=images.detach().cpu()\n",
        "    grid_image=make_grid((images[:num_images]+1)*127.5, nrow=8)\n",
        "    plt.imshow(rearrange(grid_image, 'c h w -> h w c'))\n",
        "    plt.axis('off')\n",
        "    plt.show()\n",
        "\n",
        "show_image(batch[0])"
      ]
    },
    {
      "cell_type": "markdown",
      "metadata": {
        "id": "8F-ze0W-ATmt"
      },
      "source": [
        "# Architecture 1"
      ]
    },
    {
      "cell_type": "code",
      "execution_count": 8,
      "metadata": {
        "colab": {
          "base_uri": "https://localhost:8080/"
        },
        "id": "HgYIWeFmeEue",
        "outputId": "a251c74f-b39c-4c54-dd54-d0bc130aec20"
      },
      "outputs": [
        {
          "output_type": "execute_result",
          "data": {
            "text/plain": [
              "torch.Size([7, 6, 16, 16])"
            ]
          },
          "metadata": {},
          "execution_count": 8
        }
      ],
      "source": [
        "class DownSampler(nn.Module):\n",
        "    def __init__(self, in_channels, out_channels, kernel_size, use_batchnorm=True):\n",
        "        super().__init__()\n",
        "        self.net=nn.Sequential(nn.Conv2d(in_channels, out_channels, kernel_size, 2, 1, bias=False),\n",
        "                               nn.BatchNorm2d(out_channels) if use_batchnorm else nn.Identity(),\n",
        "                               nn.LeakyReLU(0.2, inplace=True)\n",
        "                               )\n",
        "\n",
        "    def forward(self, x):\n",
        "        return self.net(x)\n",
        "\n",
        "x=torch.rand(7,3,32,32)\n",
        "tmp=DownSampler(3,6,4,False)\n",
        "tmp(x).shape"
      ]
    },
    {
      "cell_type": "code",
      "execution_count": 9,
      "metadata": {
        "colab": {
          "base_uri": "https://localhost:8080/"
        },
        "id": "Lmn82csOhG3k",
        "outputId": "b1402c60-e73e-4b2d-ea5c-55277576d773"
      },
      "outputs": [
        {
          "output_type": "execute_result",
          "data": {
            "text/plain": [
              "torch.Size([7, 6, 64, 64])"
            ]
          },
          "metadata": {},
          "execution_count": 9
        }
      ],
      "source": [
        "class UpSampler(nn.Module):\n",
        "    def __init__(self, in_channels, out_channels, kernel_size, use_dropout=True):\n",
        "        super().__init__()\n",
        "        self.net=nn.Sequential(nn.ConvTranspose2d(in_channels, out_channels, kernel_size, 2, 1, bias=False),\n",
        "                               nn.BatchNorm2d(out_channels),\n",
        "                               nn.Dropout() if use_dropout else nn.Identity(),\n",
        "                               nn.ReLU(inplace=True)\n",
        "                               )\n",
        "\n",
        "    def forward(self, x):\n",
        "        return self.net(x)\n",
        "\n",
        "x=torch.rand(7,3,32,32)\n",
        "tmp=UpSampler(3,6,4,False)\n",
        "tmp(x).shape"
      ]
    },
    {
      "cell_type": "code",
      "execution_count": 10,
      "metadata": {
        "colab": {
          "base_uri": "https://localhost:8080/"
        },
        "id": "5w9hO3K8LMZ4",
        "outputId": "3f75c8cf-50a6-4a17-fe56-2017bb4b7511"
      },
      "outputs": [
        {
          "output_type": "execute_result",
          "data": {
            "text/plain": [
              "torch.Size([7, 1, 256, 256])"
            ]
          },
          "metadata": {},
          "execution_count": 10
        }
      ],
      "source": [
        "class Generator(nn.Module):\n",
        "    def __init__(self, in_channels, out_channels):\n",
        "        super().__init__()\n",
        "        self.down_sample=nn.ModuleList([DownSampler(in_channels, 64, 4, use_batchnorm=False),\n",
        "                                        DownSampler(64, 128, 4),\n",
        "                                        DownSampler(128, 256, 4),\n",
        "                                        DownSampler(256, 512, 4),\n",
        "                                        DownSampler(512, 512, 4),\n",
        "                                        DownSampler(512, 512, 4),\n",
        "                                        DownSampler(512, 512, 4),\n",
        "                                        DownSampler(512, 512, 4)])\n",
        "\n",
        "        self.up_sample=nn.ModuleList([UpSampler(512, 512, 4, use_dropout=True),\n",
        "                                      UpSampler(1024, 512, 4, use_dropout=True),\n",
        "                                      UpSampler(1024, 512, 4, use_dropout=True),\n",
        "                                      UpSampler(1024, 512, 4),\n",
        "                                      UpSampler(1024, 256, 4),\n",
        "                                      UpSampler(512, 128, 4),\n",
        "                                      UpSampler(256, 64, 4)])\n",
        "\n",
        "        self.head=nn.ConvTranspose2d(128, out_channels, 4, 2, 1)\n",
        "\n",
        "\n",
        "    def forward(self, x):\n",
        "        skips=[]\n",
        "        for down in self.down_sample:\n",
        "            x=down(x)\n",
        "            skips.append(x)\n",
        "        skips = reversed(skips[:-1])\n",
        "        for up, skip in zip(self.up_sample, skips):\n",
        "            x=up(x)\n",
        "            x=torch.cat([x,skip], dim=1)\n",
        "        x=self.head(x)\n",
        "\n",
        "        return F.tanh(x)\n",
        "\n",
        "x=torch.rand(7,3,256,256)\n",
        "tmp=Generator(3,1)\n",
        "tmp(x).shape"
      ]
    },
    {
      "cell_type": "code",
      "execution_count": 11,
      "metadata": {
        "colab": {
          "base_uri": "https://localhost:8080/"
        },
        "id": "01IJsmAORZpT",
        "outputId": "b137e002-0413-4e7f-a83b-02c185bd1c78"
      },
      "outputs": [
        {
          "output_type": "execute_result",
          "data": {
            "text/plain": [
              "torch.Size([7, 1, 30, 30])"
            ]
          },
          "metadata": {},
          "execution_count": 11
        }
      ],
      "source": [
        "class Discriminator(nn.Module):\n",
        "    def __init__(self,in_channels):\n",
        "        super().__init__()\n",
        "        self.net=nn.Sequential(DownSampler(in_channels, 64, 4, use_batchnorm=False),\n",
        "                               DownSampler(64, 128, 4),\n",
        "                               DownSampler(128, 256, 4),\n",
        "                               nn.ZeroPad2d(1),\n",
        "                               nn.Conv2d(256, 512, 4, stride=1, bias=False),\n",
        "                               nn.BatchNorm2d(512),\n",
        "                               nn.LeakyReLU(),\n",
        "                               nn.ZeroPad2d(1))\n",
        "\n",
        "        self.head = nn.Conv2d(512,1,4,stride=1)\n",
        "\n",
        "    def forward(self, img, tar):\n",
        "        x=torch.cat([img,tar],dim=1)\n",
        "        x=self.net(x)\n",
        "        x=self.head(x)\n",
        "        return x\n",
        "\n",
        "x=torch.rand([7,3,256,256])\n",
        "tmp=Discriminator(6)\n",
        "tmp(x,x).shape"
      ]
    },
    {
      "cell_type": "code",
      "execution_count": 12,
      "metadata": {
        "id": "Im_c4x_RAWjv"
      },
      "outputs": [],
      "source": [
        "# visualize model architecture"
      ]
    },
    {
      "cell_type": "markdown",
      "metadata": {
        "id": "oYxmNyD2oWzG"
      },
      "source": [
        "# Architecture 2"
      ]
    },
    {
      "cell_type": "code",
      "execution_count": 13,
      "metadata": {
        "colab": {
          "base_uri": "https://localhost:8080/"
        },
        "id": "Uw1ROmzooY4q",
        "outputId": "72d83601-34c9-4924-ab9a-2280f2950c04"
      },
      "outputs": [
        {
          "output_type": "execute_result",
          "data": {
            "text/plain": [
              "torch.Size([7, 6, 128, 128])"
            ]
          },
          "metadata": {},
          "execution_count": 13
        }
      ],
      "source": [
        "class ContractingBlock(nn.Module):\n",
        "    def __init__(self, in_channels, use_dropout=False, use_batchnorm=True):\n",
        "        super().__init__()\n",
        "        self.conv1 = nn.Conv2d(in_channels, in_channels * 2, kernel_size=3, padding=1)\n",
        "        self.conv2 = nn.Conv2d(in_channels * 2, in_channels * 2, kernel_size=3, padding=1)\n",
        "        self.batchnorm = nn.BatchNorm2d(in_channels * 2) if use_batchnorm else nn.Identity()\n",
        "        self.dropout = nn.Dropout() if use_dropout else nn.Identity()\n",
        "        self.maxpool = nn.MaxPool2d(kernel_size=2, stride=2)\n",
        "\n",
        "    def forward(self, x):\n",
        "        x = self.conv1(x)\n",
        "        x = self.batchnorm(x)\n",
        "        x = self.dropout(x)\n",
        "        x = F.leaky_relu(x, 0.2, inplace=True)\n",
        "\n",
        "        x = self.conv2(x)\n",
        "        x = self.batchnorm(x)\n",
        "        x = self.dropout(x)\n",
        "        x = F.leaky_relu(x, 0.2, inplace=True)\n",
        "\n",
        "        x = self.maxpool(x)\n",
        "\n",
        "        return x\n",
        "\n",
        "x=torch.rand(7,3,256,256)\n",
        "tmp=ContractingBlock(3)\n",
        "tmp(x).shape"
      ]
    },
    {
      "cell_type": "code",
      "execution_count": 14,
      "metadata": {
        "colab": {
          "base_uri": "https://localhost:8080/"
        },
        "id": "llZm-rW4qWGd",
        "outputId": "2a43087d-22f0-48e7-f2ae-d0f814d44ac5"
      },
      "outputs": [
        {
          "output_type": "execute_result",
          "data": {
            "text/plain": [
              "torch.Size([7, 4, 512, 512])"
            ]
          },
          "metadata": {},
          "execution_count": 14
        }
      ],
      "source": [
        "class ExpandingBlock(nn.Module):\n",
        "    def __init__(self, in_channels, use_dropout=False, use_batchnorm=True):\n",
        "        super().__init__()\n",
        "        self.upsample = nn.Upsample(scale_factor=2, mode='bilinear', align_corners=True)\n",
        "        self.conv1 = nn.Conv2d(in_channels, in_channels//2, kernel_size=2)\n",
        "        self.conv2 = nn.Conv2d(in_channels, in_channels//2, kernel_size=3, padding=1)\n",
        "        self.conv3 = nn.Conv2d(in_channels//2, in_channels//2, kernel_size=2, padding=1)\n",
        "        self.batchnorm = nn.BatchNorm2d(in_channels // 2) if use_batchnorm else nn.Identity()\n",
        "        self.dropout = nn.Dropout() if use_dropout else nn.Identity()\n",
        "\n",
        "    def forward(self, x, skip):\n",
        "        x = self.upsample(x)\n",
        "        x = self.conv1(x)\n",
        "        skip = self.crop(skip, x.shape)\n",
        "        x = torch.cat([x, skip], axis=1)\n",
        "\n",
        "        x = self.conv2(x)\n",
        "        x = self.batchnorm(x)\n",
        "        x = self.dropout(x)\n",
        "        x = F.relu(x, inplace=True)\n",
        "        x = self.conv3(x)\n",
        "        x = self.batchnorm(x)\n",
        "        x = self.dropout(x)\n",
        "        x = F.relu(x, inplace=True)\n",
        "        return x\n",
        "\n",
        "    def crop(self,image, new_shape):\n",
        "        middle_height = image.shape[2] // 2\n",
        "        middle_width = image.shape[3] // 2\n",
        "        starting_height = middle_height - round(new_shape[2] / 2)\n",
        "        final_height = starting_height + new_shape[2]\n",
        "        starting_width = middle_width - round(new_shape[3] / 2)\n",
        "        final_width = starting_width + new_shape[3]\n",
        "        cropped_image = image[:, :, starting_height:final_height, starting_width:final_width]\n",
        "        return cropped_image\n",
        "\n",
        "\n",
        "x=torch.rand(7,8,256,256)\n",
        "skip=torch.rand(7,4,512,512)\n",
        "tmp=ExpandingBlock(8)\n",
        "tmp(x,skip).shape"
      ]
    },
    {
      "cell_type": "code",
      "execution_count": 15,
      "metadata": {
        "colab": {
          "base_uri": "https://localhost:8080/"
        },
        "id": "wIVBnyMjtxZK",
        "outputId": "3fc74080-34e5-4bc4-b198-8377dedda171"
      },
      "outputs": [
        {
          "output_type": "execute_result",
          "data": {
            "text/plain": [
              "torch.Size([7, 3, 256, 256])"
            ]
          },
          "metadata": {},
          "execution_count": 15
        }
      ],
      "source": [
        "class FeatureMapBlock(nn.Module):\n",
        "    def __init__(self, in_channels, out_channels):\n",
        "        super().__init__()\n",
        "        self.conv = nn.Conv2d(in_channels, out_channels, kernel_size=1)\n",
        "\n",
        "    def forward(self, x):\n",
        "        x = self.conv(x)\n",
        "        return x\n",
        "\n",
        "x=torch.rand(7,3,256,256)\n",
        "tmp=FeatureMapBlock(3,3)\n",
        "tmp(x).shape"
      ]
    },
    {
      "cell_type": "code",
      "execution_count": 16,
      "metadata": {
        "colab": {
          "base_uri": "https://localhost:8080/"
        },
        "id": "leerZoczuFm7",
        "outputId": "7cae0065-bbc0-40a7-d2df-cd67932d8e26"
      },
      "outputs": [
        {
          "output_type": "execute_result",
          "data": {
            "text/plain": [
              "torch.Size([7, 3, 64, 64])"
            ]
          },
          "metadata": {},
          "execution_count": 16
        }
      ],
      "source": [
        "class UNet(nn.Module):\n",
        "    def __init__(self, in_channels, out_channels, hidden_channels=32):\n",
        "        super().__init__()\n",
        "        self.upfeature = FeatureMapBlock(in_channels, hidden_channels)\n",
        "\n",
        "        self.contract = nn.ModuleList([ContractingBlock(hidden_channels, use_dropout=True),\n",
        "                                       ContractingBlock(hidden_channels * 2, use_dropout=True),\n",
        "                                       ContractingBlock(hidden_channels * 4, use_dropout=True),\n",
        "                                       ContractingBlock(hidden_channels * 8),\n",
        "                                       ContractingBlock(hidden_channels * 16),\n",
        "                                       ContractingBlock(hidden_channels * 32)])\n",
        "\n",
        "        self.expand = nn.ModuleList([ExpandingBlock(hidden_channels * 64),\n",
        "                                     ExpandingBlock(hidden_channels * 32),\n",
        "                                     ExpandingBlock(hidden_channels * 16),\n",
        "                                     ExpandingBlock(hidden_channels * 8),\n",
        "                                     ExpandingBlock(hidden_channels * 4),\n",
        "                                     ExpandingBlock(hidden_channels * 2)])\n",
        "\n",
        "        self.downfeature = FeatureMapBlock(hidden_channels, out_channels)\n",
        "\n",
        "    def forward(self, x):\n",
        "        skips=[]\n",
        "        x = self.upfeature(x)\n",
        "        skips.append(x)\n",
        "        for layer in self.contract:\n",
        "            x=layer(x)\n",
        "            skips.append(x)\n",
        "        skips=reversed(skips[:-1])\n",
        "\n",
        "        for layer, skip in zip(self.expand, skips):\n",
        "            x=layer(x, skip)\n",
        "\n",
        "        x = self.downfeature(x)\n",
        "\n",
        "        return F.sigmoid(x)\n",
        "\n",
        "x=torch.rand(7,3,64,64)\n",
        "tmp=UNet(3,3)\n",
        "tmp(x).shape"
      ]
    },
    {
      "cell_type": "code",
      "execution_count": 17,
      "metadata": {
        "colab": {
          "base_uri": "https://localhost:8080/"
        },
        "id": "HVcsSxjWwRTi",
        "outputId": "a7eedf77-6a90-4a7b-9d52-4d451e8cbf60"
      },
      "outputs": [
        {
          "output_type": "execute_result",
          "data": {
            "text/plain": [
              "torch.Size([7, 1, 4, 4])"
            ]
          },
          "metadata": {},
          "execution_count": 17
        }
      ],
      "source": [
        "class Discriminator(nn.Module):\n",
        "    def __init__(self, in_channels, hidden_channels=8):\n",
        "        super().__init__()\n",
        "        self.upfeature = FeatureMapBlock(in_channels, hidden_channels)\n",
        "        self.contract=nn.Sequential(ContractingBlock(hidden_channels, use_batchnorm=False),\n",
        "                               ContractingBlock(hidden_channels * 2),\n",
        "                               ContractingBlock(hidden_channels * 4),\n",
        "                               ContractingBlock(hidden_channels * 8))\n",
        "        self.final = nn.Conv2d(hidden_channels * 16, 1, kernel_size=1)\n",
        "\n",
        "    def forward(self, x, y):\n",
        "        x = torch.cat([x, y], axis=1)\n",
        "        x = self.upfeature(x)\n",
        "        x= self.contract(x)\n",
        "        x = self.final(x)\n",
        "        return x\n",
        "\n",
        "x=torch.rand(7,3,64,64)\n",
        "tmp=Discriminator(6)\n",
        "tmp(x,x).shape"
      ]
    },
    {
      "cell_type": "markdown",
      "metadata": {
        "id": "meIVP5lPAZkl"
      },
      "source": [
        "# Training"
      ]
    },
    {
      "cell_type": "code",
      "execution_count": 23,
      "metadata": {
        "id": "Ery8pJ1XbEk9"
      },
      "outputs": [],
      "source": [
        "def get_gen_loss(fake_pred, fake, real, alpha=200):\n",
        "    bce_loss=F.binary_cross_entropy_with_logits(fake_pred, torch.ones_like(fake_pred))\n",
        "    l1_loss=reduce(abs(real-fake),'b c h w -> ()', 'mean')\n",
        "    return bce_loss+alpha*l1_loss\n",
        "\n",
        "def get_disc_loss(real_pred, fake_pred):\n",
        "    real_loss=F.binary_cross_entropy_with_logits(real_pred, torch.ones_like(real_pred))\n",
        "    fake_loss=F.binary_cross_entropy_with_logits(fake_pred, torch.zeros_like(fake_pred))\n",
        "    return (real_loss+fake_loss)/2"
      ]
    },
    {
      "cell_type": "code",
      "execution_count": 24,
      "metadata": {
        "id": "W7fPhBYCdl99"
      },
      "outputs": [],
      "source": [
        "lr=1e-2\n",
        "batch_size=128\n",
        "\n",
        "\n",
        "data_object=DataObject(256,256,batch_size)\n",
        "data_object.setup()\n",
        "train_loader=data_object.train_dataloader()\n",
        "gen=Generator(3,1).to(device)\n",
        "gen_opt=torch.optim.Adam(gen.parameters(), lr=lr)\n",
        "disc=Discriminator(4).to(device)\n",
        "disc_opt=torch.optim.Adam(disc.parameters(), lr=lr)"
      ]
    },
    {
      "cell_type": "code",
      "execution_count": 26,
      "metadata": {
        "colab": {
          "base_uri": "https://localhost:8080/",
          "height": 209,
          "referenced_widgets": [
            "94032336461940ce95832c6901445c16",
            "6667f13c98b84e45aa53fdbac2a8db22",
            "fd69bcfa78654c92bc265a39201db552",
            "c039f9fb369a464b9d9de947a5283d6c",
            "1368f495db8d469dad6a0b2337569539",
            "f04f13240ed44a349f140ce2ad36c260",
            "318ee02c40694e30a1a0ffb038f1dbc3",
            "b0dce5fe864047449f3ea8a2fe6f8ea4",
            "b36934bcf74846549ab56d871406b98b",
            "ea0252f514b24e79ba701835f07fb995",
            "5fd8d1df00e94774b418ccb392fabac8",
            "1d8f997879534cd1813767f23e2ccaba",
            "5ef961de6dac4c3c97244dee6342c393",
            "5a2719174e934e198fd4f58e02c777a0",
            "37aaa421e61344068ccd62a56db1f949",
            "cc88a6b4db9c4c36987308dd9d072f6e",
            "59324657a4f844838da7f1515fe9bda9",
            "f2075db0c5e94298b506b8cb31b5ec76",
            "6b2cb8683802411fbb672612a0163752",
            "4b466575b22c408188126eef5189b5af",
            "a9a676d1612b4647931074e269eff9bc",
            "6a57d957bb1148e586fa1feb7bd0f9a9",
            "57e5cca10e074e1bafd0a684d35a65c6",
            "21846114f36a4258a305e34b0447b368",
            "a7ac0de38e5845fa95f2ad2f9a3bb69a",
            "2fb62b8fb5b54b50b0d448bffecc5f57",
            "64b4b8ea3544465a9c0ef8028fc55002",
            "bd6c3254dc61426e99e72c6f74e6f06f",
            "6c8054b954fd4ad4ad7392f0a1e8e2b0",
            "21834923dccb4d7ba80e5d735254b2e3",
            "b66951978869498899661b9e954fbddc",
            "dfa857221d29487f9416dbeffe8ef14d",
            "af90696d50dd461da2da18fb214803a0",
            "b399fc4741444891bc4d3e644b8ab4da",
            "c92e2587dbce4585ad264e250862213d",
            "a6a16932e56546deb1e3bf2a7f8eda14",
            "a54406b5a213403e997ead6cab340b07",
            "4e5258d253b149fb9552295b36d5f133",
            "68e46310c41949238c6e8d30d92ce9a9",
            "515a46b24398410aa7c3024c8b16b296",
            "d609a2fa3bda48a29f2b6f170971c9bb",
            "e735a454afea4eef995243a18c76f1ec",
            "97980062fb974fcd8dee021a91d960ef",
            "79b5ba40612f4551ab022edd3fd7b153",
            "acfe010f020d4f61bf39e80b3fed967c",
            "2a7f48e057884cd69f41ebe4f9628685",
            "ccb9ff4e2daa438d993518581c55273a",
            "0e11e6ddb1c942d193cf1a873e65000e",
            "42edf5bd0bf3439b816630840ae58c8f",
            "23c58c4ba8c3493d82ff10321cdbf318",
            "4436b068f1074cebbc4e2b8ff13c0ace",
            "e132574460fe43dfacb2665094677145",
            "94a4c4417e4c46a1a53d56dbf1dd474e",
            "b337eb08d64e49958b831c88477d35af",
            "e61dc7d4b5a34c31a305eaaef11cd1b5",
            "bc68821db66f4cffa332047688693c5d",
            "f6608a16bbe740a8bec156915884e4df",
            "fc13b5fe707c4ce6a41f60ce395c3dc8",
            "56407f9d10414929a34582b81fb5da99",
            "a23eb9d4c51f498e85f304012c5c09b6",
            "0fee3fc1d7f54556bd348f7ff6bcffac",
            "65576c78ec14407fb14521b54e1950a8",
            "6b1da260eb964aea88746a1195953442",
            "8a056799e4d7493396108ee66f153cb7",
            "4b2b704ecdf6443c84a8ac0859625001",
            "5ddafd59b2094fe4a77d64e13067640f"
          ]
        },
        "id": "srlTtS5Xesj9",
        "outputId": "c5637b85-ac2b-4842-e039-a856e7c31902"
      },
      "outputs": [
        {
          "output_type": "display_data",
          "data": {
            "text/plain": [
              "  0%|          | 0/5 [00:00<?, ?it/s]"
            ],
            "application/vnd.jupyter.widget-view+json": {
              "version_major": 2,
              "version_minor": 0,
              "model_id": "94032336461940ce95832c6901445c16"
            }
          },
          "metadata": {}
        },
        {
          "output_type": "display_data",
          "data": {
            "text/plain": [
              "Epoch 1/5:   0%|          | 0/11 [00:00<?, ?it/s]"
            ],
            "application/vnd.jupyter.widget-view+json": {
              "version_major": 2,
              "version_minor": 0,
              "model_id": "1d8f997879534cd1813767f23e2ccaba"
            }
          },
          "metadata": {}
        },
        {
          "output_type": "display_data",
          "data": {
            "text/plain": [
              "Epoch 2/5:   0%|          | 0/11 [00:00<?, ?it/s]"
            ],
            "application/vnd.jupyter.widget-view+json": {
              "version_major": 2,
              "version_minor": 0,
              "model_id": "57e5cca10e074e1bafd0a684d35a65c6"
            }
          },
          "metadata": {}
        },
        {
          "output_type": "display_data",
          "data": {
            "text/plain": [
              "Epoch 3/5:   0%|          | 0/11 [00:00<?, ?it/s]"
            ],
            "application/vnd.jupyter.widget-view+json": {
              "version_major": 2,
              "version_minor": 0,
              "model_id": "b399fc4741444891bc4d3e644b8ab4da"
            }
          },
          "metadata": {}
        },
        {
          "output_type": "display_data",
          "data": {
            "text/plain": [
              "Epoch 4/5:   0%|          | 0/11 [00:00<?, ?it/s]"
            ],
            "application/vnd.jupyter.widget-view+json": {
              "version_major": 2,
              "version_minor": 0,
              "model_id": "acfe010f020d4f61bf39e80b3fed967c"
            }
          },
          "metadata": {}
        },
        {
          "output_type": "display_data",
          "data": {
            "text/plain": [
              "Epoch 5/5:   0%|          | 0/11 [00:00<?, ?it/s]"
            ],
            "application/vnd.jupyter.widget-view+json": {
              "version_major": 2,
              "version_minor": 0,
              "model_id": "bc68821db66f4cffa332047688693c5d"
            }
          },
          "metadata": {}
        }
      ],
      "source": [
        "num_epochs=5\n",
        "# 60 epoch for good result\n",
        "for epoch in tqdm(range(num_epochs)):\n",
        "    p_bar=tqdm(train_loader, desc=f'Epoch {epoch+1}/{num_epochs}: ')\n",
        "    for img, real in p_bar:\n",
        "        img=img.to(device)\n",
        "        real=real.to(device)\n",
        "\n",
        "        disc_opt.zero_grad()\n",
        "        fake=gen(img).detach()\n",
        "        fake_pred=disc(img,fake)\n",
        "        real_pred=disc(img,real[:,None,:,:])\n",
        "        disc_loss=get_disc_loss(real_pred,fake_pred)\n",
        "        disc_acc=((torch.sigmoid(real_pred)>=0.5).float().mean()+(torch.sigmoid(fake_pred)<0.5).float().mean())/2\n",
        "        disc_loss.backward()\n",
        "        disc_opt.step()\n",
        "\n",
        "        gen_opt.zero_grad()\n",
        "        fake=gen(img)\n",
        "        fake_pred=disc(img,fake.detach())\n",
        "        gen_loss=get_gen_loss(fake_pred, fake, real[:,None,:,:])\n",
        "        gen_acc=(torch.sigmoid(fake_pred)>=0.5).float().mean()\n",
        "        gen_loss.backward()\n",
        "        gen_opt.step()\n",
        "\n",
        "        p_bar.set_postfix(gen_loss=gen_loss.item(), disc_loss=disc_loss.item(), disc_acc=disc_acc.item(), gen_acc=gen_acc.item())"
      ]
    },
    {
      "cell_type": "code",
      "execution_count": 27,
      "metadata": {
        "id": "9eepbd7qAjPX"
      },
      "outputs": [],
      "source": [
        "real, label=next(iter(train_loader))\n",
        "real=real[:16]\n",
        "label=label[:16]\n",
        "fake = gen(real.to(device)).detach().cpu()\n",
        "fake = torch.sigmoid(fake)\n",
        "fake = (fake>=0.5).int()\n",
        "\n",
        "real=(real+1)*127.5\n",
        "label = label.unsqueeze(1)\n",
        "\n",
        "fig, axes = plt.subplots(real.shape[0], 3, figsize=(15, real.shape[0] * 5))\n",
        "for i,(r,f,l) in enumerate(zip(real, fake, label)):\n",
        "    for j , img in enumerate([r,f,l]):\n",
        "        axes[i,j].imshow(img.permute(1,2,0))\n",
        "        axes[i,j].axis('off')\n",
        "\n",
        "plt.tight_layout()\n",
        "plt.show()"
      ]
    }
  ],
  "metadata": {
    "accelerator": "GPU",
    "colab": {
      "gpuType": "T4",
      "provenance": [],
      "collapsed_sections": [
        "HtntqFl2ANIp",
        "LqJZ4hAfAPx9",
        "AxT4J2VHAR7z",
        "8F-ze0W-ATmt",
        "oYxmNyD2oWzG"
      ]
    },
    "kernelspec": {
      "display_name": "Python 3",
      "name": "python3"
    },
    "language_info": {
      "name": "python"
    },
    "widgets": {
      "application/vnd.jupyter.widget-state+json": {
        "94032336461940ce95832c6901445c16": {
          "model_module": "@jupyter-widgets/controls",
          "model_name": "HBoxModel",
          "model_module_version": "1.5.0",
          "state": {
            "_dom_classes": [],
            "_model_module": "@jupyter-widgets/controls",
            "_model_module_version": "1.5.0",
            "_model_name": "HBoxModel",
            "_view_count": null,
            "_view_module": "@jupyter-widgets/controls",
            "_view_module_version": "1.5.0",
            "_view_name": "HBoxView",
            "box_style": "",
            "children": [
              "IPY_MODEL_6667f13c98b84e45aa53fdbac2a8db22",
              "IPY_MODEL_fd69bcfa78654c92bc265a39201db552",
              "IPY_MODEL_c039f9fb369a464b9d9de947a5283d6c"
            ],
            "layout": "IPY_MODEL_1368f495db8d469dad6a0b2337569539"
          }
        },
        "6667f13c98b84e45aa53fdbac2a8db22": {
          "model_module": "@jupyter-widgets/controls",
          "model_name": "HTMLModel",
          "model_module_version": "1.5.0",
          "state": {
            "_dom_classes": [],
            "_model_module": "@jupyter-widgets/controls",
            "_model_module_version": "1.5.0",
            "_model_name": "HTMLModel",
            "_view_count": null,
            "_view_module": "@jupyter-widgets/controls",
            "_view_module_version": "1.5.0",
            "_view_name": "HTMLView",
            "description": "",
            "description_tooltip": null,
            "layout": "IPY_MODEL_f04f13240ed44a349f140ce2ad36c260",
            "placeholder": "​",
            "style": "IPY_MODEL_318ee02c40694e30a1a0ffb038f1dbc3",
            "value": "100%"
          }
        },
        "fd69bcfa78654c92bc265a39201db552": {
          "model_module": "@jupyter-widgets/controls",
          "model_name": "FloatProgressModel",
          "model_module_version": "1.5.0",
          "state": {
            "_dom_classes": [],
            "_model_module": "@jupyter-widgets/controls",
            "_model_module_version": "1.5.0",
            "_model_name": "FloatProgressModel",
            "_view_count": null,
            "_view_module": "@jupyter-widgets/controls",
            "_view_module_version": "1.5.0",
            "_view_name": "ProgressView",
            "bar_style": "success",
            "description": "",
            "description_tooltip": null,
            "layout": "IPY_MODEL_b0dce5fe864047449f3ea8a2fe6f8ea4",
            "max": 5,
            "min": 0,
            "orientation": "horizontal",
            "style": "IPY_MODEL_b36934bcf74846549ab56d871406b98b",
            "value": 5
          }
        },
        "c039f9fb369a464b9d9de947a5283d6c": {
          "model_module": "@jupyter-widgets/controls",
          "model_name": "HTMLModel",
          "model_module_version": "1.5.0",
          "state": {
            "_dom_classes": [],
            "_model_module": "@jupyter-widgets/controls",
            "_model_module_version": "1.5.0",
            "_model_name": "HTMLModel",
            "_view_count": null,
            "_view_module": "@jupyter-widgets/controls",
            "_view_module_version": "1.5.0",
            "_view_name": "HTMLView",
            "description": "",
            "description_tooltip": null,
            "layout": "IPY_MODEL_ea0252f514b24e79ba701835f07fb995",
            "placeholder": "​",
            "style": "IPY_MODEL_5fd8d1df00e94774b418ccb392fabac8",
            "value": " 5/5 [05:32&lt;00:00, 66.48s/it]"
          }
        },
        "1368f495db8d469dad6a0b2337569539": {
          "model_module": "@jupyter-widgets/base",
          "model_name": "LayoutModel",
          "model_module_version": "1.2.0",
          "state": {
            "_model_module": "@jupyter-widgets/base",
            "_model_module_version": "1.2.0",
            "_model_name": "LayoutModel",
            "_view_count": null,
            "_view_module": "@jupyter-widgets/base",
            "_view_module_version": "1.2.0",
            "_view_name": "LayoutView",
            "align_content": null,
            "align_items": null,
            "align_self": null,
            "border": null,
            "bottom": null,
            "display": null,
            "flex": null,
            "flex_flow": null,
            "grid_area": null,
            "grid_auto_columns": null,
            "grid_auto_flow": null,
            "grid_auto_rows": null,
            "grid_column": null,
            "grid_gap": null,
            "grid_row": null,
            "grid_template_areas": null,
            "grid_template_columns": null,
            "grid_template_rows": null,
            "height": null,
            "justify_content": null,
            "justify_items": null,
            "left": null,
            "margin": null,
            "max_height": null,
            "max_width": null,
            "min_height": null,
            "min_width": null,
            "object_fit": null,
            "object_position": null,
            "order": null,
            "overflow": null,
            "overflow_x": null,
            "overflow_y": null,
            "padding": null,
            "right": null,
            "top": null,
            "visibility": null,
            "width": null
          }
        },
        "f04f13240ed44a349f140ce2ad36c260": {
          "model_module": "@jupyter-widgets/base",
          "model_name": "LayoutModel",
          "model_module_version": "1.2.0",
          "state": {
            "_model_module": "@jupyter-widgets/base",
            "_model_module_version": "1.2.0",
            "_model_name": "LayoutModel",
            "_view_count": null,
            "_view_module": "@jupyter-widgets/base",
            "_view_module_version": "1.2.0",
            "_view_name": "LayoutView",
            "align_content": null,
            "align_items": null,
            "align_self": null,
            "border": null,
            "bottom": null,
            "display": null,
            "flex": null,
            "flex_flow": null,
            "grid_area": null,
            "grid_auto_columns": null,
            "grid_auto_flow": null,
            "grid_auto_rows": null,
            "grid_column": null,
            "grid_gap": null,
            "grid_row": null,
            "grid_template_areas": null,
            "grid_template_columns": null,
            "grid_template_rows": null,
            "height": null,
            "justify_content": null,
            "justify_items": null,
            "left": null,
            "margin": null,
            "max_height": null,
            "max_width": null,
            "min_height": null,
            "min_width": null,
            "object_fit": null,
            "object_position": null,
            "order": null,
            "overflow": null,
            "overflow_x": null,
            "overflow_y": null,
            "padding": null,
            "right": null,
            "top": null,
            "visibility": null,
            "width": null
          }
        },
        "318ee02c40694e30a1a0ffb038f1dbc3": {
          "model_module": "@jupyter-widgets/controls",
          "model_name": "DescriptionStyleModel",
          "model_module_version": "1.5.0",
          "state": {
            "_model_module": "@jupyter-widgets/controls",
            "_model_module_version": "1.5.0",
            "_model_name": "DescriptionStyleModel",
            "_view_count": null,
            "_view_module": "@jupyter-widgets/base",
            "_view_module_version": "1.2.0",
            "_view_name": "StyleView",
            "description_width": ""
          }
        },
        "b0dce5fe864047449f3ea8a2fe6f8ea4": {
          "model_module": "@jupyter-widgets/base",
          "model_name": "LayoutModel",
          "model_module_version": "1.2.0",
          "state": {
            "_model_module": "@jupyter-widgets/base",
            "_model_module_version": "1.2.0",
            "_model_name": "LayoutModel",
            "_view_count": null,
            "_view_module": "@jupyter-widgets/base",
            "_view_module_version": "1.2.0",
            "_view_name": "LayoutView",
            "align_content": null,
            "align_items": null,
            "align_self": null,
            "border": null,
            "bottom": null,
            "display": null,
            "flex": null,
            "flex_flow": null,
            "grid_area": null,
            "grid_auto_columns": null,
            "grid_auto_flow": null,
            "grid_auto_rows": null,
            "grid_column": null,
            "grid_gap": null,
            "grid_row": null,
            "grid_template_areas": null,
            "grid_template_columns": null,
            "grid_template_rows": null,
            "height": null,
            "justify_content": null,
            "justify_items": null,
            "left": null,
            "margin": null,
            "max_height": null,
            "max_width": null,
            "min_height": null,
            "min_width": null,
            "object_fit": null,
            "object_position": null,
            "order": null,
            "overflow": null,
            "overflow_x": null,
            "overflow_y": null,
            "padding": null,
            "right": null,
            "top": null,
            "visibility": null,
            "width": null
          }
        },
        "b36934bcf74846549ab56d871406b98b": {
          "model_module": "@jupyter-widgets/controls",
          "model_name": "ProgressStyleModel",
          "model_module_version": "1.5.0",
          "state": {
            "_model_module": "@jupyter-widgets/controls",
            "_model_module_version": "1.5.0",
            "_model_name": "ProgressStyleModel",
            "_view_count": null,
            "_view_module": "@jupyter-widgets/base",
            "_view_module_version": "1.2.0",
            "_view_name": "StyleView",
            "bar_color": null,
            "description_width": ""
          }
        },
        "ea0252f514b24e79ba701835f07fb995": {
          "model_module": "@jupyter-widgets/base",
          "model_name": "LayoutModel",
          "model_module_version": "1.2.0",
          "state": {
            "_model_module": "@jupyter-widgets/base",
            "_model_module_version": "1.2.0",
            "_model_name": "LayoutModel",
            "_view_count": null,
            "_view_module": "@jupyter-widgets/base",
            "_view_module_version": "1.2.0",
            "_view_name": "LayoutView",
            "align_content": null,
            "align_items": null,
            "align_self": null,
            "border": null,
            "bottom": null,
            "display": null,
            "flex": null,
            "flex_flow": null,
            "grid_area": null,
            "grid_auto_columns": null,
            "grid_auto_flow": null,
            "grid_auto_rows": null,
            "grid_column": null,
            "grid_gap": null,
            "grid_row": null,
            "grid_template_areas": null,
            "grid_template_columns": null,
            "grid_template_rows": null,
            "height": null,
            "justify_content": null,
            "justify_items": null,
            "left": null,
            "margin": null,
            "max_height": null,
            "max_width": null,
            "min_height": null,
            "min_width": null,
            "object_fit": null,
            "object_position": null,
            "order": null,
            "overflow": null,
            "overflow_x": null,
            "overflow_y": null,
            "padding": null,
            "right": null,
            "top": null,
            "visibility": null,
            "width": null
          }
        },
        "5fd8d1df00e94774b418ccb392fabac8": {
          "model_module": "@jupyter-widgets/controls",
          "model_name": "DescriptionStyleModel",
          "model_module_version": "1.5.0",
          "state": {
            "_model_module": "@jupyter-widgets/controls",
            "_model_module_version": "1.5.0",
            "_model_name": "DescriptionStyleModel",
            "_view_count": null,
            "_view_module": "@jupyter-widgets/base",
            "_view_module_version": "1.2.0",
            "_view_name": "StyleView",
            "description_width": ""
          }
        },
        "1d8f997879534cd1813767f23e2ccaba": {
          "model_module": "@jupyter-widgets/controls",
          "model_name": "HBoxModel",
          "model_module_version": "1.5.0",
          "state": {
            "_dom_classes": [],
            "_model_module": "@jupyter-widgets/controls",
            "_model_module_version": "1.5.0",
            "_model_name": "HBoxModel",
            "_view_count": null,
            "_view_module": "@jupyter-widgets/controls",
            "_view_module_version": "1.5.0",
            "_view_name": "HBoxView",
            "box_style": "",
            "children": [
              "IPY_MODEL_5ef961de6dac4c3c97244dee6342c393",
              "IPY_MODEL_5a2719174e934e198fd4f58e02c777a0",
              "IPY_MODEL_37aaa421e61344068ccd62a56db1f949"
            ],
            "layout": "IPY_MODEL_cc88a6b4db9c4c36987308dd9d072f6e"
          }
        },
        "5ef961de6dac4c3c97244dee6342c393": {
          "model_module": "@jupyter-widgets/controls",
          "model_name": "HTMLModel",
          "model_module_version": "1.5.0",
          "state": {
            "_dom_classes": [],
            "_model_module": "@jupyter-widgets/controls",
            "_model_module_version": "1.5.0",
            "_model_name": "HTMLModel",
            "_view_count": null,
            "_view_module": "@jupyter-widgets/controls",
            "_view_module_version": "1.5.0",
            "_view_name": "HTMLView",
            "description": "",
            "description_tooltip": null,
            "layout": "IPY_MODEL_59324657a4f844838da7f1515fe9bda9",
            "placeholder": "​",
            "style": "IPY_MODEL_f2075db0c5e94298b506b8cb31b5ec76",
            "value": "Epoch 1/5: 100%"
          }
        },
        "5a2719174e934e198fd4f58e02c777a0": {
          "model_module": "@jupyter-widgets/controls",
          "model_name": "FloatProgressModel",
          "model_module_version": "1.5.0",
          "state": {
            "_dom_classes": [],
            "_model_module": "@jupyter-widgets/controls",
            "_model_module_version": "1.5.0",
            "_model_name": "FloatProgressModel",
            "_view_count": null,
            "_view_module": "@jupyter-widgets/controls",
            "_view_module_version": "1.5.0",
            "_view_name": "ProgressView",
            "bar_style": "success",
            "description": "",
            "description_tooltip": null,
            "layout": "IPY_MODEL_6b2cb8683802411fbb672612a0163752",
            "max": 11,
            "min": 0,
            "orientation": "horizontal",
            "style": "IPY_MODEL_4b466575b22c408188126eef5189b5af",
            "value": 11
          }
        },
        "37aaa421e61344068ccd62a56db1f949": {
          "model_module": "@jupyter-widgets/controls",
          "model_name": "HTMLModel",
          "model_module_version": "1.5.0",
          "state": {
            "_dom_classes": [],
            "_model_module": "@jupyter-widgets/controls",
            "_model_module_version": "1.5.0",
            "_model_name": "HTMLModel",
            "_view_count": null,
            "_view_module": "@jupyter-widgets/controls",
            "_view_module_version": "1.5.0",
            "_view_name": "HTMLView",
            "description": "",
            "description_tooltip": null,
            "layout": "IPY_MODEL_a9a676d1612b4647931074e269eff9bc",
            "placeholder": "​",
            "style": "IPY_MODEL_6a57d957bb1148e586fa1feb7bd0f9a9",
            "value": " 11/11 [01:06&lt;00:00,  6.19s/it, disc_acc=1, disc_loss=0.0704, gen_acc=0, gen_loss=3.94]"
          }
        },
        "cc88a6b4db9c4c36987308dd9d072f6e": {
          "model_module": "@jupyter-widgets/base",
          "model_name": "LayoutModel",
          "model_module_version": "1.2.0",
          "state": {
            "_model_module": "@jupyter-widgets/base",
            "_model_module_version": "1.2.0",
            "_model_name": "LayoutModel",
            "_view_count": null,
            "_view_module": "@jupyter-widgets/base",
            "_view_module_version": "1.2.0",
            "_view_name": "LayoutView",
            "align_content": null,
            "align_items": null,
            "align_self": null,
            "border": null,
            "bottom": null,
            "display": null,
            "flex": null,
            "flex_flow": null,
            "grid_area": null,
            "grid_auto_columns": null,
            "grid_auto_flow": null,
            "grid_auto_rows": null,
            "grid_column": null,
            "grid_gap": null,
            "grid_row": null,
            "grid_template_areas": null,
            "grid_template_columns": null,
            "grid_template_rows": null,
            "height": null,
            "justify_content": null,
            "justify_items": null,
            "left": null,
            "margin": null,
            "max_height": null,
            "max_width": null,
            "min_height": null,
            "min_width": null,
            "object_fit": null,
            "object_position": null,
            "order": null,
            "overflow": null,
            "overflow_x": null,
            "overflow_y": null,
            "padding": null,
            "right": null,
            "top": null,
            "visibility": null,
            "width": null
          }
        },
        "59324657a4f844838da7f1515fe9bda9": {
          "model_module": "@jupyter-widgets/base",
          "model_name": "LayoutModel",
          "model_module_version": "1.2.0",
          "state": {
            "_model_module": "@jupyter-widgets/base",
            "_model_module_version": "1.2.0",
            "_model_name": "LayoutModel",
            "_view_count": null,
            "_view_module": "@jupyter-widgets/base",
            "_view_module_version": "1.2.0",
            "_view_name": "LayoutView",
            "align_content": null,
            "align_items": null,
            "align_self": null,
            "border": null,
            "bottom": null,
            "display": null,
            "flex": null,
            "flex_flow": null,
            "grid_area": null,
            "grid_auto_columns": null,
            "grid_auto_flow": null,
            "grid_auto_rows": null,
            "grid_column": null,
            "grid_gap": null,
            "grid_row": null,
            "grid_template_areas": null,
            "grid_template_columns": null,
            "grid_template_rows": null,
            "height": null,
            "justify_content": null,
            "justify_items": null,
            "left": null,
            "margin": null,
            "max_height": null,
            "max_width": null,
            "min_height": null,
            "min_width": null,
            "object_fit": null,
            "object_position": null,
            "order": null,
            "overflow": null,
            "overflow_x": null,
            "overflow_y": null,
            "padding": null,
            "right": null,
            "top": null,
            "visibility": null,
            "width": null
          }
        },
        "f2075db0c5e94298b506b8cb31b5ec76": {
          "model_module": "@jupyter-widgets/controls",
          "model_name": "DescriptionStyleModel",
          "model_module_version": "1.5.0",
          "state": {
            "_model_module": "@jupyter-widgets/controls",
            "_model_module_version": "1.5.0",
            "_model_name": "DescriptionStyleModel",
            "_view_count": null,
            "_view_module": "@jupyter-widgets/base",
            "_view_module_version": "1.2.0",
            "_view_name": "StyleView",
            "description_width": ""
          }
        },
        "6b2cb8683802411fbb672612a0163752": {
          "model_module": "@jupyter-widgets/base",
          "model_name": "LayoutModel",
          "model_module_version": "1.2.0",
          "state": {
            "_model_module": "@jupyter-widgets/base",
            "_model_module_version": "1.2.0",
            "_model_name": "LayoutModel",
            "_view_count": null,
            "_view_module": "@jupyter-widgets/base",
            "_view_module_version": "1.2.0",
            "_view_name": "LayoutView",
            "align_content": null,
            "align_items": null,
            "align_self": null,
            "border": null,
            "bottom": null,
            "display": null,
            "flex": null,
            "flex_flow": null,
            "grid_area": null,
            "grid_auto_columns": null,
            "grid_auto_flow": null,
            "grid_auto_rows": null,
            "grid_column": null,
            "grid_gap": null,
            "grid_row": null,
            "grid_template_areas": null,
            "grid_template_columns": null,
            "grid_template_rows": null,
            "height": null,
            "justify_content": null,
            "justify_items": null,
            "left": null,
            "margin": null,
            "max_height": null,
            "max_width": null,
            "min_height": null,
            "min_width": null,
            "object_fit": null,
            "object_position": null,
            "order": null,
            "overflow": null,
            "overflow_x": null,
            "overflow_y": null,
            "padding": null,
            "right": null,
            "top": null,
            "visibility": null,
            "width": null
          }
        },
        "4b466575b22c408188126eef5189b5af": {
          "model_module": "@jupyter-widgets/controls",
          "model_name": "ProgressStyleModel",
          "model_module_version": "1.5.0",
          "state": {
            "_model_module": "@jupyter-widgets/controls",
            "_model_module_version": "1.5.0",
            "_model_name": "ProgressStyleModel",
            "_view_count": null,
            "_view_module": "@jupyter-widgets/base",
            "_view_module_version": "1.2.0",
            "_view_name": "StyleView",
            "bar_color": null,
            "description_width": ""
          }
        },
        "a9a676d1612b4647931074e269eff9bc": {
          "model_module": "@jupyter-widgets/base",
          "model_name": "LayoutModel",
          "model_module_version": "1.2.0",
          "state": {
            "_model_module": "@jupyter-widgets/base",
            "_model_module_version": "1.2.0",
            "_model_name": "LayoutModel",
            "_view_count": null,
            "_view_module": "@jupyter-widgets/base",
            "_view_module_version": "1.2.0",
            "_view_name": "LayoutView",
            "align_content": null,
            "align_items": null,
            "align_self": null,
            "border": null,
            "bottom": null,
            "display": null,
            "flex": null,
            "flex_flow": null,
            "grid_area": null,
            "grid_auto_columns": null,
            "grid_auto_flow": null,
            "grid_auto_rows": null,
            "grid_column": null,
            "grid_gap": null,
            "grid_row": null,
            "grid_template_areas": null,
            "grid_template_columns": null,
            "grid_template_rows": null,
            "height": null,
            "justify_content": null,
            "justify_items": null,
            "left": null,
            "margin": null,
            "max_height": null,
            "max_width": null,
            "min_height": null,
            "min_width": null,
            "object_fit": null,
            "object_position": null,
            "order": null,
            "overflow": null,
            "overflow_x": null,
            "overflow_y": null,
            "padding": null,
            "right": null,
            "top": null,
            "visibility": null,
            "width": null
          }
        },
        "6a57d957bb1148e586fa1feb7bd0f9a9": {
          "model_module": "@jupyter-widgets/controls",
          "model_name": "DescriptionStyleModel",
          "model_module_version": "1.5.0",
          "state": {
            "_model_module": "@jupyter-widgets/controls",
            "_model_module_version": "1.5.0",
            "_model_name": "DescriptionStyleModel",
            "_view_count": null,
            "_view_module": "@jupyter-widgets/base",
            "_view_module_version": "1.2.0",
            "_view_name": "StyleView",
            "description_width": ""
          }
        },
        "57e5cca10e074e1bafd0a684d35a65c6": {
          "model_module": "@jupyter-widgets/controls",
          "model_name": "HBoxModel",
          "model_module_version": "1.5.0",
          "state": {
            "_dom_classes": [],
            "_model_module": "@jupyter-widgets/controls",
            "_model_module_version": "1.5.0",
            "_model_name": "HBoxModel",
            "_view_count": null,
            "_view_module": "@jupyter-widgets/controls",
            "_view_module_version": "1.5.0",
            "_view_name": "HBoxView",
            "box_style": "",
            "children": [
              "IPY_MODEL_21846114f36a4258a305e34b0447b368",
              "IPY_MODEL_a7ac0de38e5845fa95f2ad2f9a3bb69a",
              "IPY_MODEL_2fb62b8fb5b54b50b0d448bffecc5f57"
            ],
            "layout": "IPY_MODEL_64b4b8ea3544465a9c0ef8028fc55002"
          }
        },
        "21846114f36a4258a305e34b0447b368": {
          "model_module": "@jupyter-widgets/controls",
          "model_name": "HTMLModel",
          "model_module_version": "1.5.0",
          "state": {
            "_dom_classes": [],
            "_model_module": "@jupyter-widgets/controls",
            "_model_module_version": "1.5.0",
            "_model_name": "HTMLModel",
            "_view_count": null,
            "_view_module": "@jupyter-widgets/controls",
            "_view_module_version": "1.5.0",
            "_view_name": "HTMLView",
            "description": "",
            "description_tooltip": null,
            "layout": "IPY_MODEL_bd6c3254dc61426e99e72c6f74e6f06f",
            "placeholder": "​",
            "style": "IPY_MODEL_6c8054b954fd4ad4ad7392f0a1e8e2b0",
            "value": "Epoch 2/5: 100%"
          }
        },
        "a7ac0de38e5845fa95f2ad2f9a3bb69a": {
          "model_module": "@jupyter-widgets/controls",
          "model_name": "FloatProgressModel",
          "model_module_version": "1.5.0",
          "state": {
            "_dom_classes": [],
            "_model_module": "@jupyter-widgets/controls",
            "_model_module_version": "1.5.0",
            "_model_name": "FloatProgressModel",
            "_view_count": null,
            "_view_module": "@jupyter-widgets/controls",
            "_view_module_version": "1.5.0",
            "_view_name": "ProgressView",
            "bar_style": "success",
            "description": "",
            "description_tooltip": null,
            "layout": "IPY_MODEL_21834923dccb4d7ba80e5d735254b2e3",
            "max": 11,
            "min": 0,
            "orientation": "horizontal",
            "style": "IPY_MODEL_b66951978869498899661b9e954fbddc",
            "value": 11
          }
        },
        "2fb62b8fb5b54b50b0d448bffecc5f57": {
          "model_module": "@jupyter-widgets/controls",
          "model_name": "HTMLModel",
          "model_module_version": "1.5.0",
          "state": {
            "_dom_classes": [],
            "_model_module": "@jupyter-widgets/controls",
            "_model_module_version": "1.5.0",
            "_model_name": "HTMLModel",
            "_view_count": null,
            "_view_module": "@jupyter-widgets/controls",
            "_view_module_version": "1.5.0",
            "_view_name": "HTMLView",
            "description": "",
            "description_tooltip": null,
            "layout": "IPY_MODEL_dfa857221d29487f9416dbeffe8ef14d",
            "placeholder": "​",
            "style": "IPY_MODEL_af90696d50dd461da2da18fb214803a0",
            "value": " 11/11 [01:05&lt;00:00,  6.15s/it, disc_acc=1, disc_loss=0.0524, gen_acc=0.000214, gen_loss=3.66]"
          }
        },
        "64b4b8ea3544465a9c0ef8028fc55002": {
          "model_module": "@jupyter-widgets/base",
          "model_name": "LayoutModel",
          "model_module_version": "1.2.0",
          "state": {
            "_model_module": "@jupyter-widgets/base",
            "_model_module_version": "1.2.0",
            "_model_name": "LayoutModel",
            "_view_count": null,
            "_view_module": "@jupyter-widgets/base",
            "_view_module_version": "1.2.0",
            "_view_name": "LayoutView",
            "align_content": null,
            "align_items": null,
            "align_self": null,
            "border": null,
            "bottom": null,
            "display": null,
            "flex": null,
            "flex_flow": null,
            "grid_area": null,
            "grid_auto_columns": null,
            "grid_auto_flow": null,
            "grid_auto_rows": null,
            "grid_column": null,
            "grid_gap": null,
            "grid_row": null,
            "grid_template_areas": null,
            "grid_template_columns": null,
            "grid_template_rows": null,
            "height": null,
            "justify_content": null,
            "justify_items": null,
            "left": null,
            "margin": null,
            "max_height": null,
            "max_width": null,
            "min_height": null,
            "min_width": null,
            "object_fit": null,
            "object_position": null,
            "order": null,
            "overflow": null,
            "overflow_x": null,
            "overflow_y": null,
            "padding": null,
            "right": null,
            "top": null,
            "visibility": null,
            "width": null
          }
        },
        "bd6c3254dc61426e99e72c6f74e6f06f": {
          "model_module": "@jupyter-widgets/base",
          "model_name": "LayoutModel",
          "model_module_version": "1.2.0",
          "state": {
            "_model_module": "@jupyter-widgets/base",
            "_model_module_version": "1.2.0",
            "_model_name": "LayoutModel",
            "_view_count": null,
            "_view_module": "@jupyter-widgets/base",
            "_view_module_version": "1.2.0",
            "_view_name": "LayoutView",
            "align_content": null,
            "align_items": null,
            "align_self": null,
            "border": null,
            "bottom": null,
            "display": null,
            "flex": null,
            "flex_flow": null,
            "grid_area": null,
            "grid_auto_columns": null,
            "grid_auto_flow": null,
            "grid_auto_rows": null,
            "grid_column": null,
            "grid_gap": null,
            "grid_row": null,
            "grid_template_areas": null,
            "grid_template_columns": null,
            "grid_template_rows": null,
            "height": null,
            "justify_content": null,
            "justify_items": null,
            "left": null,
            "margin": null,
            "max_height": null,
            "max_width": null,
            "min_height": null,
            "min_width": null,
            "object_fit": null,
            "object_position": null,
            "order": null,
            "overflow": null,
            "overflow_x": null,
            "overflow_y": null,
            "padding": null,
            "right": null,
            "top": null,
            "visibility": null,
            "width": null
          }
        },
        "6c8054b954fd4ad4ad7392f0a1e8e2b0": {
          "model_module": "@jupyter-widgets/controls",
          "model_name": "DescriptionStyleModel",
          "model_module_version": "1.5.0",
          "state": {
            "_model_module": "@jupyter-widgets/controls",
            "_model_module_version": "1.5.0",
            "_model_name": "DescriptionStyleModel",
            "_view_count": null,
            "_view_module": "@jupyter-widgets/base",
            "_view_module_version": "1.2.0",
            "_view_name": "StyleView",
            "description_width": ""
          }
        },
        "21834923dccb4d7ba80e5d735254b2e3": {
          "model_module": "@jupyter-widgets/base",
          "model_name": "LayoutModel",
          "model_module_version": "1.2.0",
          "state": {
            "_model_module": "@jupyter-widgets/base",
            "_model_module_version": "1.2.0",
            "_model_name": "LayoutModel",
            "_view_count": null,
            "_view_module": "@jupyter-widgets/base",
            "_view_module_version": "1.2.0",
            "_view_name": "LayoutView",
            "align_content": null,
            "align_items": null,
            "align_self": null,
            "border": null,
            "bottom": null,
            "display": null,
            "flex": null,
            "flex_flow": null,
            "grid_area": null,
            "grid_auto_columns": null,
            "grid_auto_flow": null,
            "grid_auto_rows": null,
            "grid_column": null,
            "grid_gap": null,
            "grid_row": null,
            "grid_template_areas": null,
            "grid_template_columns": null,
            "grid_template_rows": null,
            "height": null,
            "justify_content": null,
            "justify_items": null,
            "left": null,
            "margin": null,
            "max_height": null,
            "max_width": null,
            "min_height": null,
            "min_width": null,
            "object_fit": null,
            "object_position": null,
            "order": null,
            "overflow": null,
            "overflow_x": null,
            "overflow_y": null,
            "padding": null,
            "right": null,
            "top": null,
            "visibility": null,
            "width": null
          }
        },
        "b66951978869498899661b9e954fbddc": {
          "model_module": "@jupyter-widgets/controls",
          "model_name": "ProgressStyleModel",
          "model_module_version": "1.5.0",
          "state": {
            "_model_module": "@jupyter-widgets/controls",
            "_model_module_version": "1.5.0",
            "_model_name": "ProgressStyleModel",
            "_view_count": null,
            "_view_module": "@jupyter-widgets/base",
            "_view_module_version": "1.2.0",
            "_view_name": "StyleView",
            "bar_color": null,
            "description_width": ""
          }
        },
        "dfa857221d29487f9416dbeffe8ef14d": {
          "model_module": "@jupyter-widgets/base",
          "model_name": "LayoutModel",
          "model_module_version": "1.2.0",
          "state": {
            "_model_module": "@jupyter-widgets/base",
            "_model_module_version": "1.2.0",
            "_model_name": "LayoutModel",
            "_view_count": null,
            "_view_module": "@jupyter-widgets/base",
            "_view_module_version": "1.2.0",
            "_view_name": "LayoutView",
            "align_content": null,
            "align_items": null,
            "align_self": null,
            "border": null,
            "bottom": null,
            "display": null,
            "flex": null,
            "flex_flow": null,
            "grid_area": null,
            "grid_auto_columns": null,
            "grid_auto_flow": null,
            "grid_auto_rows": null,
            "grid_column": null,
            "grid_gap": null,
            "grid_row": null,
            "grid_template_areas": null,
            "grid_template_columns": null,
            "grid_template_rows": null,
            "height": null,
            "justify_content": null,
            "justify_items": null,
            "left": null,
            "margin": null,
            "max_height": null,
            "max_width": null,
            "min_height": null,
            "min_width": null,
            "object_fit": null,
            "object_position": null,
            "order": null,
            "overflow": null,
            "overflow_x": null,
            "overflow_y": null,
            "padding": null,
            "right": null,
            "top": null,
            "visibility": null,
            "width": null
          }
        },
        "af90696d50dd461da2da18fb214803a0": {
          "model_module": "@jupyter-widgets/controls",
          "model_name": "DescriptionStyleModel",
          "model_module_version": "1.5.0",
          "state": {
            "_model_module": "@jupyter-widgets/controls",
            "_model_module_version": "1.5.0",
            "_model_name": "DescriptionStyleModel",
            "_view_count": null,
            "_view_module": "@jupyter-widgets/base",
            "_view_module_version": "1.2.0",
            "_view_name": "StyleView",
            "description_width": ""
          }
        },
        "b399fc4741444891bc4d3e644b8ab4da": {
          "model_module": "@jupyter-widgets/controls",
          "model_name": "HBoxModel",
          "model_module_version": "1.5.0",
          "state": {
            "_dom_classes": [],
            "_model_module": "@jupyter-widgets/controls",
            "_model_module_version": "1.5.0",
            "_model_name": "HBoxModel",
            "_view_count": null,
            "_view_module": "@jupyter-widgets/controls",
            "_view_module_version": "1.5.0",
            "_view_name": "HBoxView",
            "box_style": "",
            "children": [
              "IPY_MODEL_c92e2587dbce4585ad264e250862213d",
              "IPY_MODEL_a6a16932e56546deb1e3bf2a7f8eda14",
              "IPY_MODEL_a54406b5a213403e997ead6cab340b07"
            ],
            "layout": "IPY_MODEL_4e5258d253b149fb9552295b36d5f133"
          }
        },
        "c92e2587dbce4585ad264e250862213d": {
          "model_module": "@jupyter-widgets/controls",
          "model_name": "HTMLModel",
          "model_module_version": "1.5.0",
          "state": {
            "_dom_classes": [],
            "_model_module": "@jupyter-widgets/controls",
            "_model_module_version": "1.5.0",
            "_model_name": "HTMLModel",
            "_view_count": null,
            "_view_module": "@jupyter-widgets/controls",
            "_view_module_version": "1.5.0",
            "_view_name": "HTMLView",
            "description": "",
            "description_tooltip": null,
            "layout": "IPY_MODEL_68e46310c41949238c6e8d30d92ce9a9",
            "placeholder": "​",
            "style": "IPY_MODEL_515a46b24398410aa7c3024c8b16b296",
            "value": "Epoch 3/5: 100%"
          }
        },
        "a6a16932e56546deb1e3bf2a7f8eda14": {
          "model_module": "@jupyter-widgets/controls",
          "model_name": "FloatProgressModel",
          "model_module_version": "1.5.0",
          "state": {
            "_dom_classes": [],
            "_model_module": "@jupyter-widgets/controls",
            "_model_module_version": "1.5.0",
            "_model_name": "FloatProgressModel",
            "_view_count": null,
            "_view_module": "@jupyter-widgets/controls",
            "_view_module_version": "1.5.0",
            "_view_name": "ProgressView",
            "bar_style": "success",
            "description": "",
            "description_tooltip": null,
            "layout": "IPY_MODEL_d609a2fa3bda48a29f2b6f170971c9bb",
            "max": 11,
            "min": 0,
            "orientation": "horizontal",
            "style": "IPY_MODEL_e735a454afea4eef995243a18c76f1ec",
            "value": 11
          }
        },
        "a54406b5a213403e997ead6cab340b07": {
          "model_module": "@jupyter-widgets/controls",
          "model_name": "HTMLModel",
          "model_module_version": "1.5.0",
          "state": {
            "_dom_classes": [],
            "_model_module": "@jupyter-widgets/controls",
            "_model_module_version": "1.5.0",
            "_model_name": "HTMLModel",
            "_view_count": null,
            "_view_module": "@jupyter-widgets/controls",
            "_view_module_version": "1.5.0",
            "_view_name": "HTMLView",
            "description": "",
            "description_tooltip": null,
            "layout": "IPY_MODEL_97980062fb974fcd8dee021a91d960ef",
            "placeholder": "​",
            "style": "IPY_MODEL_79b5ba40612f4551ab022edd3fd7b153",
            "value": " 11/11 [01:06&lt;00:00,  5.97s/it, disc_acc=0.89, disc_loss=0.443, gen_acc=0.00388, gen_loss=1.48]"
          }
        },
        "4e5258d253b149fb9552295b36d5f133": {
          "model_module": "@jupyter-widgets/base",
          "model_name": "LayoutModel",
          "model_module_version": "1.2.0",
          "state": {
            "_model_module": "@jupyter-widgets/base",
            "_model_module_version": "1.2.0",
            "_model_name": "LayoutModel",
            "_view_count": null,
            "_view_module": "@jupyter-widgets/base",
            "_view_module_version": "1.2.0",
            "_view_name": "LayoutView",
            "align_content": null,
            "align_items": null,
            "align_self": null,
            "border": null,
            "bottom": null,
            "display": null,
            "flex": null,
            "flex_flow": null,
            "grid_area": null,
            "grid_auto_columns": null,
            "grid_auto_flow": null,
            "grid_auto_rows": null,
            "grid_column": null,
            "grid_gap": null,
            "grid_row": null,
            "grid_template_areas": null,
            "grid_template_columns": null,
            "grid_template_rows": null,
            "height": null,
            "justify_content": null,
            "justify_items": null,
            "left": null,
            "margin": null,
            "max_height": null,
            "max_width": null,
            "min_height": null,
            "min_width": null,
            "object_fit": null,
            "object_position": null,
            "order": null,
            "overflow": null,
            "overflow_x": null,
            "overflow_y": null,
            "padding": null,
            "right": null,
            "top": null,
            "visibility": null,
            "width": null
          }
        },
        "68e46310c41949238c6e8d30d92ce9a9": {
          "model_module": "@jupyter-widgets/base",
          "model_name": "LayoutModel",
          "model_module_version": "1.2.0",
          "state": {
            "_model_module": "@jupyter-widgets/base",
            "_model_module_version": "1.2.0",
            "_model_name": "LayoutModel",
            "_view_count": null,
            "_view_module": "@jupyter-widgets/base",
            "_view_module_version": "1.2.0",
            "_view_name": "LayoutView",
            "align_content": null,
            "align_items": null,
            "align_self": null,
            "border": null,
            "bottom": null,
            "display": null,
            "flex": null,
            "flex_flow": null,
            "grid_area": null,
            "grid_auto_columns": null,
            "grid_auto_flow": null,
            "grid_auto_rows": null,
            "grid_column": null,
            "grid_gap": null,
            "grid_row": null,
            "grid_template_areas": null,
            "grid_template_columns": null,
            "grid_template_rows": null,
            "height": null,
            "justify_content": null,
            "justify_items": null,
            "left": null,
            "margin": null,
            "max_height": null,
            "max_width": null,
            "min_height": null,
            "min_width": null,
            "object_fit": null,
            "object_position": null,
            "order": null,
            "overflow": null,
            "overflow_x": null,
            "overflow_y": null,
            "padding": null,
            "right": null,
            "top": null,
            "visibility": null,
            "width": null
          }
        },
        "515a46b24398410aa7c3024c8b16b296": {
          "model_module": "@jupyter-widgets/controls",
          "model_name": "DescriptionStyleModel",
          "model_module_version": "1.5.0",
          "state": {
            "_model_module": "@jupyter-widgets/controls",
            "_model_module_version": "1.5.0",
            "_model_name": "DescriptionStyleModel",
            "_view_count": null,
            "_view_module": "@jupyter-widgets/base",
            "_view_module_version": "1.2.0",
            "_view_name": "StyleView",
            "description_width": ""
          }
        },
        "d609a2fa3bda48a29f2b6f170971c9bb": {
          "model_module": "@jupyter-widgets/base",
          "model_name": "LayoutModel",
          "model_module_version": "1.2.0",
          "state": {
            "_model_module": "@jupyter-widgets/base",
            "_model_module_version": "1.2.0",
            "_model_name": "LayoutModel",
            "_view_count": null,
            "_view_module": "@jupyter-widgets/base",
            "_view_module_version": "1.2.0",
            "_view_name": "LayoutView",
            "align_content": null,
            "align_items": null,
            "align_self": null,
            "border": null,
            "bottom": null,
            "display": null,
            "flex": null,
            "flex_flow": null,
            "grid_area": null,
            "grid_auto_columns": null,
            "grid_auto_flow": null,
            "grid_auto_rows": null,
            "grid_column": null,
            "grid_gap": null,
            "grid_row": null,
            "grid_template_areas": null,
            "grid_template_columns": null,
            "grid_template_rows": null,
            "height": null,
            "justify_content": null,
            "justify_items": null,
            "left": null,
            "margin": null,
            "max_height": null,
            "max_width": null,
            "min_height": null,
            "min_width": null,
            "object_fit": null,
            "object_position": null,
            "order": null,
            "overflow": null,
            "overflow_x": null,
            "overflow_y": null,
            "padding": null,
            "right": null,
            "top": null,
            "visibility": null,
            "width": null
          }
        },
        "e735a454afea4eef995243a18c76f1ec": {
          "model_module": "@jupyter-widgets/controls",
          "model_name": "ProgressStyleModel",
          "model_module_version": "1.5.0",
          "state": {
            "_model_module": "@jupyter-widgets/controls",
            "_model_module_version": "1.5.0",
            "_model_name": "ProgressStyleModel",
            "_view_count": null,
            "_view_module": "@jupyter-widgets/base",
            "_view_module_version": "1.2.0",
            "_view_name": "StyleView",
            "bar_color": null,
            "description_width": ""
          }
        },
        "97980062fb974fcd8dee021a91d960ef": {
          "model_module": "@jupyter-widgets/base",
          "model_name": "LayoutModel",
          "model_module_version": "1.2.0",
          "state": {
            "_model_module": "@jupyter-widgets/base",
            "_model_module_version": "1.2.0",
            "_model_name": "LayoutModel",
            "_view_count": null,
            "_view_module": "@jupyter-widgets/base",
            "_view_module_version": "1.2.0",
            "_view_name": "LayoutView",
            "align_content": null,
            "align_items": null,
            "align_self": null,
            "border": null,
            "bottom": null,
            "display": null,
            "flex": null,
            "flex_flow": null,
            "grid_area": null,
            "grid_auto_columns": null,
            "grid_auto_flow": null,
            "grid_auto_rows": null,
            "grid_column": null,
            "grid_gap": null,
            "grid_row": null,
            "grid_template_areas": null,
            "grid_template_columns": null,
            "grid_template_rows": null,
            "height": null,
            "justify_content": null,
            "justify_items": null,
            "left": null,
            "margin": null,
            "max_height": null,
            "max_width": null,
            "min_height": null,
            "min_width": null,
            "object_fit": null,
            "object_position": null,
            "order": null,
            "overflow": null,
            "overflow_x": null,
            "overflow_y": null,
            "padding": null,
            "right": null,
            "top": null,
            "visibility": null,
            "width": null
          }
        },
        "79b5ba40612f4551ab022edd3fd7b153": {
          "model_module": "@jupyter-widgets/controls",
          "model_name": "DescriptionStyleModel",
          "model_module_version": "1.5.0",
          "state": {
            "_model_module": "@jupyter-widgets/controls",
            "_model_module_version": "1.5.0",
            "_model_name": "DescriptionStyleModel",
            "_view_count": null,
            "_view_module": "@jupyter-widgets/base",
            "_view_module_version": "1.2.0",
            "_view_name": "StyleView",
            "description_width": ""
          }
        },
        "acfe010f020d4f61bf39e80b3fed967c": {
          "model_module": "@jupyter-widgets/controls",
          "model_name": "HBoxModel",
          "model_module_version": "1.5.0",
          "state": {
            "_dom_classes": [],
            "_model_module": "@jupyter-widgets/controls",
            "_model_module_version": "1.5.0",
            "_model_name": "HBoxModel",
            "_view_count": null,
            "_view_module": "@jupyter-widgets/controls",
            "_view_module_version": "1.5.0",
            "_view_name": "HBoxView",
            "box_style": "",
            "children": [
              "IPY_MODEL_2a7f48e057884cd69f41ebe4f9628685",
              "IPY_MODEL_ccb9ff4e2daa438d993518581c55273a",
              "IPY_MODEL_0e11e6ddb1c942d193cf1a873e65000e"
            ],
            "layout": "IPY_MODEL_42edf5bd0bf3439b816630840ae58c8f"
          }
        },
        "2a7f48e057884cd69f41ebe4f9628685": {
          "model_module": "@jupyter-widgets/controls",
          "model_name": "HTMLModel",
          "model_module_version": "1.5.0",
          "state": {
            "_dom_classes": [],
            "_model_module": "@jupyter-widgets/controls",
            "_model_module_version": "1.5.0",
            "_model_name": "HTMLModel",
            "_view_count": null,
            "_view_module": "@jupyter-widgets/controls",
            "_view_module_version": "1.5.0",
            "_view_name": "HTMLView",
            "description": "",
            "description_tooltip": null,
            "layout": "IPY_MODEL_23c58c4ba8c3493d82ff10321cdbf318",
            "placeholder": "​",
            "style": "IPY_MODEL_4436b068f1074cebbc4e2b8ff13c0ace",
            "value": "Epoch 4/5: 100%"
          }
        },
        "ccb9ff4e2daa438d993518581c55273a": {
          "model_module": "@jupyter-widgets/controls",
          "model_name": "FloatProgressModel",
          "model_module_version": "1.5.0",
          "state": {
            "_dom_classes": [],
            "_model_module": "@jupyter-widgets/controls",
            "_model_module_version": "1.5.0",
            "_model_name": "FloatProgressModel",
            "_view_count": null,
            "_view_module": "@jupyter-widgets/controls",
            "_view_module_version": "1.5.0",
            "_view_name": "ProgressView",
            "bar_style": "success",
            "description": "",
            "description_tooltip": null,
            "layout": "IPY_MODEL_e132574460fe43dfacb2665094677145",
            "max": 11,
            "min": 0,
            "orientation": "horizontal",
            "style": "IPY_MODEL_94a4c4417e4c46a1a53d56dbf1dd474e",
            "value": 11
          }
        },
        "0e11e6ddb1c942d193cf1a873e65000e": {
          "model_module": "@jupyter-widgets/controls",
          "model_name": "HTMLModel",
          "model_module_version": "1.5.0",
          "state": {
            "_dom_classes": [],
            "_model_module": "@jupyter-widgets/controls",
            "_model_module_version": "1.5.0",
            "_model_name": "HTMLModel",
            "_view_count": null,
            "_view_module": "@jupyter-widgets/controls",
            "_view_module_version": "1.5.0",
            "_view_name": "HTMLView",
            "description": "",
            "description_tooltip": null,
            "layout": "IPY_MODEL_b337eb08d64e49958b831c88477d35af",
            "placeholder": "​",
            "style": "IPY_MODEL_e61dc7d4b5a34c31a305eaaef11cd1b5",
            "value": " 11/11 [01:07&lt;00:00,  6.11s/it, disc_acc=0.998, disc_loss=0.207, gen_acc=0.00348, gen_loss=1.8]"
          }
        },
        "42edf5bd0bf3439b816630840ae58c8f": {
          "model_module": "@jupyter-widgets/base",
          "model_name": "LayoutModel",
          "model_module_version": "1.2.0",
          "state": {
            "_model_module": "@jupyter-widgets/base",
            "_model_module_version": "1.2.0",
            "_model_name": "LayoutModel",
            "_view_count": null,
            "_view_module": "@jupyter-widgets/base",
            "_view_module_version": "1.2.0",
            "_view_name": "LayoutView",
            "align_content": null,
            "align_items": null,
            "align_self": null,
            "border": null,
            "bottom": null,
            "display": null,
            "flex": null,
            "flex_flow": null,
            "grid_area": null,
            "grid_auto_columns": null,
            "grid_auto_flow": null,
            "grid_auto_rows": null,
            "grid_column": null,
            "grid_gap": null,
            "grid_row": null,
            "grid_template_areas": null,
            "grid_template_columns": null,
            "grid_template_rows": null,
            "height": null,
            "justify_content": null,
            "justify_items": null,
            "left": null,
            "margin": null,
            "max_height": null,
            "max_width": null,
            "min_height": null,
            "min_width": null,
            "object_fit": null,
            "object_position": null,
            "order": null,
            "overflow": null,
            "overflow_x": null,
            "overflow_y": null,
            "padding": null,
            "right": null,
            "top": null,
            "visibility": null,
            "width": null
          }
        },
        "23c58c4ba8c3493d82ff10321cdbf318": {
          "model_module": "@jupyter-widgets/base",
          "model_name": "LayoutModel",
          "model_module_version": "1.2.0",
          "state": {
            "_model_module": "@jupyter-widgets/base",
            "_model_module_version": "1.2.0",
            "_model_name": "LayoutModel",
            "_view_count": null,
            "_view_module": "@jupyter-widgets/base",
            "_view_module_version": "1.2.0",
            "_view_name": "LayoutView",
            "align_content": null,
            "align_items": null,
            "align_self": null,
            "border": null,
            "bottom": null,
            "display": null,
            "flex": null,
            "flex_flow": null,
            "grid_area": null,
            "grid_auto_columns": null,
            "grid_auto_flow": null,
            "grid_auto_rows": null,
            "grid_column": null,
            "grid_gap": null,
            "grid_row": null,
            "grid_template_areas": null,
            "grid_template_columns": null,
            "grid_template_rows": null,
            "height": null,
            "justify_content": null,
            "justify_items": null,
            "left": null,
            "margin": null,
            "max_height": null,
            "max_width": null,
            "min_height": null,
            "min_width": null,
            "object_fit": null,
            "object_position": null,
            "order": null,
            "overflow": null,
            "overflow_x": null,
            "overflow_y": null,
            "padding": null,
            "right": null,
            "top": null,
            "visibility": null,
            "width": null
          }
        },
        "4436b068f1074cebbc4e2b8ff13c0ace": {
          "model_module": "@jupyter-widgets/controls",
          "model_name": "DescriptionStyleModel",
          "model_module_version": "1.5.0",
          "state": {
            "_model_module": "@jupyter-widgets/controls",
            "_model_module_version": "1.5.0",
            "_model_name": "DescriptionStyleModel",
            "_view_count": null,
            "_view_module": "@jupyter-widgets/base",
            "_view_module_version": "1.2.0",
            "_view_name": "StyleView",
            "description_width": ""
          }
        },
        "e132574460fe43dfacb2665094677145": {
          "model_module": "@jupyter-widgets/base",
          "model_name": "LayoutModel",
          "model_module_version": "1.2.0",
          "state": {
            "_model_module": "@jupyter-widgets/base",
            "_model_module_version": "1.2.0",
            "_model_name": "LayoutModel",
            "_view_count": null,
            "_view_module": "@jupyter-widgets/base",
            "_view_module_version": "1.2.0",
            "_view_name": "LayoutView",
            "align_content": null,
            "align_items": null,
            "align_self": null,
            "border": null,
            "bottom": null,
            "display": null,
            "flex": null,
            "flex_flow": null,
            "grid_area": null,
            "grid_auto_columns": null,
            "grid_auto_flow": null,
            "grid_auto_rows": null,
            "grid_column": null,
            "grid_gap": null,
            "grid_row": null,
            "grid_template_areas": null,
            "grid_template_columns": null,
            "grid_template_rows": null,
            "height": null,
            "justify_content": null,
            "justify_items": null,
            "left": null,
            "margin": null,
            "max_height": null,
            "max_width": null,
            "min_height": null,
            "min_width": null,
            "object_fit": null,
            "object_position": null,
            "order": null,
            "overflow": null,
            "overflow_x": null,
            "overflow_y": null,
            "padding": null,
            "right": null,
            "top": null,
            "visibility": null,
            "width": null
          }
        },
        "94a4c4417e4c46a1a53d56dbf1dd474e": {
          "model_module": "@jupyter-widgets/controls",
          "model_name": "ProgressStyleModel",
          "model_module_version": "1.5.0",
          "state": {
            "_model_module": "@jupyter-widgets/controls",
            "_model_module_version": "1.5.0",
            "_model_name": "ProgressStyleModel",
            "_view_count": null,
            "_view_module": "@jupyter-widgets/base",
            "_view_module_version": "1.2.0",
            "_view_name": "StyleView",
            "bar_color": null,
            "description_width": ""
          }
        },
        "b337eb08d64e49958b831c88477d35af": {
          "model_module": "@jupyter-widgets/base",
          "model_name": "LayoutModel",
          "model_module_version": "1.2.0",
          "state": {
            "_model_module": "@jupyter-widgets/base",
            "_model_module_version": "1.2.0",
            "_model_name": "LayoutModel",
            "_view_count": null,
            "_view_module": "@jupyter-widgets/base",
            "_view_module_version": "1.2.0",
            "_view_name": "LayoutView",
            "align_content": null,
            "align_items": null,
            "align_self": null,
            "border": null,
            "bottom": null,
            "display": null,
            "flex": null,
            "flex_flow": null,
            "grid_area": null,
            "grid_auto_columns": null,
            "grid_auto_flow": null,
            "grid_auto_rows": null,
            "grid_column": null,
            "grid_gap": null,
            "grid_row": null,
            "grid_template_areas": null,
            "grid_template_columns": null,
            "grid_template_rows": null,
            "height": null,
            "justify_content": null,
            "justify_items": null,
            "left": null,
            "margin": null,
            "max_height": null,
            "max_width": null,
            "min_height": null,
            "min_width": null,
            "object_fit": null,
            "object_position": null,
            "order": null,
            "overflow": null,
            "overflow_x": null,
            "overflow_y": null,
            "padding": null,
            "right": null,
            "top": null,
            "visibility": null,
            "width": null
          }
        },
        "e61dc7d4b5a34c31a305eaaef11cd1b5": {
          "model_module": "@jupyter-widgets/controls",
          "model_name": "DescriptionStyleModel",
          "model_module_version": "1.5.0",
          "state": {
            "_model_module": "@jupyter-widgets/controls",
            "_model_module_version": "1.5.0",
            "_model_name": "DescriptionStyleModel",
            "_view_count": null,
            "_view_module": "@jupyter-widgets/base",
            "_view_module_version": "1.2.0",
            "_view_name": "StyleView",
            "description_width": ""
          }
        },
        "bc68821db66f4cffa332047688693c5d": {
          "model_module": "@jupyter-widgets/controls",
          "model_name": "HBoxModel",
          "model_module_version": "1.5.0",
          "state": {
            "_dom_classes": [],
            "_model_module": "@jupyter-widgets/controls",
            "_model_module_version": "1.5.0",
            "_model_name": "HBoxModel",
            "_view_count": null,
            "_view_module": "@jupyter-widgets/controls",
            "_view_module_version": "1.5.0",
            "_view_name": "HBoxView",
            "box_style": "",
            "children": [
              "IPY_MODEL_f6608a16bbe740a8bec156915884e4df",
              "IPY_MODEL_fc13b5fe707c4ce6a41f60ce395c3dc8",
              "IPY_MODEL_56407f9d10414929a34582b81fb5da99"
            ],
            "layout": "IPY_MODEL_a23eb9d4c51f498e85f304012c5c09b6"
          }
        },
        "f6608a16bbe740a8bec156915884e4df": {
          "model_module": "@jupyter-widgets/controls",
          "model_name": "HTMLModel",
          "model_module_version": "1.5.0",
          "state": {
            "_dom_classes": [],
            "_model_module": "@jupyter-widgets/controls",
            "_model_module_version": "1.5.0",
            "_model_name": "HTMLModel",
            "_view_count": null,
            "_view_module": "@jupyter-widgets/controls",
            "_view_module_version": "1.5.0",
            "_view_name": "HTMLView",
            "description": "",
            "description_tooltip": null,
            "layout": "IPY_MODEL_0fee3fc1d7f54556bd348f7ff6bcffac",
            "placeholder": "​",
            "style": "IPY_MODEL_65576c78ec14407fb14521b54e1950a8",
            "value": "Epoch 5/5: 100%"
          }
        },
        "fc13b5fe707c4ce6a41f60ce395c3dc8": {
          "model_module": "@jupyter-widgets/controls",
          "model_name": "FloatProgressModel",
          "model_module_version": "1.5.0",
          "state": {
            "_dom_classes": [],
            "_model_module": "@jupyter-widgets/controls",
            "_model_module_version": "1.5.0",
            "_model_name": "FloatProgressModel",
            "_view_count": null,
            "_view_module": "@jupyter-widgets/controls",
            "_view_module_version": "1.5.0",
            "_view_name": "ProgressView",
            "bar_style": "success",
            "description": "",
            "description_tooltip": null,
            "layout": "IPY_MODEL_6b1da260eb964aea88746a1195953442",
            "max": 11,
            "min": 0,
            "orientation": "horizontal",
            "style": "IPY_MODEL_8a056799e4d7493396108ee66f153cb7",
            "value": 11
          }
        },
        "56407f9d10414929a34582b81fb5da99": {
          "model_module": "@jupyter-widgets/controls",
          "model_name": "HTMLModel",
          "model_module_version": "1.5.0",
          "state": {
            "_dom_classes": [],
            "_model_module": "@jupyter-widgets/controls",
            "_model_module_version": "1.5.0",
            "_model_name": "HTMLModel",
            "_view_count": null,
            "_view_module": "@jupyter-widgets/controls",
            "_view_module_version": "1.5.0",
            "_view_name": "HTMLView",
            "description": "",
            "description_tooltip": null,
            "layout": "IPY_MODEL_4b2b704ecdf6443c84a8ac0859625001",
            "placeholder": "​",
            "style": "IPY_MODEL_5ddafd59b2094fe4a77d64e13067640f",
            "value": " 11/11 [01:05&lt;00:00,  6.05s/it, disc_acc=0.999, disc_loss=0.135, gen_acc=0.00232, gen_loss=2.14]"
          }
        },
        "a23eb9d4c51f498e85f304012c5c09b6": {
          "model_module": "@jupyter-widgets/base",
          "model_name": "LayoutModel",
          "model_module_version": "1.2.0",
          "state": {
            "_model_module": "@jupyter-widgets/base",
            "_model_module_version": "1.2.0",
            "_model_name": "LayoutModel",
            "_view_count": null,
            "_view_module": "@jupyter-widgets/base",
            "_view_module_version": "1.2.0",
            "_view_name": "LayoutView",
            "align_content": null,
            "align_items": null,
            "align_self": null,
            "border": null,
            "bottom": null,
            "display": null,
            "flex": null,
            "flex_flow": null,
            "grid_area": null,
            "grid_auto_columns": null,
            "grid_auto_flow": null,
            "grid_auto_rows": null,
            "grid_column": null,
            "grid_gap": null,
            "grid_row": null,
            "grid_template_areas": null,
            "grid_template_columns": null,
            "grid_template_rows": null,
            "height": null,
            "justify_content": null,
            "justify_items": null,
            "left": null,
            "margin": null,
            "max_height": null,
            "max_width": null,
            "min_height": null,
            "min_width": null,
            "object_fit": null,
            "object_position": null,
            "order": null,
            "overflow": null,
            "overflow_x": null,
            "overflow_y": null,
            "padding": null,
            "right": null,
            "top": null,
            "visibility": null,
            "width": null
          }
        },
        "0fee3fc1d7f54556bd348f7ff6bcffac": {
          "model_module": "@jupyter-widgets/base",
          "model_name": "LayoutModel",
          "model_module_version": "1.2.0",
          "state": {
            "_model_module": "@jupyter-widgets/base",
            "_model_module_version": "1.2.0",
            "_model_name": "LayoutModel",
            "_view_count": null,
            "_view_module": "@jupyter-widgets/base",
            "_view_module_version": "1.2.0",
            "_view_name": "LayoutView",
            "align_content": null,
            "align_items": null,
            "align_self": null,
            "border": null,
            "bottom": null,
            "display": null,
            "flex": null,
            "flex_flow": null,
            "grid_area": null,
            "grid_auto_columns": null,
            "grid_auto_flow": null,
            "grid_auto_rows": null,
            "grid_column": null,
            "grid_gap": null,
            "grid_row": null,
            "grid_template_areas": null,
            "grid_template_columns": null,
            "grid_template_rows": null,
            "height": null,
            "justify_content": null,
            "justify_items": null,
            "left": null,
            "margin": null,
            "max_height": null,
            "max_width": null,
            "min_height": null,
            "min_width": null,
            "object_fit": null,
            "object_position": null,
            "order": null,
            "overflow": null,
            "overflow_x": null,
            "overflow_y": null,
            "padding": null,
            "right": null,
            "top": null,
            "visibility": null,
            "width": null
          }
        },
        "65576c78ec14407fb14521b54e1950a8": {
          "model_module": "@jupyter-widgets/controls",
          "model_name": "DescriptionStyleModel",
          "model_module_version": "1.5.0",
          "state": {
            "_model_module": "@jupyter-widgets/controls",
            "_model_module_version": "1.5.0",
            "_model_name": "DescriptionStyleModel",
            "_view_count": null,
            "_view_module": "@jupyter-widgets/base",
            "_view_module_version": "1.2.0",
            "_view_name": "StyleView",
            "description_width": ""
          }
        },
        "6b1da260eb964aea88746a1195953442": {
          "model_module": "@jupyter-widgets/base",
          "model_name": "LayoutModel",
          "model_module_version": "1.2.0",
          "state": {
            "_model_module": "@jupyter-widgets/base",
            "_model_module_version": "1.2.0",
            "_model_name": "LayoutModel",
            "_view_count": null,
            "_view_module": "@jupyter-widgets/base",
            "_view_module_version": "1.2.0",
            "_view_name": "LayoutView",
            "align_content": null,
            "align_items": null,
            "align_self": null,
            "border": null,
            "bottom": null,
            "display": null,
            "flex": null,
            "flex_flow": null,
            "grid_area": null,
            "grid_auto_columns": null,
            "grid_auto_flow": null,
            "grid_auto_rows": null,
            "grid_column": null,
            "grid_gap": null,
            "grid_row": null,
            "grid_template_areas": null,
            "grid_template_columns": null,
            "grid_template_rows": null,
            "height": null,
            "justify_content": null,
            "justify_items": null,
            "left": null,
            "margin": null,
            "max_height": null,
            "max_width": null,
            "min_height": null,
            "min_width": null,
            "object_fit": null,
            "object_position": null,
            "order": null,
            "overflow": null,
            "overflow_x": null,
            "overflow_y": null,
            "padding": null,
            "right": null,
            "top": null,
            "visibility": null,
            "width": null
          }
        },
        "8a056799e4d7493396108ee66f153cb7": {
          "model_module": "@jupyter-widgets/controls",
          "model_name": "ProgressStyleModel",
          "model_module_version": "1.5.0",
          "state": {
            "_model_module": "@jupyter-widgets/controls",
            "_model_module_version": "1.5.0",
            "_model_name": "ProgressStyleModel",
            "_view_count": null,
            "_view_module": "@jupyter-widgets/base",
            "_view_module_version": "1.2.0",
            "_view_name": "StyleView",
            "bar_color": null,
            "description_width": ""
          }
        },
        "4b2b704ecdf6443c84a8ac0859625001": {
          "model_module": "@jupyter-widgets/base",
          "model_name": "LayoutModel",
          "model_module_version": "1.2.0",
          "state": {
            "_model_module": "@jupyter-widgets/base",
            "_model_module_version": "1.2.0",
            "_model_name": "LayoutModel",
            "_view_count": null,
            "_view_module": "@jupyter-widgets/base",
            "_view_module_version": "1.2.0",
            "_view_name": "LayoutView",
            "align_content": null,
            "align_items": null,
            "align_self": null,
            "border": null,
            "bottom": null,
            "display": null,
            "flex": null,
            "flex_flow": null,
            "grid_area": null,
            "grid_auto_columns": null,
            "grid_auto_flow": null,
            "grid_auto_rows": null,
            "grid_column": null,
            "grid_gap": null,
            "grid_row": null,
            "grid_template_areas": null,
            "grid_template_columns": null,
            "grid_template_rows": null,
            "height": null,
            "justify_content": null,
            "justify_items": null,
            "left": null,
            "margin": null,
            "max_height": null,
            "max_width": null,
            "min_height": null,
            "min_width": null,
            "object_fit": null,
            "object_position": null,
            "order": null,
            "overflow": null,
            "overflow_x": null,
            "overflow_y": null,
            "padding": null,
            "right": null,
            "top": null,
            "visibility": null,
            "width": null
          }
        },
        "5ddafd59b2094fe4a77d64e13067640f": {
          "model_module": "@jupyter-widgets/controls",
          "model_name": "DescriptionStyleModel",
          "model_module_version": "1.5.0",
          "state": {
            "_model_module": "@jupyter-widgets/controls",
            "_model_module_version": "1.5.0",
            "_model_name": "DescriptionStyleModel",
            "_view_count": null,
            "_view_module": "@jupyter-widgets/base",
            "_view_module_version": "1.2.0",
            "_view_name": "StyleView",
            "description_width": ""
          }
        }
      }
    }
  },
  "nbformat": 4,
  "nbformat_minor": 0
}