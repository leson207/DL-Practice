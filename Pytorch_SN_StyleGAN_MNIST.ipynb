{
  "nbformat": 4,
  "nbformat_minor": 0,
  "metadata": {
    "colab": {
      "provenance": [],
      "collapsed_sections": [
        "zTAmudqCFyJu"
      ]
    },
    "kernelspec": {
      "name": "python3",
      "display_name": "Python 3"
    },
    "language_info": {
      "name": "python"
    },
    "widgets": {
      "application/vnd.jupyter.widget-state+json": {
        "c99242276af74486bad3e9df59d58cf0": {
          "model_module": "@jupyter-widgets/controls",
          "model_name": "HBoxModel",
          "model_module_version": "1.5.0",
          "state": {
            "_dom_classes": [],
            "_model_module": "@jupyter-widgets/controls",
            "_model_module_version": "1.5.0",
            "_model_name": "HBoxModel",
            "_view_count": null,
            "_view_module": "@jupyter-widgets/controls",
            "_view_module_version": "1.5.0",
            "_view_name": "HBoxView",
            "box_style": "",
            "children": [
              "IPY_MODEL_0e00b02a46ce41bb9496953eac3e18d4",
              "IPY_MODEL_984694a8787248859b2af80342ad1c16",
              "IPY_MODEL_e86bb4039ede4b13bc643e4bf2d5a545"
            ],
            "layout": "IPY_MODEL_5b9ccb60a1554af48b0b27c97bb09788"
          }
        },
        "0e00b02a46ce41bb9496953eac3e18d4": {
          "model_module": "@jupyter-widgets/controls",
          "model_name": "HTMLModel",
          "model_module_version": "1.5.0",
          "state": {
            "_dom_classes": [],
            "_model_module": "@jupyter-widgets/controls",
            "_model_module_version": "1.5.0",
            "_model_name": "HTMLModel",
            "_view_count": null,
            "_view_module": "@jupyter-widgets/controls",
            "_view_module_version": "1.5.0",
            "_view_name": "HTMLView",
            "description": "",
            "description_tooltip": null,
            "layout": "IPY_MODEL_f9e59d13617840779832baea09792d1a",
            "placeholder": "​",
            "style": "IPY_MODEL_061b53e041e64a4ab9844edad0d66a5a",
            "value": "Epoch 0:   2%"
          }
        },
        "984694a8787248859b2af80342ad1c16": {
          "model_module": "@jupyter-widgets/controls",
          "model_name": "FloatProgressModel",
          "model_module_version": "1.5.0",
          "state": {
            "_dom_classes": [],
            "_model_module": "@jupyter-widgets/controls",
            "_model_module_version": "1.5.0",
            "_model_name": "FloatProgressModel",
            "_view_count": null,
            "_view_module": "@jupyter-widgets/controls",
            "_view_module_version": "1.5.0",
            "_view_name": "ProgressView",
            "bar_style": "",
            "description": "",
            "description_tooltip": null,
            "layout": "IPY_MODEL_b801bf718be549ef89f9f7e0b162e157",
            "max": 53,
            "min": 0,
            "orientation": "horizontal",
            "style": "IPY_MODEL_cf214024cdca4da08d1076d295068e64",
            "value": 1
          }
        },
        "e86bb4039ede4b13bc643e4bf2d5a545": {
          "model_module": "@jupyter-widgets/controls",
          "model_name": "HTMLModel",
          "model_module_version": "1.5.0",
          "state": {
            "_dom_classes": [],
            "_model_module": "@jupyter-widgets/controls",
            "_model_module_version": "1.5.0",
            "_model_name": "HTMLModel",
            "_view_count": null,
            "_view_module": "@jupyter-widgets/controls",
            "_view_module_version": "1.5.0",
            "_view_name": "HTMLView",
            "description": "",
            "description_tooltip": null,
            "layout": "IPY_MODEL_d5caceae629741a2ac5b5b9fcb690615",
            "placeholder": "​",
            "style": "IPY_MODEL_85e4d075a4a34bbbb442a3cb7fc5fafe",
            "value": " 1/53 [03:04&lt;2:40:19,  0.01it/s, v_num=4, disc_loss=0.727, disc_acc=0.120, gen_loss=0.655, gen_acc=0.115]"
          }
        },
        "5b9ccb60a1554af48b0b27c97bb09788": {
          "model_module": "@jupyter-widgets/base",
          "model_name": "LayoutModel",
          "model_module_version": "1.2.0",
          "state": {
            "_model_module": "@jupyter-widgets/base",
            "_model_module_version": "1.2.0",
            "_model_name": "LayoutModel",
            "_view_count": null,
            "_view_module": "@jupyter-widgets/base",
            "_view_module_version": "1.2.0",
            "_view_name": "LayoutView",
            "align_content": null,
            "align_items": null,
            "align_self": null,
            "border": null,
            "bottom": null,
            "display": "inline-flex",
            "flex": null,
            "flex_flow": "row wrap",
            "grid_area": null,
            "grid_auto_columns": null,
            "grid_auto_flow": null,
            "grid_auto_rows": null,
            "grid_column": null,
            "grid_gap": null,
            "grid_row": null,
            "grid_template_areas": null,
            "grid_template_columns": null,
            "grid_template_rows": null,
            "height": null,
            "justify_content": null,
            "justify_items": null,
            "left": null,
            "margin": null,
            "max_height": null,
            "max_width": null,
            "min_height": null,
            "min_width": null,
            "object_fit": null,
            "object_position": null,
            "order": null,
            "overflow": null,
            "overflow_x": null,
            "overflow_y": null,
            "padding": null,
            "right": null,
            "top": null,
            "visibility": null,
            "width": "100%"
          }
        },
        "f9e59d13617840779832baea09792d1a": {
          "model_module": "@jupyter-widgets/base",
          "model_name": "LayoutModel",
          "model_module_version": "1.2.0",
          "state": {
            "_model_module": "@jupyter-widgets/base",
            "_model_module_version": "1.2.0",
            "_model_name": "LayoutModel",
            "_view_count": null,
            "_view_module": "@jupyter-widgets/base",
            "_view_module_version": "1.2.0",
            "_view_name": "LayoutView",
            "align_content": null,
            "align_items": null,
            "align_self": null,
            "border": null,
            "bottom": null,
            "display": null,
            "flex": null,
            "flex_flow": null,
            "grid_area": null,
            "grid_auto_columns": null,
            "grid_auto_flow": null,
            "grid_auto_rows": null,
            "grid_column": null,
            "grid_gap": null,
            "grid_row": null,
            "grid_template_areas": null,
            "grid_template_columns": null,
            "grid_template_rows": null,
            "height": null,
            "justify_content": null,
            "justify_items": null,
            "left": null,
            "margin": null,
            "max_height": null,
            "max_width": null,
            "min_height": null,
            "min_width": null,
            "object_fit": null,
            "object_position": null,
            "order": null,
            "overflow": null,
            "overflow_x": null,
            "overflow_y": null,
            "padding": null,
            "right": null,
            "top": null,
            "visibility": null,
            "width": null
          }
        },
        "061b53e041e64a4ab9844edad0d66a5a": {
          "model_module": "@jupyter-widgets/controls",
          "model_name": "DescriptionStyleModel",
          "model_module_version": "1.5.0",
          "state": {
            "_model_module": "@jupyter-widgets/controls",
            "_model_module_version": "1.5.0",
            "_model_name": "DescriptionStyleModel",
            "_view_count": null,
            "_view_module": "@jupyter-widgets/base",
            "_view_module_version": "1.2.0",
            "_view_name": "StyleView",
            "description_width": ""
          }
        },
        "b801bf718be549ef89f9f7e0b162e157": {
          "model_module": "@jupyter-widgets/base",
          "model_name": "LayoutModel",
          "model_module_version": "1.2.0",
          "state": {
            "_model_module": "@jupyter-widgets/base",
            "_model_module_version": "1.2.0",
            "_model_name": "LayoutModel",
            "_view_count": null,
            "_view_module": "@jupyter-widgets/base",
            "_view_module_version": "1.2.0",
            "_view_name": "LayoutView",
            "align_content": null,
            "align_items": null,
            "align_self": null,
            "border": null,
            "bottom": null,
            "display": null,
            "flex": "2",
            "flex_flow": null,
            "grid_area": null,
            "grid_auto_columns": null,
            "grid_auto_flow": null,
            "grid_auto_rows": null,
            "grid_column": null,
            "grid_gap": null,
            "grid_row": null,
            "grid_template_areas": null,
            "grid_template_columns": null,
            "grid_template_rows": null,
            "height": null,
            "justify_content": null,
            "justify_items": null,
            "left": null,
            "margin": null,
            "max_height": null,
            "max_width": null,
            "min_height": null,
            "min_width": null,
            "object_fit": null,
            "object_position": null,
            "order": null,
            "overflow": null,
            "overflow_x": null,
            "overflow_y": null,
            "padding": null,
            "right": null,
            "top": null,
            "visibility": null,
            "width": null
          }
        },
        "cf214024cdca4da08d1076d295068e64": {
          "model_module": "@jupyter-widgets/controls",
          "model_name": "ProgressStyleModel",
          "model_module_version": "1.5.0",
          "state": {
            "_model_module": "@jupyter-widgets/controls",
            "_model_module_version": "1.5.0",
            "_model_name": "ProgressStyleModel",
            "_view_count": null,
            "_view_module": "@jupyter-widgets/base",
            "_view_module_version": "1.2.0",
            "_view_name": "StyleView",
            "bar_color": null,
            "description_width": ""
          }
        },
        "d5caceae629741a2ac5b5b9fcb690615": {
          "model_module": "@jupyter-widgets/base",
          "model_name": "LayoutModel",
          "model_module_version": "1.2.0",
          "state": {
            "_model_module": "@jupyter-widgets/base",
            "_model_module_version": "1.2.0",
            "_model_name": "LayoutModel",
            "_view_count": null,
            "_view_module": "@jupyter-widgets/base",
            "_view_module_version": "1.2.0",
            "_view_name": "LayoutView",
            "align_content": null,
            "align_items": null,
            "align_self": null,
            "border": null,
            "bottom": null,
            "display": null,
            "flex": null,
            "flex_flow": null,
            "grid_area": null,
            "grid_auto_columns": null,
            "grid_auto_flow": null,
            "grid_auto_rows": null,
            "grid_column": null,
            "grid_gap": null,
            "grid_row": null,
            "grid_template_areas": null,
            "grid_template_columns": null,
            "grid_template_rows": null,
            "height": null,
            "justify_content": null,
            "justify_items": null,
            "left": null,
            "margin": null,
            "max_height": null,
            "max_width": null,
            "min_height": null,
            "min_width": null,
            "object_fit": null,
            "object_position": null,
            "order": null,
            "overflow": null,
            "overflow_x": null,
            "overflow_y": null,
            "padding": null,
            "right": null,
            "top": null,
            "visibility": null,
            "width": null
          }
        },
        "85e4d075a4a34bbbb442a3cb7fc5fafe": {
          "model_module": "@jupyter-widgets/controls",
          "model_name": "DescriptionStyleModel",
          "model_module_version": "1.5.0",
          "state": {
            "_model_module": "@jupyter-widgets/controls",
            "_model_module_version": "1.5.0",
            "_model_name": "DescriptionStyleModel",
            "_view_count": null,
            "_view_module": "@jupyter-widgets/base",
            "_view_module_version": "1.2.0",
            "_view_name": "StyleView",
            "description_width": ""
          }
        }
      }
    }
  },
  "cells": [
    {
      "cell_type": "markdown",
      "source": [
        "# ENV"
      ],
      "metadata": {
        "id": "zTAmudqCFyJu"
      }
    },
    {
      "cell_type": "code",
      "execution_count": null,
      "metadata": {
        "id": "UGtt1aqxFtDd",
        "colab": {
          "base_uri": "https://localhost:8080/"
        },
        "outputId": "429dc9d4-1a9f-42b9-d5b9-2c0acfc24452"
      },
      "outputs": [
        {
          "output_type": "stream",
          "name": "stdout",
          "text": [
            "\u001b[2K   \u001b[90m━━━━━━━━━━━━━━━━━━━━━━━━━━━━━━━━━━━━━━━━\u001b[0m \u001b[32m811.0/811.0 kB\u001b[0m \u001b[31m10.0 MB/s\u001b[0m eta \u001b[36m0:00:00\u001b[0m\n",
            "\u001b[2K   \u001b[90m━━━━━━━━━━━━━━━━━━━━━━━━━━━━━━━━━━━━━━━━\u001b[0m \u001b[32m869.2/869.2 kB\u001b[0m \u001b[31m13.8 MB/s\u001b[0m eta \u001b[36m0:00:00\u001b[0m\n",
            "\u001b[2K   \u001b[90m━━━━━━━━━━━━━━━━━━━━━━━━━━━━━━━━━━━━━━━━\u001b[0m \u001b[32m815.2/815.2 kB\u001b[0m \u001b[31m24.8 MB/s\u001b[0m eta \u001b[36m0:00:00\u001b[0m\n",
            "\u001b[?25h"
          ]
        }
      ],
      "source": [
        "!pip install -q lightning"
      ]
    },
    {
      "cell_type": "code",
      "source": [
        "import torch\n",
        "from torch import nn\n",
        "from torch.nn import functional as F\n",
        "from torch.utils.data import DataLoader\n",
        "\n",
        "import numpy as np\n",
        "import pandas as pd\n",
        "from tqdm.auto import tqdm\n",
        "\n",
        "from einops.layers.torch import Rearrange, Reduce\n",
        "from einops import reduce, repeat, rearrange, einsum, parse_shape, pack, unpack"
      ],
      "metadata": {
        "id": "PQ8-RCIKFxvO"
      },
      "execution_count": null,
      "outputs": []
    },
    {
      "cell_type": "code",
      "source": [
        "import seaborn as sns\n",
        "sns.set()\n",
        "\n",
        "import matplotlib\n",
        "import matplotlib.pyplot as plt\n",
        "%matplotlib inline\n",
        "matplotlib.rcParams['lines.linewidth']=2\n",
        "\n",
        "import matplotlib_inline\n",
        "matplotlib_inline.backend_inline.set_matplotlib_formats('svg','pdf')"
      ],
      "metadata": {
        "id": "9T5CdBpbGkMx"
      },
      "execution_count": null,
      "outputs": []
    },
    {
      "cell_type": "code",
      "source": [
        "import lightning as L"
      ],
      "metadata": {
        "id": "8_xY8g2zGgpL"
      },
      "execution_count": null,
      "outputs": []
    },
    {
      "cell_type": "code",
      "source": [
        "L.seed_everything(42)\n",
        "torch.backends.cudnn.deterministic=True\n",
        "torch.backends.cudnn.benmark=False\n",
        "device='cuda' if torch.cuda.is_available() else 'cpu'\n",
        "device"
      ],
      "metadata": {
        "colab": {
          "base_uri": "https://localhost:8080/"
        },
        "id": "EwIlvIBAH4V-",
        "outputId": "44cc56bf-9381-4d9b-b7f0-2d52ce1fac49"
      },
      "execution_count": null,
      "outputs": [
        {
          "output_type": "stream",
          "name": "stderr",
          "text": [
            "INFO: Seed set to 42\n",
            "INFO:lightning.fabric.utilities.seed:Seed set to 42\n"
          ]
        },
        {
          "output_type": "execute_result",
          "data": {
            "text/plain": [
              "'cpu'"
            ],
            "application/vnd.google.colaboratory.intrinsic+json": {
              "type": "string"
            }
          },
          "metadata": {},
          "execution_count": 5
        }
      ]
    },
    {
      "cell_type": "markdown",
      "source": [
        "# Data"
      ],
      "metadata": {
        "id": "ofOXe-HfIp97"
      }
    },
    {
      "cell_type": "code",
      "source": [
        "from torch.utils.data import random_split\n",
        "from torchvision import transforms\n",
        "from torchvision.datasets import MNIST, CelebA\n",
        "\n",
        "\n",
        "class DataModule(L.LightningDataModule):\n",
        "    def __init__(self, batch_size=32):\n",
        "        super().__init__()\n",
        "        self.batch_size=batch_size\n",
        "        self.transform=transforms.Compose([\n",
        "            transforms.ToTensor(),\n",
        "            transforms.Normalize((0.1307,), (0.3081,))\n",
        "        ])\n",
        "        self.shape=[1,28,28]\n",
        "        self.num_classes=10\n",
        "\n",
        "    def setup(self, stage=None):\n",
        "        if stage=='fit' or stage is None:\n",
        "            dataset = MNIST('.', download=True, train=True, transform=self.transform)\n",
        "            self.train, self.val = random_split(dataset, [55000, 5000])\n",
        "\n",
        "        if stage=='test' or stage is None:\n",
        "            self.test = MNIST('.', download=True,train=False, transform=self.transform)\n",
        "\n",
        "    def train_dataloader(self):\n",
        "        return DataLoader(self.train, batch_size=self.batch_size, shuffle=True, drop_last=True)\n",
        "\n",
        "    def val_dataloader(self):\n",
        "        return DataLoader(self.val, batch_size=self.batch_size, shuffle=False, drop_last=True)\n",
        "\n",
        "    def test_dataloader(self):\n",
        "        return DataLoader(self.test, batch_size=self.batch_size, shuffle=False, drop_last=True)\n",
        "\n",
        "tmp=DataModule(16)\n",
        "tmp.setup()\n",
        "batch=next(iter(tmp.train_dataloader()))\n",
        "print(len(batch))\n",
        "print(batch[0].shape)\n",
        "print(batch[1].shape)"
      ],
      "metadata": {
        "colab": {
          "base_uri": "https://localhost:8080/"
        },
        "id": "xJu5y2TnLRKQ",
        "outputId": "89c92381-ef38-4e41-ac37-f0c9f7e8533b"
      },
      "execution_count": null,
      "outputs": [
        {
          "output_type": "stream",
          "name": "stdout",
          "text": [
            "2\n",
            "torch.Size([16, 1, 28, 28])\n",
            "torch.Size([16])\n"
          ]
        }
      ]
    },
    {
      "cell_type": "code",
      "source": [
        "from torchvision.utils import make_grid\n",
        "\n",
        "def show_image(images, num_images=16, image_size=[1,28,28]):\n",
        "    images=images.detach().cpu()\n",
        "    grid_image=make_grid(images[:num_images], nrow=8)\n",
        "    plt.imshow(grid_image.permute(1,2,0))\n",
        "    plt.axis('off')\n",
        "    plt.show()\n",
        "\n",
        "show_image(batch[0])"
      ],
      "metadata": {
        "colab": {
          "base_uri": "https://localhost:8080/",
          "height": 180
        },
        "id": "f4be1D8tKFih",
        "outputId": "00e1c117-566c-450b-b716-75bf778390b7"
      },
      "execution_count": null,
      "outputs": [
        {
          "output_type": "stream",
          "name": "stderr",
          "text": [
            "WARNING:matplotlib.image:Clipping input data to the valid range for imshow with RGB data ([0..1] for floats or [0..255] for integers).\n"
          ]
        },
        {
          "output_type": "display_data",
          "data": {
            "text/plain": [
              "<Figure size 640x480 with 1 Axes>"
            ],
            "image/svg+xml": "<?xml version=\"1.0\" encoding=\"utf-8\" standalone=\"no\"?>\n<!DOCTYPE svg PUBLIC \"-//W3C//DTD SVG 1.1//EN\"\n  \"http://www.w3.org/Graphics/SVG/1.1/DTD/svg11.dtd\">\n<svg xmlns:xlink=\"http://www.w3.org/1999/xlink\" width=\"371.52pt\" height=\"105.893554pt\" viewBox=\"0 0 371.52 105.893554\" xmlns=\"http://www.w3.org/2000/svg\" version=\"1.1\">\n <metadata>\n  <rdf:RDF xmlns:dc=\"http://purl.org/dc/elements/1.1/\" xmlns:cc=\"http://creativecommons.org/ns#\" xmlns:rdf=\"http://www.w3.org/1999/02/22-rdf-syntax-ns#\">\n   <cc:Work>\n    <dc:type rdf:resource=\"http://purl.org/dc/dcmitype/StillImage\"/>\n    <dc:date>2024-09-25T14:44:27.425439</dc:date>\n    <dc:format>image/svg+xml</dc:format>\n    <dc:creator>\n     <cc:Agent>\n      <dc:title>Matplotlib v3.7.1, https://matplotlib.org/</dc:title>\n     </cc:Agent>\n    </dc:creator>\n   </cc:Work>\n  </rdf:RDF>\n </metadata>\n <defs>\n  <style type=\"text/css\">*{stroke-linejoin: round; stroke-linecap: butt}</style>\n </defs>\n <g id=\"figure_1\">\n  <g id=\"patch_1\">\n   <path d=\"M 0 105.893554 \nL 371.52 105.893554 \nL 371.52 -0 \nL 0 -0 \nz\n\" style=\"fill: #ffffff\"/>\n  </g>\n  <g id=\"axes_1\">\n   <g clip-path=\"url(#pb67dc8f058)\">\n    <image xlink:href=\"data:image/png;base64,\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\" id=\"image2a1477448a\" transform=\"scale(1 -1) translate(0 -92.16)\" x=\"7.2\" y=\"-6.533554\" width=\"357.84\" height=\"92.16\"/>\n   </g>\n  </g>\n </g>\n <defs>\n  <clipPath id=\"pb67dc8f058\">\n   <rect x=\"7.2\" y=\"7.2\" width=\"357.12\" height=\"91.493554\"/>\n  </clipPath>\n </defs>\n</svg>\n",
            "application/pdf": "[encoded data removed]"
          },
          "metadata": {}
        }
      ]
    },
    {
      "cell_type": "markdown",
      "source": [
        "# Architecture"
      ],
      "metadata": {
        "id": "VOylxgrIOEQG"
      }
    },
    {
      "cell_type": "code",
      "source": [
        "class MappingLayer(nn.Module):\n",
        "    def __init__(self, z_dim, hidden_dim, w_dim):\n",
        "        super().__init__()\n",
        "        self.layer = nn.Sequential(nn.Linear(z_dim, hidden_dim),\n",
        "                                   nn.ReLU(inplace=True),\n",
        "                                   nn.Linear(hidden_dim, hidden_dim),\n",
        "                                   nn.ReLU(inplace=True),\n",
        "                                   nn.Linear(hidden_dim, w_dim))\n",
        "\n",
        "    def forward(self, x):\n",
        "        return self.layer(x)"
      ],
      "metadata": {
        "id": "anFqA3-6ZH_R"
      },
      "execution_count": null,
      "outputs": []
    },
    {
      "cell_type": "code",
      "source": [
        "class Injector(nn.Module):\n",
        "    def __init__(self,channels):\n",
        "        super().__init__()\n",
        "        self.weight=nn.Parameter(torch.randn(1, channels, 1, 1))\n",
        "\n",
        "    def forward(self, x):\n",
        "        b, c, h, w = x.shape\n",
        "        noise=torch.randn([b,1,h,w], device=x.device)\n",
        "        return x+self.weight*noise\n",
        "\n",
        "x=torch.randn([1, 256, 2, 2])\n",
        "tmp=Injector(256)\n",
        "tmp(x).shape"
      ],
      "metadata": {
        "colab": {
          "base_uri": "https://localhost:8080/"
        },
        "id": "h5sDaj5LafpL",
        "outputId": "51d65d10-b095-440e-cf60-a1c68c48239f"
      },
      "execution_count": null,
      "outputs": [
        {
          "output_type": "execute_result",
          "data": {
            "text/plain": [
              "torch.Size([1, 256, 2, 2])"
            ]
          },
          "metadata": {},
          "execution_count": 27
        }
      ]
    },
    {
      "cell_type": "code",
      "source": [
        "#Adaptive instance normalization\n",
        "class AdaIN(nn.Module):\n",
        "    def __init__(self, channels, w_dim):\n",
        "        super().__init__()\n",
        "        self.norm = nn.InstanceNorm2d(channels)\n",
        "        self.style_scale = nn.Linear(w_dim, channels)\n",
        "        self.style_shift = nn.Linear(w_dim, channels)\n",
        "\n",
        "    def forward(self, x, w):\n",
        "        x=self.norm(x)\n",
        "\n",
        "        style_scale=self.style_scale(w)[:, :, None, None]\n",
        "        style_shift=self.style_shift(w)[:, :, None, None]\n",
        "\n",
        "        x=style_scale*x+style_shift\n",
        "\n",
        "        return x"
      ],
      "metadata": {
        "id": "Nod-y6iQbpdH"
      },
      "execution_count": null,
      "outputs": []
    },
    {
      "cell_type": "code",
      "source": [
        "class GenBlock(nn.Module):\n",
        "    def __init__(self,in_channels, out_channels, w_dim, kernel_size, starting_size, use_upsample=True):\n",
        "        super().__init__()\n",
        "        self.use_upsample=use_upsample\n",
        "        if self.use_upsample:\n",
        "            self.up_sample = nn.Upsample([starting_size, starting_size], mode='bilinear')\n",
        "\n",
        "        self.conv=nn.Conv2d(in_channels, out_channels, kernel_size, padding=1)\n",
        "        self.injector=Injector(out_channels)\n",
        "        self.adain=AdaIN(out_channels, w_dim)\n",
        "\n",
        "    def forward(self, x, w):\n",
        "        if self.use_upsample:\n",
        "            x=self.up_sample(x)\n",
        "\n",
        "        x=self.conv(x)\n",
        "        x=self.injector(x)\n",
        "        x=self.adain(x, w)\n",
        "        x=F.leaky_relu(x, inplace=True)\n",
        "        return x\n",
        "\n",
        "x= torch.randn([1, 512, 4, 4])\n",
        "w=torch.randn([7, 496])\n",
        "tmp=GenBlock(512,256,496,4,3)\n",
        "tmp(x,w).shape"
      ],
      "metadata": {
        "id": "yzDQ3eIeeVFf",
        "colab": {
          "base_uri": "https://localhost:8080/"
        },
        "outputId": "b95da5af-6bee-43fd-cb8e-4ace3082ec9a"
      },
      "execution_count": null,
      "outputs": [
        {
          "output_type": "execute_result",
          "data": {
            "text/plain": [
              "torch.Size([7, 256, 2, 2])"
            ]
          },
          "metadata": {},
          "execution_count": 38
        }
      ]
    },
    {
      "cell_type": "code",
      "source": [
        "class StyleGAN(nn.Module):\n",
        "    def __init__(self, z_dim, hidden_dim, w_dim, in_channels, out_channels, kernel_size, hidden_channels):\n",
        "        super().__init__()\n",
        "\n",
        "        self.alpha=0.2\n",
        "        self.mapping=MappingLayer(z_dim, hidden_dim, w_dim)\n",
        "        self.starting_constant = nn.Parameter(torch.randn(1, in_channels, 4, 4))\n",
        "\n",
        "        self.block0=GenBlock(in_channels, hidden_channels, w_dim, kernel_size, 4, use_upsample=False)\n",
        "        self.block1=GenBlock(hidden_channels, hidden_channels, w_dim, kernel_size, 24)\n",
        "        self.block2=GenBlock(hidden_channels, hidden_channels, w_dim, kernel_size, 28)\n",
        "\n",
        "        self.block1_to_image=nn.Conv2d(hidden_channels, out_channels, kernel_size=1)\n",
        "        self.block2_to_image=nn.Conv2d(hidden_channels, out_channels, kernel_size=1)\n",
        "\n",
        "    def forward(self, noise):\n",
        "        x=self.starting_constant\n",
        "        w=self.mapping(noise)\n",
        "        x=self.block0(x, w)\n",
        "\n",
        "        x_small = self.block1(x, w)\n",
        "        x_small_image = self. block1_to_image(x_small)\n",
        "\n",
        "        x_big=self.block2(x,w)\n",
        "        x_big_image = self.block2_to_image(x_big)\n",
        "\n",
        "        x_small_upsample = F.interpolate(x_small_image, size=x_big_image.shape[-2:], mode='bilinear')\n",
        "\n",
        "        interpolation=self.alpha*x_big_image+(1-self.alpha)*x_small_upsample\n",
        "\n",
        "        return interpolation\n",
        "\n",
        "x=torch.randn([7,128])\n",
        "tmp=StyleGAN(z_dim=128, hidden_dim=1024, w_dim=496,\n",
        "               in_channels=512, hidden_channels=256,out_channels=1, kernel_size=3)\n",
        "tmp(x).shape"
      ],
      "metadata": {
        "id": "nYaEEaRtgohQ",
        "colab": {
          "base_uri": "https://localhost:8080/"
        },
        "outputId": "f28cc987-e38a-421c-d7eb-94d8cfac34e3"
      },
      "execution_count": null,
      "outputs": [
        {
          "output_type": "execute_result",
          "data": {
            "text/plain": [
              "torch.Size([7, 1, 28, 28])"
            ]
          },
          "metadata": {},
          "execution_count": 58
        }
      ]
    },
    {
      "cell_type": "code",
      "source": [
        "class DiscBlock(nn.Module):\n",
        "    def __init__(self, in_channels, out_channels, kernel_size=4, stride=2):\n",
        "        super().__init__()\n",
        "        self.layer=nn.Sequential(nn.utils.spectral_norm(nn.Conv2d(in_channels, out_channels, kernel_size, stride)),\n",
        "                                 nn.BatchNorm2d(out_channels),\n",
        "                                 nn.SiLU(inplace=True))\n",
        "    def forward(self,x):\n",
        "        return self.layer(x)\n",
        "\n",
        "class Discriminator(nn.Module):\n",
        "    def __init__(self, image_channel, hidden_dim):\n",
        "        super().__init__()\n",
        "        self.disc=nn.Sequential(DiscBlock(image_channel, hidden_dim),\n",
        "                                DiscBlock(hidden_dim, hidden_dim*2),\n",
        "                                nn.utils.spectral_norm(nn.Conv2d(hidden_dim*2, 1, kernel_size=4,stride=2)),\n",
        "                                Rearrange('b c h w -> b (c h w)'))\n",
        "\n",
        "    def forward(self, x):\n",
        "        return self.disc(x)\n",
        "\n",
        "\n",
        "x=torch.rand([7,13,28,28])\n",
        "tmp=Discriminator(13,14)\n",
        "tmp(x).shape"
      ],
      "metadata": {
        "colab": {
          "base_uri": "https://localhost:8080/"
        },
        "id": "7KGp3Y2HsDFL",
        "outputId": "f43e8712-db0b-4097-bfe2-23b81a27a11d"
      },
      "execution_count": null,
      "outputs": [
        {
          "output_type": "execute_result",
          "data": {
            "text/plain": [
              "torch.Size([7, 1])"
            ]
          },
          "metadata": {},
          "execution_count": 41
        }
      ]
    },
    {
      "cell_type": "markdown",
      "source": [
        "# Training"
      ],
      "metadata": {
        "id": "3L6Z705MOggE"
      }
    },
    {
      "cell_type": "code",
      "source": [
        "class GAN(L.LightningModule):\n",
        "    def __init__(self, z_dim, hidden_dim, w_dim, in_channels, hidden_channels, kernel_size, image_size,learning_rate=1e-3):\n",
        "        super().__init__()\n",
        "        self.save_hyperparameters()\n",
        "        self.automatic_optimization=False\n",
        "\n",
        "        self.gen=StyleGAN(z_dim=z_dim, hidden_dim=hidden_dim, w_dim=w_dim,\n",
        "                          in_channels=512, out_channels=image_size[0], kernel_size=kernel_size, hidden_channels=hidden_channels)\n",
        "        self.disc=Discriminator(image_size[0], 16)\n",
        "\n",
        "    def forward(self,x):\n",
        "        return self.gen(x)\n",
        "\n",
        "    def criterion(self, pred, y):\n",
        "        return F.binary_cross_entropy_with_logits(pred, y)\n",
        "\n",
        "    def training_step(self, batch):\n",
        "        real=batch[0]\n",
        "        labels=batch[1]\n",
        "\n",
        "        gen_opt, disc_opt=self.optimizers()\n",
        "\n",
        "        self.toggle_optimizer(disc_opt)\n",
        "        noise=torch.randn([real.shape[0], self.hparams.z_dim], device=self.device)\n",
        "        fake=self.gen(noise).detach()\n",
        "        fake_pred=self.disc(fake)\n",
        "        real_pred=self.disc(real)\n",
        "\n",
        "        fake_loss = self.criterion(fake_pred, torch.zeros_like(fake_pred))\n",
        "        real_loss = self.criterion(real_pred, torch.ones_like(real_pred))\n",
        "        disc_loss = (fake_loss+real_loss)/2\n",
        "\n",
        "        fake_acc = reduce(((fake_pred.squeeze()<0.5)==labels).float(), 'b -> ()', 'mean').float()\n",
        "        real_acc = reduce(((real_pred.squeeze()>=0.5)==labels).float(), 'b -> ()', 'mean').float()\n",
        "        disc_acc = (fake_acc+real_acc)/2\n",
        "\n",
        "        self.manual_backward(disc_loss)\n",
        "        disc_opt.step()\n",
        "        self.untoggle_optimizer(disc_opt)\n",
        "\n",
        "\n",
        "        self.toggle_optimizer(gen_opt)\n",
        "        gen_opt.zero_grad()\n",
        "        noise=torch.randn([real.shape[0], self.hparams.z_dim], device=self.device)\n",
        "        fake=self.gen(noise)\n",
        "        pred=self.disc(fake)\n",
        "        gen_loss = self.criterion(pred, torch.ones_like(pred))\n",
        "        gen_acc = reduce(((pred.squeeze()<0.5)==labels).float(), 'b -> ()', 'mean').float()\n",
        "\n",
        "        self.manual_backward(gen_loss)\n",
        "        gen_opt.step()\n",
        "        self.untoggle_optimizer(gen_opt)\n",
        "\n",
        "        self.log(\"disc_loss\", disc_loss.item(), prog_bar=True)\n",
        "        self.log(\"disc_acc\", disc_acc.item(), prog_bar=True)\n",
        "        self.log(\"gen_loss\", gen_loss.item(), prog_bar=True)\n",
        "        self.log(\"gen_acc\", gen_acc.item(), prog_bar=True)\n",
        "\n",
        "    def configure_optimizers(self):\n",
        "        gen_opt=torch.optim.Adam(self.gen.parameters(), lr=self.hparams.learning_rate)\n",
        "        disc_opt=torch.optim.Adam(self.disc.parameters(), lr=self.hparams.learning_rate)\n",
        "\n",
        "        return [gen_opt, disc_opt], []\n",
        "\n",
        "    def on_train_epoch_end(self):\n",
        "        noise=torch.randn([32,self.hparams.z_dim], device=self.device)\n",
        "        fake=self.gen(noise)\n",
        "        show_image(fake)"
      ],
      "metadata": {
        "id": "VUrNa9z8sKF6"
      },
      "execution_count": null,
      "outputs": []
    },
    {
      "cell_type": "code",
      "source": [
        "import gc\n",
        "\n",
        "gc.collect()\n",
        "torch.cuda.empty_cache()\n",
        "\n",
        "batch_size=1024\n",
        "data_module=DataModule(batch_size)\n",
        "model=GAN(z_dim=128, hidden_dim=1024, w_dim=496,\n",
        "               in_channels=512, hidden_channels=256, kernel_size=3, image_size=[1,28,28],learning_rate=1e-3)\n",
        "trainer=L.Trainer(\n",
        "    accelerator='auto',\n",
        "    devices=1,\n",
        "    max_epochs=5,\n",
        "    deterministic=True\n",
        ")\n",
        "trainer.fit(model, data_module)"
      ],
      "metadata": {
        "id": "iVcyzgNkvtLc",
        "colab": {
          "base_uri": "https://localhost:8080/",
          "height": 1000,
          "referenced_widgets": [
            "c99242276af74486bad3e9df59d58cf0",
            "0e00b02a46ce41bb9496953eac3e18d4",
            "984694a8787248859b2af80342ad1c16",
            "e86bb4039ede4b13bc643e4bf2d5a545",
            "5b9ccb60a1554af48b0b27c97bb09788",
            "f9e59d13617840779832baea09792d1a",
            "061b53e041e64a4ab9844edad0d66a5a",
            "b801bf718be549ef89f9f7e0b162e157",
            "cf214024cdca4da08d1076d295068e64",
            "d5caceae629741a2ac5b5b9fcb690615",
            "85e4d075a4a34bbbb442a3cb7fc5fafe"
          ]
        },
        "outputId": "c90405df-0e90-42b7-8c15-c0425477d29a"
      },
      "execution_count": null,
      "outputs": [
        {
          "output_type": "stream",
          "name": "stderr",
          "text": [
            "INFO: GPU available: False, used: False\n",
            "INFO:lightning.pytorch.utilities.rank_zero:GPU available: False, used: False\n",
            "INFO: TPU available: False, using: 0 TPU cores\n",
            "INFO:lightning.pytorch.utilities.rank_zero:TPU available: False, using: 0 TPU cores\n",
            "INFO: HPU available: False, using: 0 HPUs\n",
            "INFO:lightning.pytorch.utilities.rank_zero:HPU available: False, using: 0 HPUs\n",
            "INFO: \n",
            "  | Name | Type          | Params | Mode \n",
            "-----------------------------------------------\n",
            "0 | gen  | StyleGAN      | 4.8 M  | train\n",
            "1 | disc | Discriminator | 9.1 K  | train\n",
            "-----------------------------------------------\n",
            "4.8 M     Trainable params\n",
            "0         Non-trainable params\n",
            "4.8 M     Total params\n",
            "19.329    Total estimated model params size (MB)\n",
            "47        Modules in train mode\n",
            "0         Modules in eval mode\n",
            "INFO:lightning.pytorch.callbacks.model_summary:\n",
            "  | Name | Type          | Params | Mode \n",
            "-----------------------------------------------\n",
            "0 | gen  | StyleGAN      | 4.8 M  | train\n",
            "1 | disc | Discriminator | 9.1 K  | train\n",
            "-----------------------------------------------\n",
            "4.8 M     Trainable params\n",
            "0         Non-trainable params\n",
            "4.8 M     Total params\n",
            "19.329    Total estimated model params size (MB)\n",
            "47        Modules in train mode\n",
            "0         Modules in eval mode\n"
          ]
        },
        {
          "output_type": "display_data",
          "data": {
            "text/plain": [
              "Training: |          | 0/? [00:00<?, ?it/s]"
            ],
            "application/vnd.jupyter.widget-view+json": {
              "version_major": 2,
              "version_minor": 0,
              "model_id": "c99242276af74486bad3e9df59d58cf0"
            }
          },
          "metadata": {}
        },
        {
          "output_type": "stream",
          "name": "stdout",
          "text": [
            "torch.Size([1024, 1, 28, 28])\n"
          ]
        },
        {
          "output_type": "stream",
          "name": "stderr",
          "text": [
            "INFO: \n",
            "Detected KeyboardInterrupt, attempting graceful shutdown ...\n",
            "INFO:lightning.pytorch.utilities.rank_zero:\n",
            "Detected KeyboardInterrupt, attempting graceful shutdown ...\n"
          ]
        },
        {
          "output_type": "error",
          "ename": "NameError",
          "evalue": "name 'exit' is not defined",
          "traceback": [
            "\u001b[0;31m---------------------------------------------------------------------------\u001b[0m",
            "\u001b[0;31mKeyboardInterrupt\u001b[0m                         Traceback (most recent call last)",
            "\u001b[0;32m/usr/local/lib/python3.10/dist-packages/lightning/pytorch/trainer/call.py\u001b[0m in \u001b[0;36m_call_and_handle_interrupt\u001b[0;34m(trainer, trainer_fn, *args, **kwargs)\u001b[0m\n\u001b[1;32m     46\u001b[0m             \u001b[0;32mreturn\u001b[0m \u001b[0mtrainer\u001b[0m\u001b[0;34m.\u001b[0m\u001b[0mstrategy\u001b[0m\u001b[0;34m.\u001b[0m\u001b[0mlauncher\u001b[0m\u001b[0;34m.\u001b[0m\u001b[0mlaunch\u001b[0m\u001b[0;34m(\u001b[0m\u001b[0mtrainer_fn\u001b[0m\u001b[0;34m,\u001b[0m \u001b[0;34m*\u001b[0m\u001b[0margs\u001b[0m\u001b[0;34m,\u001b[0m \u001b[0mtrainer\u001b[0m\u001b[0;34m=\u001b[0m\u001b[0mtrainer\u001b[0m\u001b[0;34m,\u001b[0m \u001b[0;34m**\u001b[0m\u001b[0mkwargs\u001b[0m\u001b[0;34m)\u001b[0m\u001b[0;34m\u001b[0m\u001b[0;34m\u001b[0m\u001b[0m\n\u001b[0;32m---> 47\u001b[0;31m         \u001b[0;32mreturn\u001b[0m \u001b[0mtrainer_fn\u001b[0m\u001b[0;34m(\u001b[0m\u001b[0;34m*\u001b[0m\u001b[0margs\u001b[0m\u001b[0;34m,\u001b[0m \u001b[0;34m**\u001b[0m\u001b[0mkwargs\u001b[0m\u001b[0;34m)\u001b[0m\u001b[0;34m\u001b[0m\u001b[0;34m\u001b[0m\u001b[0m\n\u001b[0m\u001b[1;32m     48\u001b[0m \u001b[0;34m\u001b[0m\u001b[0m\n",
            "\u001b[0;32m/usr/local/lib/python3.10/dist-packages/lightning/pytorch/trainer/trainer.py\u001b[0m in \u001b[0;36m_fit_impl\u001b[0;34m(self, model, train_dataloaders, val_dataloaders, datamodule, ckpt_path)\u001b[0m\n\u001b[1;32m    573\u001b[0m         )\n\u001b[0;32m--> 574\u001b[0;31m         \u001b[0mself\u001b[0m\u001b[0;34m.\u001b[0m\u001b[0m_run\u001b[0m\u001b[0;34m(\u001b[0m\u001b[0mmodel\u001b[0m\u001b[0;34m,\u001b[0m \u001b[0mckpt_path\u001b[0m\u001b[0;34m=\u001b[0m\u001b[0mckpt_path\u001b[0m\u001b[0;34m)\u001b[0m\u001b[0;34m\u001b[0m\u001b[0;34m\u001b[0m\u001b[0m\n\u001b[0m\u001b[1;32m    575\u001b[0m \u001b[0;34m\u001b[0m\u001b[0m\n",
            "\u001b[0;32m/usr/local/lib/python3.10/dist-packages/lightning/pytorch/trainer/trainer.py\u001b[0m in \u001b[0;36m_run\u001b[0;34m(self, model, ckpt_path)\u001b[0m\n\u001b[1;32m    980\u001b[0m         \u001b[0;31m# ----------------------------\u001b[0m\u001b[0;34m\u001b[0m\u001b[0;34m\u001b[0m\u001b[0m\n\u001b[0;32m--> 981\u001b[0;31m         \u001b[0mresults\u001b[0m \u001b[0;34m=\u001b[0m \u001b[0mself\u001b[0m\u001b[0;34m.\u001b[0m\u001b[0m_run_stage\u001b[0m\u001b[0;34m(\u001b[0m\u001b[0;34m)\u001b[0m\u001b[0;34m\u001b[0m\u001b[0;34m\u001b[0m\u001b[0m\n\u001b[0m\u001b[1;32m    982\u001b[0m \u001b[0;34m\u001b[0m\u001b[0m\n",
            "\u001b[0;32m/usr/local/lib/python3.10/dist-packages/lightning/pytorch/trainer/trainer.py\u001b[0m in \u001b[0;36m_run_stage\u001b[0;34m(self)\u001b[0m\n\u001b[1;32m   1024\u001b[0m             \u001b[0;32mwith\u001b[0m \u001b[0mtorch\u001b[0m\u001b[0;34m.\u001b[0m\u001b[0mautograd\u001b[0m\u001b[0;34m.\u001b[0m\u001b[0mset_detect_anomaly\u001b[0m\u001b[0;34m(\u001b[0m\u001b[0mself\u001b[0m\u001b[0;34m.\u001b[0m\u001b[0m_detect_anomaly\u001b[0m\u001b[0;34m)\u001b[0m\u001b[0;34m:\u001b[0m\u001b[0;34m\u001b[0m\u001b[0;34m\u001b[0m\u001b[0m\n\u001b[0;32m-> 1025\u001b[0;31m                 \u001b[0mself\u001b[0m\u001b[0;34m.\u001b[0m\u001b[0mfit_loop\u001b[0m\u001b[0;34m.\u001b[0m\u001b[0mrun\u001b[0m\u001b[0;34m(\u001b[0m\u001b[0;34m)\u001b[0m\u001b[0;34m\u001b[0m\u001b[0;34m\u001b[0m\u001b[0m\n\u001b[0m\u001b[1;32m   1026\u001b[0m             \u001b[0;32mreturn\u001b[0m \u001b[0;32mNone\u001b[0m\u001b[0;34m\u001b[0m\u001b[0;34m\u001b[0m\u001b[0m\n",
            "\u001b[0;32m/usr/local/lib/python3.10/dist-packages/lightning/pytorch/loops/fit_loop.py\u001b[0m in \u001b[0;36mrun\u001b[0;34m(self)\u001b[0m\n\u001b[1;32m    204\u001b[0m                 \u001b[0mself\u001b[0m\u001b[0;34m.\u001b[0m\u001b[0mon_advance_start\u001b[0m\u001b[0;34m(\u001b[0m\u001b[0;34m)\u001b[0m\u001b[0;34m\u001b[0m\u001b[0;34m\u001b[0m\u001b[0m\n\u001b[0;32m--> 205\u001b[0;31m                 \u001b[0mself\u001b[0m\u001b[0;34m.\u001b[0m\u001b[0madvance\u001b[0m\u001b[0;34m(\u001b[0m\u001b[0;34m)\u001b[0m\u001b[0;34m\u001b[0m\u001b[0;34m\u001b[0m\u001b[0m\n\u001b[0m\u001b[1;32m    206\u001b[0m                 \u001b[0mself\u001b[0m\u001b[0;34m.\u001b[0m\u001b[0mon_advance_end\u001b[0m\u001b[0;34m(\u001b[0m\u001b[0;34m)\u001b[0m\u001b[0;34m\u001b[0m\u001b[0;34m\u001b[0m\u001b[0m\n",
            "\u001b[0;32m/usr/local/lib/python3.10/dist-packages/lightning/pytorch/loops/fit_loop.py\u001b[0m in \u001b[0;36madvance\u001b[0;34m(self)\u001b[0m\n\u001b[1;32m    362\u001b[0m             \u001b[0;32massert\u001b[0m \u001b[0mself\u001b[0m\u001b[0;34m.\u001b[0m\u001b[0m_data_fetcher\u001b[0m \u001b[0;32mis\u001b[0m \u001b[0;32mnot\u001b[0m \u001b[0;32mNone\u001b[0m\u001b[0;34m\u001b[0m\u001b[0;34m\u001b[0m\u001b[0m\n\u001b[0;32m--> 363\u001b[0;31m             \u001b[0mself\u001b[0m\u001b[0;34m.\u001b[0m\u001b[0mepoch_loop\u001b[0m\u001b[0;34m.\u001b[0m\u001b[0mrun\u001b[0m\u001b[0;34m(\u001b[0m\u001b[0mself\u001b[0m\u001b[0;34m.\u001b[0m\u001b[0m_data_fetcher\u001b[0m\u001b[0;34m)\u001b[0m\u001b[0;34m\u001b[0m\u001b[0;34m\u001b[0m\u001b[0m\n\u001b[0m\u001b[1;32m    364\u001b[0m \u001b[0;34m\u001b[0m\u001b[0m\n",
            "\u001b[0;32m/usr/local/lib/python3.10/dist-packages/lightning/pytorch/loops/training_epoch_loop.py\u001b[0m in \u001b[0;36mrun\u001b[0;34m(self, data_fetcher)\u001b[0m\n\u001b[1;32m    139\u001b[0m             \u001b[0;32mtry\u001b[0m\u001b[0;34m:\u001b[0m\u001b[0;34m\u001b[0m\u001b[0;34m\u001b[0m\u001b[0m\n\u001b[0;32m--> 140\u001b[0;31m                 \u001b[0mself\u001b[0m\u001b[0;34m.\u001b[0m\u001b[0madvance\u001b[0m\u001b[0;34m(\u001b[0m\u001b[0mdata_fetcher\u001b[0m\u001b[0;34m)\u001b[0m\u001b[0;34m\u001b[0m\u001b[0;34m\u001b[0m\u001b[0m\n\u001b[0m\u001b[1;32m    141\u001b[0m                 \u001b[0mself\u001b[0m\u001b[0;34m.\u001b[0m\u001b[0mon_advance_end\u001b[0m\u001b[0;34m(\u001b[0m\u001b[0mdata_fetcher\u001b[0m\u001b[0;34m)\u001b[0m\u001b[0;34m\u001b[0m\u001b[0;34m\u001b[0m\u001b[0m\n",
            "\u001b[0;32m/usr/local/lib/python3.10/dist-packages/lightning/pytorch/loops/training_epoch_loop.py\u001b[0m in \u001b[0;36madvance\u001b[0;34m(self, data_fetcher)\u001b[0m\n\u001b[1;32m    251\u001b[0m                 \u001b[0;32melse\u001b[0m\u001b[0;34m:\u001b[0m\u001b[0;34m\u001b[0m\u001b[0;34m\u001b[0m\u001b[0m\n\u001b[0;32m--> 252\u001b[0;31m                     \u001b[0mbatch_output\u001b[0m \u001b[0;34m=\u001b[0m \u001b[0mself\u001b[0m\u001b[0;34m.\u001b[0m\u001b[0mmanual_optimization\u001b[0m\u001b[0;34m.\u001b[0m\u001b[0mrun\u001b[0m\u001b[0;34m(\u001b[0m\u001b[0mkwargs\u001b[0m\u001b[0;34m)\u001b[0m\u001b[0;34m\u001b[0m\u001b[0;34m\u001b[0m\u001b[0m\n\u001b[0m\u001b[1;32m    253\u001b[0m \u001b[0;34m\u001b[0m\u001b[0m\n",
            "\u001b[0;32m/usr/local/lib/python3.10/dist-packages/lightning/pytorch/loops/optimization/manual.py\u001b[0m in \u001b[0;36mrun\u001b[0;34m(self, kwargs)\u001b[0m\n\u001b[1;32m     93\u001b[0m         \u001b[0;32mwith\u001b[0m \u001b[0msuppress\u001b[0m\u001b[0;34m(\u001b[0m\u001b[0mStopIteration\u001b[0m\u001b[0;34m)\u001b[0m\u001b[0;34m:\u001b[0m  \u001b[0;31m# no loop to break at this level\u001b[0m\u001b[0;34m\u001b[0m\u001b[0;34m\u001b[0m\u001b[0m\n\u001b[0;32m---> 94\u001b[0;31m             \u001b[0mself\u001b[0m\u001b[0;34m.\u001b[0m\u001b[0madvance\u001b[0m\u001b[0;34m(\u001b[0m\u001b[0mkwargs\u001b[0m\u001b[0;34m)\u001b[0m\u001b[0;34m\u001b[0m\u001b[0;34m\u001b[0m\u001b[0m\n\u001b[0m\u001b[1;32m     95\u001b[0m         \u001b[0mself\u001b[0m\u001b[0;34m.\u001b[0m\u001b[0m_restarting\u001b[0m \u001b[0;34m=\u001b[0m \u001b[0;32mFalse\u001b[0m\u001b[0;34m\u001b[0m\u001b[0;34m\u001b[0m\u001b[0m\n",
            "\u001b[0;32m/usr/local/lib/python3.10/dist-packages/lightning/pytorch/loops/optimization/manual.py\u001b[0m in \u001b[0;36madvance\u001b[0;34m(self, kwargs)\u001b[0m\n\u001b[1;32m    113\u001b[0m         \u001b[0;31m# manually capture logged metrics\u001b[0m\u001b[0;34m\u001b[0m\u001b[0;34m\u001b[0m\u001b[0m\n\u001b[0;32m--> 114\u001b[0;31m         \u001b[0mtraining_step_output\u001b[0m \u001b[0;34m=\u001b[0m \u001b[0mcall\u001b[0m\u001b[0;34m.\u001b[0m\u001b[0m_call_strategy_hook\u001b[0m\u001b[0;34m(\u001b[0m\u001b[0mtrainer\u001b[0m\u001b[0;34m,\u001b[0m \u001b[0;34m\"training_step\"\u001b[0m\u001b[0;34m,\u001b[0m \u001b[0;34m*\u001b[0m\u001b[0mkwargs\u001b[0m\u001b[0;34m.\u001b[0m\u001b[0mvalues\u001b[0m\u001b[0;34m(\u001b[0m\u001b[0;34m)\u001b[0m\u001b[0;34m)\u001b[0m\u001b[0;34m\u001b[0m\u001b[0;34m\u001b[0m\u001b[0m\n\u001b[0m\u001b[1;32m    115\u001b[0m         \u001b[0;32mdel\u001b[0m \u001b[0mkwargs\u001b[0m  \u001b[0;31m# release the batch from memory\u001b[0m\u001b[0;34m\u001b[0m\u001b[0;34m\u001b[0m\u001b[0m\n",
            "\u001b[0;32m/usr/local/lib/python3.10/dist-packages/lightning/pytorch/trainer/call.py\u001b[0m in \u001b[0;36m_call_strategy_hook\u001b[0;34m(trainer, hook_name, *args, **kwargs)\u001b[0m\n\u001b[1;32m    318\u001b[0m     \u001b[0;32mwith\u001b[0m \u001b[0mtrainer\u001b[0m\u001b[0;34m.\u001b[0m\u001b[0mprofiler\u001b[0m\u001b[0;34m.\u001b[0m\u001b[0mprofile\u001b[0m\u001b[0;34m(\u001b[0m\u001b[0;34mf\"[Strategy]{trainer.strategy.__class__.__name__}.{hook_name}\"\u001b[0m\u001b[0;34m)\u001b[0m\u001b[0;34m:\u001b[0m\u001b[0;34m\u001b[0m\u001b[0;34m\u001b[0m\u001b[0m\n\u001b[0;32m--> 319\u001b[0;31m         \u001b[0moutput\u001b[0m \u001b[0;34m=\u001b[0m \u001b[0mfn\u001b[0m\u001b[0;34m(\u001b[0m\u001b[0;34m*\u001b[0m\u001b[0margs\u001b[0m\u001b[0;34m,\u001b[0m \u001b[0;34m**\u001b[0m\u001b[0mkwargs\u001b[0m\u001b[0;34m)\u001b[0m\u001b[0;34m\u001b[0m\u001b[0;34m\u001b[0m\u001b[0m\n\u001b[0m\u001b[1;32m    320\u001b[0m \u001b[0;34m\u001b[0m\u001b[0m\n",
            "\u001b[0;32m/usr/local/lib/python3.10/dist-packages/lightning/pytorch/strategies/strategy.py\u001b[0m in \u001b[0;36mtraining_step\u001b[0;34m(self, *args, **kwargs)\u001b[0m\n\u001b[1;32m    389\u001b[0m                 \u001b[0;32mreturn\u001b[0m \u001b[0mself\u001b[0m\u001b[0;34m.\u001b[0m\u001b[0m_forward_redirection\u001b[0m\u001b[0;34m(\u001b[0m\u001b[0mself\u001b[0m\u001b[0;34m.\u001b[0m\u001b[0mmodel\u001b[0m\u001b[0;34m,\u001b[0m \u001b[0mself\u001b[0m\u001b[0;34m.\u001b[0m\u001b[0mlightning_module\u001b[0m\u001b[0;34m,\u001b[0m \u001b[0;34m\"training_step\"\u001b[0m\u001b[0;34m,\u001b[0m \u001b[0;34m*\u001b[0m\u001b[0margs\u001b[0m\u001b[0;34m,\u001b[0m \u001b[0;34m**\u001b[0m\u001b[0mkwargs\u001b[0m\u001b[0;34m)\u001b[0m\u001b[0;34m\u001b[0m\u001b[0;34m\u001b[0m\u001b[0m\n\u001b[0;32m--> 390\u001b[0;31m             \u001b[0;32mreturn\u001b[0m \u001b[0mself\u001b[0m\u001b[0;34m.\u001b[0m\u001b[0mlightning_module\u001b[0m\u001b[0;34m.\u001b[0m\u001b[0mtraining_step\u001b[0m\u001b[0;34m(\u001b[0m\u001b[0;34m*\u001b[0m\u001b[0margs\u001b[0m\u001b[0;34m,\u001b[0m \u001b[0;34m**\u001b[0m\u001b[0mkwargs\u001b[0m\u001b[0;34m)\u001b[0m\u001b[0;34m\u001b[0m\u001b[0;34m\u001b[0m\u001b[0m\n\u001b[0m\u001b[1;32m    391\u001b[0m \u001b[0;34m\u001b[0m\u001b[0m\n",
            "\u001b[0;32m<ipython-input-59-67a38d0a1ab4>\u001b[0m in \u001b[0;36mtraining_step\u001b[0;34m(self, batch)\u001b[0m\n\u001b[1;32m     24\u001b[0m         \u001b[0mnoise\u001b[0m\u001b[0;34m=\u001b[0m\u001b[0mtorch\u001b[0m\u001b[0;34m.\u001b[0m\u001b[0mrandn\u001b[0m\u001b[0;34m(\u001b[0m\u001b[0;34m[\u001b[0m\u001b[0mreal\u001b[0m\u001b[0;34m.\u001b[0m\u001b[0mshape\u001b[0m\u001b[0;34m[\u001b[0m\u001b[0;36m0\u001b[0m\u001b[0;34m]\u001b[0m\u001b[0;34m,\u001b[0m \u001b[0mself\u001b[0m\u001b[0;34m.\u001b[0m\u001b[0mhparams\u001b[0m\u001b[0;34m.\u001b[0m\u001b[0mz_dim\u001b[0m\u001b[0;34m]\u001b[0m\u001b[0;34m,\u001b[0m \u001b[0mdevice\u001b[0m\u001b[0;34m=\u001b[0m\u001b[0mself\u001b[0m\u001b[0;34m.\u001b[0m\u001b[0mdevice\u001b[0m\u001b[0;34m)\u001b[0m\u001b[0;34m\u001b[0m\u001b[0;34m\u001b[0m\u001b[0m\n\u001b[0;32m---> 25\u001b[0;31m         \u001b[0mfake\u001b[0m\u001b[0;34m=\u001b[0m\u001b[0mself\u001b[0m\u001b[0;34m.\u001b[0m\u001b[0mgen\u001b[0m\u001b[0;34m(\u001b[0m\u001b[0mnoise\u001b[0m\u001b[0;34m)\u001b[0m\u001b[0;34m.\u001b[0m\u001b[0mdetach\u001b[0m\u001b[0;34m(\u001b[0m\u001b[0;34m)\u001b[0m\u001b[0;34m\u001b[0m\u001b[0;34m\u001b[0m\u001b[0m\n\u001b[0m\u001b[1;32m     26\u001b[0m         \u001b[0mprint\u001b[0m\u001b[0;34m(\u001b[0m\u001b[0mfake\u001b[0m\u001b[0;34m.\u001b[0m\u001b[0mshape\u001b[0m\u001b[0;34m)\u001b[0m\u001b[0;34m\u001b[0m\u001b[0;34m\u001b[0m\u001b[0m\n",
            "\u001b[0;32m/usr/local/lib/python3.10/dist-packages/torch/nn/modules/module.py\u001b[0m in \u001b[0;36m_wrapped_call_impl\u001b[0;34m(self, *args, **kwargs)\u001b[0m\n\u001b[1;32m   1552\u001b[0m         \u001b[0;32melse\u001b[0m\u001b[0;34m:\u001b[0m\u001b[0;34m\u001b[0m\u001b[0;34m\u001b[0m\u001b[0m\n\u001b[0;32m-> 1553\u001b[0;31m             \u001b[0;32mreturn\u001b[0m \u001b[0mself\u001b[0m\u001b[0;34m.\u001b[0m\u001b[0m_call_impl\u001b[0m\u001b[0;34m(\u001b[0m\u001b[0;34m*\u001b[0m\u001b[0margs\u001b[0m\u001b[0;34m,\u001b[0m \u001b[0;34m**\u001b[0m\u001b[0mkwargs\u001b[0m\u001b[0;34m)\u001b[0m\u001b[0;34m\u001b[0m\u001b[0;34m\u001b[0m\u001b[0m\n\u001b[0m\u001b[1;32m   1554\u001b[0m \u001b[0;34m\u001b[0m\u001b[0m\n",
            "\u001b[0;32m/usr/local/lib/python3.10/dist-packages/torch/nn/modules/module.py\u001b[0m in \u001b[0;36m_call_impl\u001b[0;34m(self, *args, **kwargs)\u001b[0m\n\u001b[1;32m   1561\u001b[0m                 or _global_forward_hooks or _global_forward_pre_hooks):\n\u001b[0;32m-> 1562\u001b[0;31m             \u001b[0;32mreturn\u001b[0m \u001b[0mforward_call\u001b[0m\u001b[0;34m(\u001b[0m\u001b[0;34m*\u001b[0m\u001b[0margs\u001b[0m\u001b[0;34m,\u001b[0m \u001b[0;34m**\u001b[0m\u001b[0mkwargs\u001b[0m\u001b[0;34m)\u001b[0m\u001b[0;34m\u001b[0m\u001b[0;34m\u001b[0m\u001b[0m\n\u001b[0m\u001b[1;32m   1563\u001b[0m \u001b[0;34m\u001b[0m\u001b[0m\n",
            "\u001b[0;32m<ipython-input-58-f74bde9cf063>\u001b[0m in \u001b[0;36mforward\u001b[0;34m(self, noise)\u001b[0m\n\u001b[1;32m     23\u001b[0m \u001b[0;34m\u001b[0m\u001b[0m\n\u001b[0;32m---> 24\u001b[0;31m         \u001b[0mx_big\u001b[0m\u001b[0;34m=\u001b[0m\u001b[0mself\u001b[0m\u001b[0;34m.\u001b[0m\u001b[0mblock2\u001b[0m\u001b[0;34m(\u001b[0m\u001b[0mx\u001b[0m\u001b[0;34m,\u001b[0m\u001b[0mw\u001b[0m\u001b[0;34m)\u001b[0m\u001b[0;34m\u001b[0m\u001b[0;34m\u001b[0m\u001b[0m\n\u001b[0m\u001b[1;32m     25\u001b[0m         \u001b[0mx_big_image\u001b[0m \u001b[0;34m=\u001b[0m \u001b[0mself\u001b[0m\u001b[0;34m.\u001b[0m\u001b[0mblock2_to_image\u001b[0m\u001b[0;34m(\u001b[0m\u001b[0mx_big\u001b[0m\u001b[0;34m)\u001b[0m\u001b[0;34m\u001b[0m\u001b[0;34m\u001b[0m\u001b[0m\n",
            "\u001b[0;32m/usr/local/lib/python3.10/dist-packages/torch/nn/modules/module.py\u001b[0m in \u001b[0;36m_wrapped_call_impl\u001b[0;34m(self, *args, **kwargs)\u001b[0m\n\u001b[1;32m   1552\u001b[0m         \u001b[0;32melse\u001b[0m\u001b[0;34m:\u001b[0m\u001b[0;34m\u001b[0m\u001b[0;34m\u001b[0m\u001b[0m\n\u001b[0;32m-> 1553\u001b[0;31m             \u001b[0;32mreturn\u001b[0m \u001b[0mself\u001b[0m\u001b[0;34m.\u001b[0m\u001b[0m_call_impl\u001b[0m\u001b[0;34m(\u001b[0m\u001b[0;34m*\u001b[0m\u001b[0margs\u001b[0m\u001b[0;34m,\u001b[0m \u001b[0;34m**\u001b[0m\u001b[0mkwargs\u001b[0m\u001b[0;34m)\u001b[0m\u001b[0;34m\u001b[0m\u001b[0;34m\u001b[0m\u001b[0m\n\u001b[0m\u001b[1;32m   1554\u001b[0m \u001b[0;34m\u001b[0m\u001b[0m\n",
            "\u001b[0;32m/usr/local/lib/python3.10/dist-packages/torch/nn/modules/module.py\u001b[0m in \u001b[0;36m_call_impl\u001b[0;34m(self, *args, **kwargs)\u001b[0m\n\u001b[1;32m   1561\u001b[0m                 or _global_forward_hooks or _global_forward_pre_hooks):\n\u001b[0;32m-> 1562\u001b[0;31m             \u001b[0;32mreturn\u001b[0m \u001b[0mforward_call\u001b[0m\u001b[0;34m(\u001b[0m\u001b[0;34m*\u001b[0m\u001b[0margs\u001b[0m\u001b[0;34m,\u001b[0m \u001b[0;34m**\u001b[0m\u001b[0mkwargs\u001b[0m\u001b[0;34m)\u001b[0m\u001b[0;34m\u001b[0m\u001b[0;34m\u001b[0m\u001b[0m\n\u001b[0m\u001b[1;32m   1563\u001b[0m \u001b[0;34m\u001b[0m\u001b[0m\n",
            "\u001b[0;32m<ipython-input-38-959e30559f70>\u001b[0m in \u001b[0;36mforward\u001b[0;34m(self, x, w)\u001b[0m\n\u001b[1;32m     15\u001b[0m \u001b[0;34m\u001b[0m\u001b[0m\n\u001b[0;32m---> 16\u001b[0;31m         \u001b[0mx\u001b[0m\u001b[0;34m=\u001b[0m\u001b[0mself\u001b[0m\u001b[0;34m.\u001b[0m\u001b[0mconv\u001b[0m\u001b[0;34m(\u001b[0m\u001b[0mx\u001b[0m\u001b[0;34m)\u001b[0m\u001b[0;34m\u001b[0m\u001b[0;34m\u001b[0m\u001b[0m\n\u001b[0m\u001b[1;32m     17\u001b[0m         \u001b[0mx\u001b[0m\u001b[0;34m=\u001b[0m\u001b[0mself\u001b[0m\u001b[0;34m.\u001b[0m\u001b[0minjector\u001b[0m\u001b[0;34m(\u001b[0m\u001b[0mx\u001b[0m\u001b[0;34m)\u001b[0m\u001b[0;34m\u001b[0m\u001b[0;34m\u001b[0m\u001b[0m\n",
            "\u001b[0;32m/usr/local/lib/python3.10/dist-packages/torch/nn/modules/module.py\u001b[0m in \u001b[0;36m_wrapped_call_impl\u001b[0;34m(self, *args, **kwargs)\u001b[0m\n\u001b[1;32m   1552\u001b[0m         \u001b[0;32melse\u001b[0m\u001b[0;34m:\u001b[0m\u001b[0;34m\u001b[0m\u001b[0;34m\u001b[0m\u001b[0m\n\u001b[0;32m-> 1553\u001b[0;31m             \u001b[0;32mreturn\u001b[0m \u001b[0mself\u001b[0m\u001b[0;34m.\u001b[0m\u001b[0m_call_impl\u001b[0m\u001b[0;34m(\u001b[0m\u001b[0;34m*\u001b[0m\u001b[0margs\u001b[0m\u001b[0;34m,\u001b[0m \u001b[0;34m**\u001b[0m\u001b[0mkwargs\u001b[0m\u001b[0;34m)\u001b[0m\u001b[0;34m\u001b[0m\u001b[0;34m\u001b[0m\u001b[0m\n\u001b[0m\u001b[1;32m   1554\u001b[0m \u001b[0;34m\u001b[0m\u001b[0m\n",
            "\u001b[0;32m/usr/local/lib/python3.10/dist-packages/torch/nn/modules/module.py\u001b[0m in \u001b[0;36m_call_impl\u001b[0;34m(self, *args, **kwargs)\u001b[0m\n\u001b[1;32m   1561\u001b[0m                 or _global_forward_hooks or _global_forward_pre_hooks):\n\u001b[0;32m-> 1562\u001b[0;31m             \u001b[0;32mreturn\u001b[0m \u001b[0mforward_call\u001b[0m\u001b[0;34m(\u001b[0m\u001b[0;34m*\u001b[0m\u001b[0margs\u001b[0m\u001b[0;34m,\u001b[0m \u001b[0;34m**\u001b[0m\u001b[0mkwargs\u001b[0m\u001b[0;34m)\u001b[0m\u001b[0;34m\u001b[0m\u001b[0;34m\u001b[0m\u001b[0m\n\u001b[0m\u001b[1;32m   1563\u001b[0m \u001b[0;34m\u001b[0m\u001b[0m\n",
            "\u001b[0;32m/usr/local/lib/python3.10/dist-packages/torch/nn/modules/conv.py\u001b[0m in \u001b[0;36mforward\u001b[0;34m(self, input)\u001b[0m\n\u001b[1;32m    457\u001b[0m     \u001b[0;32mdef\u001b[0m \u001b[0mforward\u001b[0m\u001b[0;34m(\u001b[0m\u001b[0mself\u001b[0m\u001b[0;34m,\u001b[0m \u001b[0minput\u001b[0m\u001b[0;34m:\u001b[0m \u001b[0mTensor\u001b[0m\u001b[0;34m)\u001b[0m \u001b[0;34m->\u001b[0m \u001b[0mTensor\u001b[0m\u001b[0;34m:\u001b[0m\u001b[0;34m\u001b[0m\u001b[0;34m\u001b[0m\u001b[0m\n\u001b[0;32m--> 458\u001b[0;31m         \u001b[0;32mreturn\u001b[0m \u001b[0mself\u001b[0m\u001b[0;34m.\u001b[0m\u001b[0m_conv_forward\u001b[0m\u001b[0;34m(\u001b[0m\u001b[0minput\u001b[0m\u001b[0;34m,\u001b[0m \u001b[0mself\u001b[0m\u001b[0;34m.\u001b[0m\u001b[0mweight\u001b[0m\u001b[0;34m,\u001b[0m \u001b[0mself\u001b[0m\u001b[0;34m.\u001b[0m\u001b[0mbias\u001b[0m\u001b[0;34m)\u001b[0m\u001b[0;34m\u001b[0m\u001b[0;34m\u001b[0m\u001b[0m\n\u001b[0m\u001b[1;32m    459\u001b[0m \u001b[0;34m\u001b[0m\u001b[0m\n",
            "\u001b[0;32m/usr/local/lib/python3.10/dist-packages/torch/nn/modules/conv.py\u001b[0m in \u001b[0;36m_conv_forward\u001b[0;34m(self, input, weight, bias)\u001b[0m\n\u001b[1;32m    453\u001b[0m                             _pair(0), self.dilation, self.groups)\n\u001b[0;32m--> 454\u001b[0;31m         return F.conv2d(input, weight, bias, self.stride,\n\u001b[0m\u001b[1;32m    455\u001b[0m                         self.padding, self.dilation, self.groups)\n",
            "\u001b[0;31mKeyboardInterrupt\u001b[0m: ",
            "\nDuring handling of the above exception, another exception occurred:\n",
            "\u001b[0;31mNameError\u001b[0m                                 Traceback (most recent call last)",
            "\u001b[0;32m<ipython-input-60-9805bf261f6c>\u001b[0m in \u001b[0;36m<cell line: 16>\u001b[0;34m()\u001b[0m\n\u001b[1;32m     14\u001b[0m     \u001b[0mdeterministic\u001b[0m\u001b[0;34m=\u001b[0m\u001b[0;32mTrue\u001b[0m\u001b[0;34m\u001b[0m\u001b[0;34m\u001b[0m\u001b[0m\n\u001b[1;32m     15\u001b[0m )\n\u001b[0;32m---> 16\u001b[0;31m \u001b[0mtrainer\u001b[0m\u001b[0;34m.\u001b[0m\u001b[0mfit\u001b[0m\u001b[0;34m(\u001b[0m\u001b[0mmodel\u001b[0m\u001b[0;34m,\u001b[0m \u001b[0mdata_module\u001b[0m\u001b[0;34m)\u001b[0m\u001b[0;34m\u001b[0m\u001b[0;34m\u001b[0m\u001b[0m\n\u001b[0m",
            "\u001b[0;32m/usr/local/lib/python3.10/dist-packages/lightning/pytorch/trainer/trainer.py\u001b[0m in \u001b[0;36mfit\u001b[0;34m(self, model, train_dataloaders, val_dataloaders, datamodule, ckpt_path)\u001b[0m\n\u001b[1;32m    536\u001b[0m         \u001b[0mself\u001b[0m\u001b[0;34m.\u001b[0m\u001b[0mstate\u001b[0m\u001b[0;34m.\u001b[0m\u001b[0mstatus\u001b[0m \u001b[0;34m=\u001b[0m \u001b[0mTrainerStatus\u001b[0m\u001b[0;34m.\u001b[0m\u001b[0mRUNNING\u001b[0m\u001b[0;34m\u001b[0m\u001b[0;34m\u001b[0m\u001b[0m\n\u001b[1;32m    537\u001b[0m         \u001b[0mself\u001b[0m\u001b[0;34m.\u001b[0m\u001b[0mtraining\u001b[0m \u001b[0;34m=\u001b[0m \u001b[0;32mTrue\u001b[0m\u001b[0;34m\u001b[0m\u001b[0;34m\u001b[0m\u001b[0m\n\u001b[0;32m--> 538\u001b[0;31m         call._call_and_handle_interrupt(\n\u001b[0m\u001b[1;32m    539\u001b[0m             \u001b[0mself\u001b[0m\u001b[0;34m,\u001b[0m \u001b[0mself\u001b[0m\u001b[0;34m.\u001b[0m\u001b[0m_fit_impl\u001b[0m\u001b[0;34m,\u001b[0m \u001b[0mmodel\u001b[0m\u001b[0;34m,\u001b[0m \u001b[0mtrain_dataloaders\u001b[0m\u001b[0;34m,\u001b[0m \u001b[0mval_dataloaders\u001b[0m\u001b[0;34m,\u001b[0m \u001b[0mdatamodule\u001b[0m\u001b[0;34m,\u001b[0m \u001b[0mckpt_path\u001b[0m\u001b[0;34m\u001b[0m\u001b[0;34m\u001b[0m\u001b[0m\n\u001b[1;32m    540\u001b[0m         )\n",
            "\u001b[0;32m/usr/local/lib/python3.10/dist-packages/lightning/pytorch/trainer/call.py\u001b[0m in \u001b[0;36m_call_and_handle_interrupt\u001b[0;34m(trainer, trainer_fn, *args, **kwargs)\u001b[0m\n\u001b[1;32m     62\u001b[0m         \u001b[0;32mif\u001b[0m \u001b[0misinstance\u001b[0m\u001b[0;34m(\u001b[0m\u001b[0mlauncher\u001b[0m\u001b[0;34m,\u001b[0m \u001b[0m_SubprocessScriptLauncher\u001b[0m\u001b[0;34m)\u001b[0m\u001b[0;34m:\u001b[0m\u001b[0;34m\u001b[0m\u001b[0;34m\u001b[0m\u001b[0m\n\u001b[1;32m     63\u001b[0m             \u001b[0mlauncher\u001b[0m\u001b[0;34m.\u001b[0m\u001b[0mkill\u001b[0m\u001b[0;34m(\u001b[0m\u001b[0m_get_sigkill_signal\u001b[0m\u001b[0;34m(\u001b[0m\u001b[0;34m)\u001b[0m\u001b[0;34m)\u001b[0m\u001b[0;34m\u001b[0m\u001b[0;34m\u001b[0m\u001b[0m\n\u001b[0;32m---> 64\u001b[0;31m         \u001b[0mexit\u001b[0m\u001b[0;34m(\u001b[0m\u001b[0;36m1\u001b[0m\u001b[0;34m)\u001b[0m\u001b[0;34m\u001b[0m\u001b[0;34m\u001b[0m\u001b[0m\n\u001b[0m\u001b[1;32m     65\u001b[0m \u001b[0;34m\u001b[0m\u001b[0m\n\u001b[1;32m     66\u001b[0m     \u001b[0;32mexcept\u001b[0m \u001b[0mBaseException\u001b[0m \u001b[0;32mas\u001b[0m \u001b[0mexception\u001b[0m\u001b[0;34m:\u001b[0m\u001b[0;34m\u001b[0m\u001b[0;34m\u001b[0m\u001b[0m\n",
            "\u001b[0;31mNameError\u001b[0m: name 'exit' is not defined"
          ]
        }
      ]
    },
    {
      "cell_type": "markdown",
      "source": [
        "# Inference"
      ],
      "metadata": {
        "id": "XOGAtENeYXzM"
      }
    },
    {
      "cell_type": "code",
      "source": [
        "from scipy.stats import truncnorm\n",
        "\n",
        "def get_truncated_noise(num_samples, z_dim, truncation=0.7):\n",
        "    noise = truncnorm.rvs(-truncation, truncation, size=(num_samples, z_dim))\n",
        "    return torch.Tensor(noise)"
      ],
      "metadata": {
        "id": "34NLTUoWYaV3"
      },
      "execution_count": null,
      "outputs": []
    },
    {
      "cell_type": "code",
      "source": [
        "x=get_truncated_noise(1,128)\n",
        "fake=model(x)\n",
        "plt.imshow(fake[0].permute(1,2,0))\n",
        "plt.show()"
      ],
      "metadata": {
        "id": "FeQczii2BznV"
      },
      "execution_count": null,
      "outputs": []
    }
  ]
}